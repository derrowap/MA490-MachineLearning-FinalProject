{
 "cells": [
  {
   "cell_type": "markdown",
   "metadata": {},
   "source": [
    "# Neural Networks Attempt to Mimic Several Functions\n",
    "#### Team Leader: Austin Derrow-Pinion\n",
    "#### Team Members: Kice Sanders, Aaron Bartee"
   ]
  },
  {
   "cell_type": "markdown",
   "metadata": {},
   "source": [
    "### Table of Contents\n",
    " \n",
    " * [Executive Summary](#Executive-Summary)\n",
    " * [Introduction](#Introduction)\n",
    " * [Data Preparation](#Data Preparation)\n",
    " * [Links](#Links)\n",
    " * [Supplement](ProjectReportSupplement.ipynb) "
   ]
  },
  {
   "cell_type": "markdown",
   "metadata": {},
   "source": [
    "### Executive Summary\n",
    "In this study, we attempt to compare the power of neural networks’ ability to mimic functions with the functions themselves. The Universal Approximation Theorem states that for any continuous function, there exists a feed-forward network with only a single hidden layer that can approximate it. This is motivation for us to try out different functions and try to train a neural network to accurately approximate as many as we can. For functions that are not approximated well, we can observe the function and try to learn more about neural networks as to why it did not learn the function."
   ]
  },
  {
   "cell_type": "markdown",
   "metadata": {},
   "source": [
    "### Introduction\n",
    "The overall objective is to explore the complexity of problems which are able to be solved by applying learning with neural networks. We have programmed several different functions in Python, all of which range in complexity. We can have a loop that feeds in a very large number of inputs to these functions and records the output in order to generate a large amount of data. The programs were made by us so we can generate as much data as we need to train the neural network. \n",
    "\n",
    "With this data, we will use supervised learning by feeding the network with the input data and using back-propagation to update the weights in the network. The neural network will be programmed using TensorFlow. We have been going through tutorials on TensorFlow to learn how to use it, but have not been able to learn how to use this kind of neural network just yet."
   ]
  },
  {
   "cell_type": "markdown",
   "metadata": {},
   "source": [
    "### Data Preparation\n",
    "Since all functions are written by us, we are able to generate all possible inputs in a given range for each function and record the output. This allows us to have as much data as needed to observe the performance of the neural network.\n",
    "\n",
    "Below are examples of how we will generate the data from the functions. Generating all possible examples will allow us to fully train the network as much as we can. We split the data, for example into 90% training and 10% testing, and test the fully trained neural network on the testing data to analyze how well it generalized the function.\n",
    "\n",
    "Each example is a 2-dimensional array, such that the first column is the input data and the second column is the output data. By changing the variable, TRAINING_EXAMPLES, we can increase the data generated for the network to train or test on."
   ]
  },
  {
   "cell_type": "code",
   "execution_count": 2,
   "metadata": {
    "collapsed": false
   },
   "outputs": [
    {
     "name": "stdout",
     "output_type": "stream",
     "text": [
      "Training data for determinant function:\n",
      "[[[[48, 42], [18, 92]], 3659.9999999999995], [[[36, 28], [45, 86]], 1835.9999999999989], [[[52, 74], [52, 7]], -3484.0000000000009], [[[45, 68], [24, 91]], 2462.9999999999995], [[[48, 25], [47, 14]], -503.0], [[[60, 2], [76, 81]], 4707.9999999999955], [[[22, 79], [47, 91]], -1710.9999999999998], [[[53, 31], [80, 78]], 1653.9999999999998], [[[85, 37], [45, 5]], -1240.0000000000005], [[[51, 57], [44, 29]], -1028.9999999999998]]\n"
     ]
    }
   ],
   "source": [
    "import numpy as np\n",
    "from trainingFunctions import *\n",
    "\n",
    "# Inputs are 2x2 integer matrices, output is the determinant.\n",
    "TRAINING_EXAMPLES = 10\n",
    "determinant_example = []\n",
    "for x in range(TRAINING_EXAMPLES):\n",
    "    input_ = [[np.random.randint(0,100), np.random.randint(0,100)],\n",
    "             [np.random.randint(0,100), np.random.randint(0,100)]]\n",
    "    output = determinant(input_)\n",
    "    determinant_example.append([input_, output])\n",
    "print(\"Training data for determinant function:\")\n",
    "print(determinant_example)"
   ]
  },
  {
   "cell_type": "code",
   "execution_count": 4,
   "metadata": {
    "collapsed": false
   },
   "outputs": [
    {
     "name": "stdout",
     "output_type": "stream",
     "text": [
      "Training data for fib function:\n",
      "[  1.   2.   3.   4.   5.   6.   7.   8.   9.  10.]\n",
      "[  1.   1.   2.   3.   5.   8.  13.  21.  34.  55.]\n"
     ]
    }
   ],
   "source": [
    "# Fill the input array, x, with numbers 1 to TRAINING_EXAMPLES representing the indexes in the fib sequence\n",
    "# Fill the output array y, with the first TRAINING_EXAMPELS fibonacci numbers\n",
    "TRAINING_EXAMPLES = 10\n",
    "x = np.zeros(TRAINING_EXAMPLES)\n",
    "y = np.zeros(TRAINING_EXAMPLES)\n",
    "for i in range(TRAINING_EXAMPLES):\n",
    "    x[i] = i + 1\n",
    "    y[i] = fib(i + 1)\n",
    "print(\"Training data for fib function:\")\n",
    "print(x)\n",
    "print(y)"
   ]
  },
  {
   "cell_type": "code",
   "execution_count": 5,
   "metadata": {
    "collapsed": false
   },
   "outputs": [
    {
     "name": "stdout",
     "output_type": "stream",
     "text": [
      "Training data for evenParity function:\n",
      "[[0 0 0 0 0 0 0 0 0 0 0 0 0 0 0 0]\n",
      " [0 0 0 0 0 0 0 0 0 0 0 0 0 0 0 1]\n",
      " [0 0 0 0 0 0 0 0 0 0 0 0 0 0 1 0]\n",
      " [0 0 0 0 0 0 0 0 0 0 0 0 0 0 1 1]\n",
      " [0 0 0 0 0 0 0 0 0 0 0 0 0 1 0 0]\n",
      " [0 0 0 0 0 0 0 0 0 0 0 0 0 1 0 1]\n",
      " [0 0 0 0 0 0 0 0 0 0 0 0 0 1 1 0]\n",
      " [0 0 0 0 0 0 0 0 0 0 0 0 0 1 1 1]\n",
      " [0 0 0 0 0 0 0 0 0 0 0 0 1 0 0 0]\n",
      " [0 0 0 0 0 0 0 0 0 0 0 0 1 0 0 1]]\n",
      "[0 1 1 0 1 0 0 1 1 0]\n"
     ]
    }
   ],
   "source": [
    "# Fill the input array, x, with the binary representation of 0 to TRAINING_EXAMPLES\n",
    "# Fill the output array y, with the output of evenParity() function with each 16-bit integer\n",
    "TRAINING_EXAMPLES = 10\n",
    "x = np.zeros((TRAINING_EXAMPLES, 16), dtype='int32')\n",
    "y = np.zeros(TRAINING_EXAMPLES, dtype='int32')\n",
    "for i in range(TRAINING_EXAMPLES):\n",
    "    temp = bin(i)[2:].zfill(16)\n",
    "    x[i] = [int(j) for j in temp]\n",
    "    y[i] = evenParity(i)\n",
    "print(\"Training data for evenParity function:\")\n",
    "print(x)\n",
    "print(y)"
   ]
  },
  {
   "cell_type": "code",
   "execution_count": 6,
   "metadata": {
    "collapsed": false
   },
   "outputs": [
    {
     "name": "stdout",
     "output_type": "stream",
     "text": [
      "Readable data:\n",
      "[['jikbqscgmcrjouvaqxkcsemdsqffqsdmesckxqavuojrcmgcsqbkij', True], ['culhcrffqy', False], ['bolkfhheirtkurfqscqlmkbujncv', False], ['alsnkjinqakpemipjaocyccqqylujq', False], ['qthpbodsyfagbwyvqdbajynvdxuhnwrijyyjirwnhuxdvnyjabdqvywbgafysdobphtq', True], ['pneumonoultramicroscopicsilicovolcanoconiosissisoinoconaclovociliscipocsorcimartluonomuenp', True]]\n",
      "------------------------------------------------------------------------\n",
      "Data to feed to network:\n",
      "[[[106, 105, 107, 98, 113, 115, 99, 103, 109, 99, 114, 106, 111, 117, 118, 97, 113, 120, 107, 99, 115, 101, 109, 100, 115, 113, 102, 102, 113, 115, 100, 109, 101, 115, 99, 107, 120, 113, 97, 118, 117, 111, 106, 114, 99, 109, 103, 99, 115, 113, 98, 107, 105, 106], True], [[99, 117, 108, 104, 99, 114, 102, 102, 113, 121], False], [[98, 111, 108, 107, 102, 104, 104, 101, 105, 114, 116, 107, 117, 114, 102, 113, 115, 99, 113, 108, 109, 107, 98, 117, 106, 110, 99, 118], False], [[97, 108, 115, 110, 107, 106, 105, 110, 113, 97, 107, 112, 101, 109, 105, 112, 106, 97, 111, 99, 121, 99, 99, 113, 113, 121, 108, 117, 106, 113], False], [[113, 116, 104, 112, 98, 111, 100, 115, 121, 102, 97, 103, 98, 119, 121, 118, 113, 100, 98, 97, 106, 121, 110, 118, 100, 120, 117, 104, 110, 119, 114, 105, 106, 121, 121, 106, 105, 114, 119, 110, 104, 117, 120, 100, 118, 110, 121, 106, 97, 98, 100, 113, 118, 121, 119, 98, 103, 97, 102, 121, 115, 100, 111, 98, 112, 104, 116, 113], True], [[112, 110, 101, 117, 109, 111, 110, 111, 117, 108, 116, 114, 97, 109, 105, 99, 114, 111, 115, 99, 111, 112, 105, 99, 115, 105, 108, 105, 99, 111, 118, 111, 108, 99, 97, 110, 111, 99, 111, 110, 105, 111, 115, 105, 115, 115, 105, 115, 111, 105, 110, 111, 99, 111, 110, 97, 99, 108, 111, 118, 111, 99, 105, 108, 105, 115, 99, 105, 112, 111, 99, 115, 111, 114, 99, 105, 109, 97, 114, 116, 108, 117, 111, 110, 111, 109, 117, 101, 110, 112], True]]\n"
     ]
    }
   ],
   "source": [
    "# Get training data for the isPalindrome function\n",
    "# using a range of letters from 'a' to 'z' (97 - 122)\n",
    "\n",
    "TRAINING_EXAMPLES = 5\n",
    "readable_data = []\n",
    "real_data = []\n",
    "for x in range(TRAINING_EXAMPLES):\n",
    "    # generate 10 training examples\n",
    "    size_of_string = np.random.randint(1,50) # range can increase\n",
    "    input_ = [np.random.randint(97, 122) for x in range(size_of_string)]\n",
    "    if np.random.randint(1,3) == 1:\n",
    "        # half the time, make it a guaranteed palindrome\n",
    "        input_ = makePalindrome(input_)\n",
    "    output = isPalindrome(input_)\n",
    "    real_data.append([input_, output])\n",
    "    input_ = \"\".join([chr(i) for i in input_])\n",
    "    readable_data.append([input_, output])\n",
    "\n",
    "# Manually test this palindrome. A disease that causes inflammation\n",
    "# in the lungs from inhaling very fine silica dust.\n",
    "input_ = makePalindrome('pneumonoultramicroscopicsilicovolcanoconiosis')\n",
    "output = isPalindrome(input_)\n",
    "readable_data.append([input_, output])\n",
    "input_ = [ord(i) for i in input_]\n",
    "real_data.append([input_, output])\n",
    "\n",
    "print(\"Readable data:\")\n",
    "print(readable_data)\n",
    "print('------------------------------------------------------------------------')\n",
    "print(\"Data to feed to network:\")\n",
    "print(real_data)"
   ]
  },
  {
   "cell_type": "markdown",
   "metadata": {},
   "source": [
    "### Analysis\n",
    "In this section, describe machine learning techniques used. Comment code cells. Include text cells for additional explanations."
   ]
  },
  {
   "cell_type": "markdown",
   "metadata": {},
   "source": [
    "##### addThem(n, m): Calculates the sum of n and m."
   ]
  },
  {
   "cell_type": "markdown",
   "metadata": {},
   "source": [
    "Using the skflow library, I trained a TensorFlowDNNRegressor with two hidden units to provide the same output as the function. \n",
    "<br>Process:\n",
    "* Generated 1,000,000 random examples of adding numbers between 1 and 500.\n",
    "    * Trained over 100,000 iterations.\n",
    "    * Provided around 80% error.\n",
    "    * We believed this was because the examples were too random and was unable to see all possible cases to generalize.\n",
    "* Generated all possible cases of adding numbers between 1 and 500.\n",
    "    * Trained over 100,000 iterations.\n",
    "    * Neural network was able to extrapolate past the input data and have 100% accuracy up to around 700.\n",
    "* Generated all possible cases of adding numbers between 1 and 1,000.\n",
    "    * Trained over 100,000 iterations.\n",
    "    * Provided an error rate of 0.107, which means it generalized fairly well, but not perfectly.\n",
    "* Generated all possible cases of adding numbers between 1 and 10,000.\n",
    "    * Trained it over 2,000,000 iterations.\n",
    "    * Provided an error rate of 49.00%, which suggests a single hidden layer would be unable to generalize on a large scale.\n",
    "    \n",
    "Adding two numbers together is proved to be a simple task for neural networks to learn. In order to teach them on a larger scale, it would be necessary to modify the architecture by adding more hidden layers."
   ]
  },
  {
   "cell_type": "markdown",
   "metadata": {},
   "source": [
    "##### multiply(n, m): Calculates the product of n and m."
   ]
  },
  {
   "cell_type": "markdown",
   "metadata": {},
   "source": [
    "Using the skflow library, I trained a TensorFlowDNNRegressor with two hidden units to provide the same output as the function. \n",
    "<br>Process:\n",
    "* Generated all possible cases of n and m ranging from 1 to 10.\n",
    "    * Trained over 1,000 Iterations.\n",
    "        * Error was 96%, did not learn much at all.\n",
    "    * Trained over 10,000 iterations.\n",
    "        * Error was 95%, not much of a difference.\n",
    "    * Trained over 50,000 iterations.\n",
    "        * Error was still up at 92%.\n",
    "    * Trained over 100,000 iteration.\n",
    "        * Error was at 90% showing a small decrease in error rate as more training occurs.\n",
    "    * Trained over 500,000 iterations.\n",
    "        * Error was at 91%, which tells me the neural network wasn't learning after all.\n",
    "    * Trained over 1,000,000 iterations.\n",
    "        * Error was at 92%. At this point, I knew for sure that the number of iterations was not effecting the error rate anymore.\n",
    "\n",
    "This function, with this error rate needed to try out a new architecture."
   ]
  },
  {
   "cell_type": "markdown",
   "metadata": {},
   "source": [
    "We ran 200 different processes, each one training on how to mimic the function multiply(n, m) with all possible ranges between 1 and 10. Each Neural Network Regressor trained with 100,000 steps. Before doing this, I had a hypothesis that the best number of units in the hidden layer is the square of the max number in the range. For example, since these range from 1 to 10, my hypothesis is the best number of units in the hidden layer is 10^2, or 100. \n",
    "<br><br>The graph below displays the results of this analysis.\n",
    "![Best Hidden Layer Graph](./images/multiply_hidden_units.png)\n",
    "* At 90 hidden units, it reaches an accurate prediction with MSE of 0.148.\n",
    "* At 100 hidden units, it predicts with MSE of 0.303\n",
    "* It best predicts with 200 hidden units with an MSE of 0.039\n",
    "\n",
    "This tells me that my hypothesis was very wrong. Because of this, I wondered why having 200 hidden units performed so well. The total data was split into 90% training data and 10% testing. All of the errors were calculated on the test data."
   ]
  },
  {
   "cell_type": "markdown",
   "metadata": {},
   "source": [
    "##### evenParity(n): Outputs a 0 if the number of 1 bits in the binary representation of n is even, else outputs a 1."
   ]
  },
  {
   "cell_type": "markdown",
   "metadata": {},
   "source": [
    "Using the skflow library, I trained a TensorFlowDNNClassifier with sixteen hidden units to provide the same output as the function. \n",
    "<br>Process:\n",
    "* Generated every 16 bit integer, 1 - 65,535.\n",
    "    * Trained over 1,000 iterations.\n",
    "        * Error rate was at 49.97%, which means the neural network is just guessing since there are only 2 possible outputs.\n",
    "    * Trained over 10,000 iterations.\n",
    "        * Error rate was at 50.01%, which means it is still guessing.\n",
    "    * Trained over 50,000 iterations.\n",
    "        * Error rate was at 43.69%. It shows some improvement, but nothing too significant.\n",
    "    * Trained over 100,000 iterations.\n",
    "        * Error rate was at 18.46%. This is great improvement! Somewhere between 50,000 and 100,000 iterations, the neural network really starts learning.\n",
    "    * Trained over 500,000 iterations.\n",
    "        * Error rate was at 3.15%. The neural network is now showing consistent learning. There is room for improvement still though.\n",
    "    * Trained over 1,000,000 iterations.\n",
    "        * Error rate was at 3.84. This means that somewhere between 100,000 and 500,000 iterations is equivalent to training over 1,000,000 iterations."
   ]
  },
  {
   "cell_type": "markdown",
   "metadata": {
    "collapsed": true
   },
   "source": [
    "We originally expected this to be a function which is unable to be learned by a neural network. The network we trained used all possible 16 bit integers. By doing this, we were able to construct the architecture to be a fully connected network with 16 input units and 16 output units. By trial and error, I found 16 to be the best number of units in the hidden layer.\n",
    "\n",
    "We analyzed how quickly it was able to accurately predict on test data. We trained it on 90% of all the possible cases, then tested it on the remaining 10%. The results are shown in the graph below.\n",
    "![Parity Error Over All Steps](./images/parity_error_large.png)\n",
    "This showed it leveled off to remain at about the same MSE after 150,000 steps of training. It is a bit difficult to see the differences past then, so I have provided another graph zoomed in.\n",
    "![Parity Error Zoomed In](./images/parity_error_small.png)\n",
    "Even though the MSE fluctuates a bit, the neural network is trained as accurately as it can with the given data anywhere in this range. That is because of slight overfittings caused by continuous training on the same data.\n",
    "\n",
    "Overall, we were very impressed with the neural network's ability to learn this function."
   ]
  },
  {
   "cell_type": "markdown",
   "metadata": {},
   "source": [
    "#### adder(n): Adds 42 to n\n",
    "\n",
    "Process:\n",
    "* Tried different methods of generating data to find which worked the best\n",
    "    * All possible values 0-100\n",
    "    * 1000 random values 0-100\n",
    "    * All possible values 0-100 10 times for a total of 1000 datum\n",
    "    * All possible values 0-100 100 times for a total of 10000 datum\n",
    "* Experimented with single layer hidden units 1-20\n",
    "* Experimented with two layer hidden units [1-20, 1-20]\n",
    "* Found how well each different neural net extrapolated to other values\n",
    "* Tried to scale data up to learn 1-1000\n",
    "\n",
    "Results:\n",
    "\n",
    "<table>\n",
    "    <thead>\n",
    "        <td>Data</td>\n",
    "        <td>MSE</td>\n",
    "    </thead>\n",
    "    <tr>\n",
    "        <td>100 data: 1-100</td>\n",
    "        <td>.065861</td>\n",
    "    </tr>\n",
    "    <tr>\n",
    "        <td>1000 datum: random(100)</td>\n",
    "        <td>.028475</td>\n",
    "    </tr>\n",
    "    <tr>\n",
    "        <td>1000 datum: 1-100 10 times</td>\n",
    "        <td>.007759</td>\n",
    "    </tr>\n",
    "    <tr>\n",
    "        <td>10000 datum: 1-100 100 times</td>\n",
    "        <td>409.116</td>\n",
    "    </tr>\n",
    "</table>\n",
    "\n",
    "The results seemed to show that iterating through every possibility multiple times and then training on that is the best method of data gathering. As with many things in this, you have to find the fine line of having the right amount of data without having too much. \n",
    "\n",
    "I was interested in how far a neural net could extrapolate to numbers that it had never seen before. Although this should have been an easy problem because it is linear, it wasn't because SkFlow doesn't allow you to choose the activation function for your regressor. Most all of the single and double layer neural nets I trained failed around 200-300, however there was one that stood out and was able to correctly predict 1-1145 with just training on 1-100\n"
   ]
  },
  {
   "cell_type": "code",
   "execution_count": 8,
   "metadata": {
    "collapsed": false
   },
   "outputs": [
    {
     "data": {
      "text/html": [
       "\n",
       "\n",
       "    <script type=\"text/javascript\">\n",
       "      \n",
       "      (function(global) {\n",
       "        function now() {\n",
       "          return new Date();\n",
       "        }\n",
       "      \n",
       "        if (typeof (window._bokeh_onload_callbacks) === \"undefined\") {\n",
       "          window._bokeh_onload_callbacks = [];\n",
       "        }\n",
       "      \n",
       "        function run_callbacks() {\n",
       "          window._bokeh_onload_callbacks.forEach(function(callback) { callback() });\n",
       "          delete window._bokeh_onload_callbacks\n",
       "          console.info(\"Bokeh: all callbacks have finished\");\n",
       "        }\n",
       "      \n",
       "        function load_libs(js_urls, callback) {\n",
       "          window._bokeh_onload_callbacks.push(callback);\n",
       "          if (window._bokeh_is_loading > 0) {\n",
       "            console.log(\"Bokeh: BokehJS is being loaded, scheduling callback at\", now());\n",
       "            return null;\n",
       "          }\n",
       "          if (js_urls == null || js_urls.length === 0) {\n",
       "            run_callbacks();\n",
       "            return null;\n",
       "          }\n",
       "          console.log(\"Bokeh: BokehJS not loaded, scheduling load and callback at\", now());\n",
       "          window._bokeh_is_loading = js_urls.length;\n",
       "          for (var i = 0; i < js_urls.length; i++) {\n",
       "            var url = js_urls[i];\n",
       "            var s = document.createElement('script');\n",
       "            s.src = url;\n",
       "            s.async = false;\n",
       "            s.onreadystatechange = s.onload = function() {\n",
       "              window._bokeh_is_loading--;\n",
       "              if (window._bokeh_is_loading === 0) {\n",
       "                console.log(\"Bokeh: all BokehJS libraries loaded\");\n",
       "                run_callbacks()\n",
       "              }\n",
       "            };\n",
       "            s.onerror = function() {\n",
       "              console.warn(\"failed to load library \" + url);\n",
       "            };\n",
       "            console.log(\"Bokeh: injecting script tag for BokehJS library: \", url);\n",
       "            document.getElementsByTagName(\"head\")[0].appendChild(s);\n",
       "          }\n",
       "        };var js_urls = ['https://cdn.pydata.org/bokeh/release/bokeh-0.11.0.min.js', 'https://cdn.pydata.org/bokeh/release/bokeh-widgets-0.11.0.min.js', 'https://cdn.pydata.org/bokeh/release/bokeh-compiler-0.11.0.min.js'];\n",
       "      \n",
       "        var inline_js = [\n",
       "          function(Bokeh) {\n",
       "            Bokeh.set_log_level(\"info\");\n",
       "          },\n",
       "          function(Bokeh) {\n",
       "            console.log(\"Bokeh: injecting CSS: https://cdn.pydata.org/bokeh/release/bokeh-0.11.0.min.css\");\n",
       "            Bokeh.embed.inject_css(\"https://cdn.pydata.org/bokeh/release/bokeh-0.11.0.min.css\");\n",
       "            console.log(\"Bokeh: injecting CSS: https://cdn.pydata.org/bokeh/release/bokeh-widgets-0.11.0.min.css\");\n",
       "            Bokeh.embed.inject_css(\"https://cdn.pydata.org/bokeh/release/bokeh-widgets-0.11.0.min.css\");\n",
       "          }\n",
       "        ];\n",
       "      \n",
       "        function run_inline_js() {\n",
       "          for (var i = 0; i < inline_js.length; i++) {\n",
       "            inline_js[i](window.Bokeh);\n",
       "          }\n",
       "        }\n",
       "      \n",
       "        if (window._bokeh_is_loading === 0) {\n",
       "          console.log(\"Bokeh: BokehJS loaded, going straight to plotting\");\n",
       "          run_inline_js();\n",
       "        } else {\n",
       "          load_libs(js_urls, function() {\n",
       "            console.log(\"Bokeh: BokehJS plotting callback run at\", now());\n",
       "            run_inline_js();\n",
       "          });\n",
       "        }\n",
       "      }(this));\n",
       "    </script>\n",
       "    <div>\n",
       "        <a href=\"http://bokeh.pydata.org\" target=\"_blank\" class=\"bk-logo bk-logo-small bk-logo-notebook\"></a>\n",
       "        <span>BokehJS successfully loaded.</span>\n",
       "    </div>"
      ]
     },
     "metadata": {},
     "output_type": "display_data"
    },
    {
     "data": {
      "text/html": [
       "\n",
       "\n",
       "    <div class=\"plotdiv\" id=\"ee3eaca1-e996-491f-ad8f-14e742847586\"></div>\n",
       "<script type=\"text/javascript\">\n",
       "  \n",
       "  (function(global) {\n",
       "    function now() {\n",
       "      return new Date();\n",
       "    }\n",
       "  \n",
       "    if (typeof (window._bokeh_onload_callbacks) === \"undefined\") {\n",
       "      window._bokeh_onload_callbacks = [];\n",
       "    }\n",
       "  \n",
       "    function run_callbacks() {\n",
       "      window._bokeh_onload_callbacks.forEach(function(callback) { callback() });\n",
       "      delete window._bokeh_onload_callbacks\n",
       "      console.info(\"Bokeh: all callbacks have finished\");\n",
       "    }\n",
       "  \n",
       "    function load_libs(js_urls, callback) {\n",
       "      window._bokeh_onload_callbacks.push(callback);\n",
       "      if (window._bokeh_is_loading > 0) {\n",
       "        console.log(\"Bokeh: BokehJS is being loaded, scheduling callback at\", now());\n",
       "        return null;\n",
       "      }\n",
       "      if (js_urls == null || js_urls.length === 0) {\n",
       "        run_callbacks();\n",
       "        return null;\n",
       "      }\n",
       "      console.log(\"Bokeh: BokehJS not loaded, scheduling load and callback at\", now());\n",
       "      window._bokeh_is_loading = js_urls.length;\n",
       "      for (var i = 0; i < js_urls.length; i++) {\n",
       "        var url = js_urls[i];\n",
       "        var s = document.createElement('script');\n",
       "        s.src = url;\n",
       "        s.async = false;\n",
       "        s.onreadystatechange = s.onload = function() {\n",
       "          window._bokeh_is_loading--;\n",
       "          if (window._bokeh_is_loading === 0) {\n",
       "            console.log(\"Bokeh: all BokehJS libraries loaded\");\n",
       "            run_callbacks()\n",
       "          }\n",
       "        };\n",
       "        s.onerror = function() {\n",
       "          console.warn(\"failed to load library \" + url);\n",
       "        };\n",
       "        console.log(\"Bokeh: injecting script tag for BokehJS library: \", url);\n",
       "        document.getElementsByTagName(\"head\")[0].appendChild(s);\n",
       "      }\n",
       "    };var element = document.getElementById(\"ee3eaca1-e996-491f-ad8f-14e742847586\");\n",
       "    if (element == null) {\n",
       "      console.log(\"Bokeh: ERROR: autoload.js configured with elementid 'ee3eaca1-e996-491f-ad8f-14e742847586' but no matching script tag was found. \")\n",
       "      return false;\n",
       "    }var js_urls = [];\n",
       "  \n",
       "    var inline_js = [\n",
       "      function(Bokeh) {\n",
       "        Bokeh.$(function() {\n",
       "            var docs_json = {\"f83db216-fcbd-4a70-aa00-57c27478d74b\": {\"version\": \"0.11.0\", \"roots\": {\"root_ids\": [\"ad3c93ec-2e07-4771-addd-c74a5e9801c9\", \"0076aa5e-4206-4b1b-983a-c12416a5803c\"], \"references\": [{\"attributes\": {\"plot\": {\"subtype\": \"Chart\", \"type\": \"Plot\", \"id\": \"ad3c93ec-2e07-4771-addd-c74a5e9801c9\"}, \"ticker\": {\"type\": \"BasicTicker\", \"id\": \"74b3de28-4c46-4abb-aa89-ad0faf926835\"}}, \"type\": \"Grid\", \"id\": \"759c9d01-3f96-4f4b-90a8-4a313f42cb60\"}, {\"attributes\": {}, \"type\": \"BasicTickFormatter\", \"id\": \"9a4cce82-3ed8-468c-8f97-487d14df3704\"}, {\"attributes\": {}, \"type\": \"BasicTicker\", \"id\": \"74b3de28-4c46-4abb-aa89-ad0faf926835\"}, {\"attributes\": {\"line_color\": {\"value\": \"black\"}, \"line_alpha\": {\"value\": 1.0}, \"render_mode\": \"css\", \"bottom_units\": \"screen\", \"level\": \"overlay\", \"top_units\": \"screen\", \"fill_alpha\": {\"value\": 0.5}, \"plot\": null, \"left_units\": \"screen\", \"line_dash\": [4, 4], \"line_width\": {\"value\": 2}, \"right_units\": \"screen\", \"fill_color\": {\"value\": \"lightgrey\"}}, \"type\": \"BoxAnnotation\", \"id\": \"af911628-2212-474c-8145-650cd68b46c1\"}, {\"attributes\": {\"nonselection_glyph\": null, \"data_source\": {\"type\": \"ColumnDataSource\", \"id\": \"eb3ba548-89f2-42c6-ac3a-29daed2bf059\"}, \"selection_glyph\": null, \"hover_glyph\": null, \"glyph\": {\"type\": \"Circle\", \"id\": \"9124320f-bc35-4c8d-b554-0ddb6fe79855\"}}, \"type\": \"GlyphRenderer\", \"id\": \"4d47669d-9504-49ba-bf1b-ac6f5ed23ec4\"}, {\"attributes\": {}, \"type\": \"BasicTickFormatter\", \"id\": \"0cbb7d48-b0c1-4630-b7f2-9e3c9841eb2b\"}, {\"attributes\": {\"plot\": {\"subtype\": \"Chart\", \"type\": \"Plot\", \"id\": \"ad3c93ec-2e07-4771-addd-c74a5e9801c9\"}}, \"type\": \"HelpTool\", \"id\": \"db17564a-1e6c-48ce-8ce2-ac125dbe5eaa\"}, {\"attributes\": {\"plot\": {\"subtype\": \"Figure\", \"type\": \"Plot\", \"id\": \"0076aa5e-4206-4b1b-983a-c12416a5803c\"}}, \"type\": \"ResizeTool\", \"id\": \"ea0a594e-a956-4890-b653-fdb41e5e3ed3\"}, {\"attributes\": {\"nonselection_glyph\": {\"type\": \"Line\", \"id\": \"d5e4e7d1-2f8f-4b1c-9674-79ac1d99b681\"}, \"data_source\": {\"type\": \"ColumnDataSource\", \"id\": \"7d3cb541-652b-47e5-9b96-dc24b6b32871\"}, \"selection_glyph\": null, \"hover_glyph\": null, \"glyph\": {\"type\": \"Line\", \"id\": \"f7613733-c070-47a3-b01a-042ff756109f\"}}, \"type\": \"GlyphRenderer\", \"id\": \"eac1508d-3ed9-440d-864c-ca49f6781ff1\"}, {\"attributes\": {\"line_color\": {\"value\": \"#1f77b4\"}, \"line_alpha\": {\"value\": 0.1}, \"y\": {\"field\": \"y\"}, \"x\": {\"field\": \"x\"}}, \"type\": \"Line\", \"id\": \"b50f9ea2-11f9-4a64-8bbf-a8a0b43e42bb\"}, {\"attributes\": {\"nonselection_glyph\": {\"type\": \"Line\", \"id\": \"b50f9ea2-11f9-4a64-8bbf-a8a0b43e42bb\"}, \"data_source\": {\"type\": \"ColumnDataSource\", \"id\": \"221ba8c4-e9fc-45f9-9a16-b00c690b4a23\"}, \"selection_glyph\": null, \"hover_glyph\": null, \"glyph\": {\"type\": \"Line\", \"id\": \"c2e76406-f7ff-4477-9cec-f76599cc50ed\"}}, \"type\": \"GlyphRenderer\", \"id\": \"ef734477-e083-424e-b7b7-42965ef3620c\"}, {\"attributes\": {\"callback\": null, \"column_names\": [\"y\", \"x\"], \"data\": {\"y\": [-2.19, -0.557, 0.812, 0.0786, -0.29600000000000004, -0.659, -0.9440000000000001, -0.9690000000000001, -0.9159999999999999, -0.726, -0.469, -0.23399999999999999, 0.157, 0.445, 0.691, 0.8370000000000001, 1.01, 1.05, 0.9279999999999999, 0.71, 0.43700000000000006, 0.141, -0.21, -0.503, -0.722, -0.86, -0.9159999999999999, -0.895, -0.7929999999999999, -0.605, -0.37799999999999995, -0.128, 0.13, 0.38, 0.607, 0.78, 0.8690000000000001, 0.887, 0.8320000000000001, 0.701, 0.495, 0.222, -0.102, -0.44299999999999995, -0.674, -0.875, -1.01, -1.05, -0.95, -0.69, -0.251, -0.15, 0.175, 0.40700000000000003, 0.6559999999999999, 0.883, 0.9159999999999999, 0.7929999999999999, 0.5820000000000001, 0.34700000000000003, 0.134, 0.179, 0.247, 6.75], \"x\": [-10.0, -9.68, -9.36, -9.04, -8.73, -8.41, -8.09, -7.77, -7.46, -7.14, -6.82, -6.51, -6.19, -5.87, -5.55, -5.24, -4.92, -4.6, -4.28, -3.97, -3.65, -3.33, -3.01, -2.7, -2.38, -2.06, -1.75, -1.43, -1.11, -0.7929999999999999, -0.47600000000000003, -0.159, 0.159, 0.47600000000000003, 0.7929999999999999, 1.11, 1.43, 1.75, 2.06, 2.38, 2.7, 3.01, 3.33, 3.65, 3.97, 4.28, 4.6, 4.92, 5.24, 5.55, 5.87, 6.19, 6.51, 6.82, 7.14, 7.46, 7.77, 8.09, 8.41, 8.73, 9.04, 9.36, 9.68, 10.0]}}, \"type\": \"ColumnDataSource\", \"id\": \"5615518a-f374-492a-90f4-651c4164433d\"}, {\"attributes\": {\"plot\": {\"subtype\": \"Chart\", \"type\": \"Plot\", \"id\": \"ad3c93ec-2e07-4771-addd-c74a5e9801c9\"}, \"axis_label\": \"Prediction\", \"formatter\": {\"type\": \"BasicTickFormatter\", \"id\": \"efb154cf-76fe-406e-99a2-7d756aefe1c7\"}, \"ticker\": {\"type\": \"BasicTicker\", \"id\": \"2d8af54c-6027-417e-ad77-e569dfc103d0\"}}, \"type\": \"LinearAxis\", \"id\": \"9b239339-c159-4003-a791-a8ab18a892c9\"}, {\"attributes\": {}, \"type\": \"BasicTicker\", \"id\": \"7ee23a3d-e7dc-4f50-8f10-e81c96474120\"}, {\"attributes\": {\"plot\": {\"subtype\": \"Chart\", \"type\": \"Plot\", \"id\": \"ad3c93ec-2e07-4771-addd-c74a5e9801c9\"}}, \"type\": \"PanTool\", \"id\": \"82047435-4e22-4c61-888c-a21109bb1ef9\"}, {\"attributes\": {\"line_color\": {\"value\": \"#1f77b4\"}, \"line_alpha\": {\"value\": 0.1}, \"y\": {\"field\": \"y\"}, \"x\": {\"field\": \"x\"}}, \"type\": \"Line\", \"id\": \"45cc3768-7b00-402c-96bf-fd6515cbc5f7\"}, {\"attributes\": {\"line_color\": {\"value\": \"#1f77b4\"}, \"line_alpha\": {\"value\": 0.1}, \"y\": {\"field\": \"y\"}, \"x\": {\"field\": \"x\"}}, \"type\": \"Line\", \"id\": \"1c473cf5-484e-43f4-ad0d-0f8e6e979db3\"}, {\"attributes\": {}, \"type\": \"BasicTickFormatter\", \"id\": \"4858ed61-561c-4781-98ba-9951e3151568\"}, {\"attributes\": {\"plot\": {\"subtype\": \"Figure\", \"type\": \"Plot\", \"id\": \"0076aa5e-4206-4b1b-983a-c12416a5803c\"}}, \"type\": \"PreviewSaveTool\", \"id\": \"cc5f6bff-9c74-44ee-8369-87b38c5baef7\"}, {\"attributes\": {\"plot\": {\"subtype\": \"Chart\", \"type\": \"Plot\", \"id\": \"ad3c93ec-2e07-4771-addd-c74a5e9801c9\"}}, \"type\": \"ResetTool\", \"id\": \"f03a7004-292c-4aca-85b7-2718037da287\"}, {\"attributes\": {}, \"type\": \"BasicTickFormatter\", \"id\": \"efb154cf-76fe-406e-99a2-7d756aefe1c7\"}, {\"attributes\": {\"callback\": null, \"column_names\": [\"x_values\", \"y_values\"], \"data\": {\"x_values\": [-9.36, -9.04, -8.73, -8.41, -8.09, -7.77, -7.46, -7.14, -6.82, -6.51, -6.19, -5.87, -5.55, -5.24, -4.92, -4.6, -4.28, -3.97, -3.65, -3.33, -3.01, -2.7, -2.38, -2.06, -1.75, -1.43, -1.11, -0.7929999999999999, -0.47600000000000003, -0.159, 0.159, 0.47600000000000003, 0.7929999999999999, 1.11, 1.43, 1.75, 2.06, 2.38, 2.7, 3.01, 3.33, 3.65, 3.97, 4.28, 4.6, 4.92, 5.24, 5.55, 5.87, 6.19, 6.51, 6.82, 7.14, 7.46, 7.77, 8.09, 8.41, 8.73, 9.04, 9.36], \"chart_index\": [null, null, null, null, null, null, null, null, null, null, null, null, null, null, null, null, null, null, null, null, null, null, null, null, null, null, null, null, null, null, null, null, null, null, null, null, null, null, null, null, null, null, null, null, null, null, null, null, null, null, null, null, null, null, null, null, null, null, null, null], \"y_values\": [0.812, 0.0786, -0.29600000000000004, -0.659, -0.9440000000000001, -0.9690000000000001, -0.9159999999999999, -0.726, -0.469, -0.23399999999999999, 0.157, 0.445, 0.691, 0.8370000000000001, 1.01, 1.05, 0.9279999999999999, 0.71, 0.43700000000000006, 0.141, -0.21, -0.503, -0.722, -0.86, -0.9159999999999999, -0.895, -0.7929999999999999, -0.605, -0.37799999999999995, -0.128, 0.13, 0.38, 0.607, 0.78, 0.8690000000000001, 0.887, 0.8320000000000001, 0.701, 0.495, 0.222, -0.102, -0.44299999999999995, -0.674, -0.875, -1.01, -1.05, -0.95, -0.69, -0.251, -0.15, 0.175, 0.40700000000000003, 0.6559999999999999, 0.883, 0.9159999999999999, 0.7929999999999999, 0.5820000000000001, 0.34700000000000003, 0.134, 0.179]}}, \"type\": \"ColumnDataSource\", \"id\": \"eb3ba548-89f2-42c6-ac3a-29daed2bf059\"}, {\"attributes\": {\"plot\": {\"subtype\": \"Figure\", \"type\": \"Plot\", \"id\": \"0076aa5e-4206-4b1b-983a-c12416a5803c\"}, \"formatter\": {\"type\": \"BasicTickFormatter\", \"id\": \"0cbb7d48-b0c1-4630-b7f2-9e3c9841eb2b\"}, \"ticker\": {\"type\": \"BasicTicker\", \"id\": \"ba91ef80-bb62-454d-8464-f865e75a0ef1\"}}, \"type\": \"LinearAxis\", \"id\": \"dc958ee0-cc56-4cc0-b6d2-f1877450b498\"}, {\"attributes\": {\"plot\": {\"subtype\": \"Figure\", \"type\": \"Plot\", \"id\": \"0076aa5e-4206-4b1b-983a-c12416a5803c\"}, \"formatter\": {\"type\": \"BasicTickFormatter\", \"id\": \"4858ed61-561c-4781-98ba-9951e3151568\"}, \"ticker\": {\"type\": \"BasicTicker\", \"id\": \"7ee23a3d-e7dc-4f50-8f10-e81c96474120\"}}, \"type\": \"LinearAxis\", \"id\": \"88553e02-c7b0-4b48-a0a3-b8fbdd212d59\"}, {\"attributes\": {}, \"type\": \"ToolEvents\", \"id\": \"21562719-152c-4fcc-ba36-0b7dc5484112\"}, {\"attributes\": {\"plot\": {\"subtype\": \"Figure\", \"type\": \"Plot\", \"id\": \"0076aa5e-4206-4b1b-983a-c12416a5803c\"}, \"ticker\": {\"type\": \"BasicTicker\", \"id\": \"7ee23a3d-e7dc-4f50-8f10-e81c96474120\"}}, \"type\": \"Grid\", \"id\": \"f66bc74d-91e5-483c-a0cb-50d7c6a686b2\"}, {\"attributes\": {\"x_range\": {\"type\": \"DataRange1d\", \"id\": \"74662672-856d-47fb-b954-0fb95748c737\"}, \"y_range\": {\"type\": \"DataRange1d\", \"id\": \"c9a3d9a6-9586-477f-81b8-1f13d4f44abf\"}, \"renderers\": [{\"type\": \"LinearAxis\", \"id\": \"88553e02-c7b0-4b48-a0a3-b8fbdd212d59\"}, {\"type\": \"Grid\", \"id\": \"f66bc74d-91e5-483c-a0cb-50d7c6a686b2\"}, {\"type\": \"LinearAxis\", \"id\": \"dc958ee0-cc56-4cc0-b6d2-f1877450b498\"}, {\"type\": \"Grid\", \"id\": \"9f211c50-73cd-4c0a-bc1f-c068161a7e3f\"}, {\"type\": \"BoxAnnotation\", \"id\": \"af911628-2212-474c-8145-650cd68b46c1\"}, {\"type\": \"GlyphRenderer\", \"id\": \"f803bab5-a76a-4d7e-a82d-f0433459301f\"}, {\"type\": \"GlyphRenderer\", \"id\": \"ef734477-e083-424e-b7b7-42965ef3620c\"}, {\"type\": \"GlyphRenderer\", \"id\": \"eac1508d-3ed9-440d-864c-ca49f6781ff1\"}, {\"type\": \"GlyphRenderer\", \"id\": \"d195ff34-e40b-4457-9d86-8e5316bfa967\"}], \"below\": [{\"type\": \"LinearAxis\", \"id\": \"88553e02-c7b0-4b48-a0a3-b8fbdd212d59\"}], \"tool_events\": {\"type\": \"ToolEvents\", \"id\": \"ab1645fb-f71a-4e85-9c62-ab2f0e23989e\"}, \"tools\": [{\"type\": \"PanTool\", \"id\": \"44e0aef7-4e68-4fd3-8145-dcad2d8e0cc6\"}, {\"type\": \"WheelZoomTool\", \"id\": \"c00c1655-e216-4658-9c78-6998792e38f9\"}, {\"type\": \"BoxZoomTool\", \"id\": \"15fd8136-39dc-4b52-ae9f-30faaaebe3a0\"}, {\"type\": \"PreviewSaveTool\", \"id\": \"cc5f6bff-9c74-44ee-8369-87b38c5baef7\"}, {\"type\": \"ResizeTool\", \"id\": \"ea0a594e-a956-4890-b653-fdb41e5e3ed3\"}, {\"type\": \"ResetTool\", \"id\": \"6303769f-fd06-4891-bab7-bbb13df6c1c2\"}, {\"type\": \"HelpTool\", \"id\": \"12920db3-d8c3-4625-a389-6555e95f2c4c\"}], \"left\": [{\"type\": \"LinearAxis\", \"id\": \"dc958ee0-cc56-4cc0-b6d2-f1877450b498\"}]}, \"type\": \"Plot\", \"id\": \"0076aa5e-4206-4b1b-983a-c12416a5803c\", \"subtype\": \"Figure\"}, {\"attributes\": {\"callback\": null, \"column_names\": [\"y\", \"x\"], \"data\": {\"y\": [-3, 3], \"x\": [9.42477796076938, 9.42477796076938]}}, \"type\": \"ColumnDataSource\", \"id\": \"dbc9ef59-875f-4e7c-a607-b6871a105d4a\"}, {\"attributes\": {\"callback\": null}, \"type\": \"DataRange1d\", \"id\": \"c9a3d9a6-9586-477f-81b8-1f13d4f44abf\"}, {\"attributes\": {\"callback\": null, \"end\": 1.26, \"start\": -1.26}, \"type\": \"Range1d\", \"id\": \"8a89d134-86c7-4428-aa6a-db46d3739fd2\"}, {\"attributes\": {\"x_range\": {\"type\": \"Range1d\", \"id\": \"b4cc45cb-3937-4857-8373-a714758aebdb\"}, \"y_mapper_type\": \"auto\", \"title_text_font_size\": {\"value\": \"14pt\"}, \"yscale\": \"auto\", \"y_range\": {\"type\": \"Range1d\", \"id\": \"8a89d134-86c7-4428-aa6a-db46d3739fd2\"}, \"x_mapper_type\": \"auto\", \"renderers\": [{\"type\": \"BoxAnnotation\", \"id\": \"69b05d18-fa28-46d9-87ab-ff1dc5e24c26\"}, {\"type\": \"GlyphRenderer\", \"id\": \"4d47669d-9504-49ba-bf1b-ac6f5ed23ec4\"}, {\"type\": \"LinearAxis\", \"id\": \"1c637e31-7e23-4cfc-b44c-ca1bfe61e3ee\"}, {\"type\": \"LinearAxis\", \"id\": \"9b239339-c159-4003-a791-a8ab18a892c9\"}, {\"type\": \"Grid\", \"id\": \"759c9d01-3f96-4f4b-90a8-4a313f42cb60\"}, {\"type\": \"Grid\", \"id\": \"9a22c7b4-0fc8-4d48-9513-326b5f2d9241\"}], \"below\": [{\"type\": \"LinearAxis\", \"id\": \"1c637e31-7e23-4cfc-b44c-ca1bfe61e3ee\"}], \"tool_events\": {\"type\": \"ToolEvents\", \"id\": \"21562719-152c-4fcc-ba36-0b7dc5484112\"}, \"xscale\": \"auto\", \"tools\": [{\"type\": \"PanTool\", \"id\": \"82047435-4e22-4c61-888c-a21109bb1ef9\"}, {\"type\": \"WheelZoomTool\", \"id\": \"be8b9ca1-d84f-49af-a9c0-47696e4b3ce1\"}, {\"type\": \"BoxZoomTool\", \"id\": \"c44d8bd2-e0d1-4bf0-aa7b-ab93857364ec\"}, {\"type\": \"PreviewSaveTool\", \"id\": \"b4d60526-5075-46a0-8223-c90daf8a0c56\"}, {\"type\": \"ResizeTool\", \"id\": \"f75002e9-0135-4e00-9267-961bad96b7a7\"}, {\"type\": \"ResetTool\", \"id\": \"f03a7004-292c-4aca-85b7-2718037da287\"}, {\"type\": \"HelpTool\", \"id\": \"db17564a-1e6c-48ce-8ce2-ac125dbe5eaa\"}], \"legend\": null, \"left\": [{\"type\": \"LinearAxis\", \"id\": \"9b239339-c159-4003-a791-a8ab18a892c9\"}]}, \"type\": \"Plot\", \"id\": \"ad3c93ec-2e07-4771-addd-c74a5e9801c9\", \"subtype\": \"Chart\"}, {\"attributes\": {\"callback\": null, \"end\": 11.232, \"start\": -11.232}, \"type\": \"Range1d\", \"id\": \"b4cc45cb-3937-4857-8373-a714758aebdb\"}, {\"attributes\": {\"plot\": {\"subtype\": \"Chart\", \"type\": \"Plot\", \"id\": \"ad3c93ec-2e07-4771-addd-c74a5e9801c9\"}}, \"type\": \"ResizeTool\", \"id\": \"f75002e9-0135-4e00-9267-961bad96b7a7\"}, {\"attributes\": {}, \"type\": \"BasicTicker\", \"id\": \"2d8af54c-6027-417e-ad77-e569dfc103d0\"}, {\"attributes\": {\"plot\": {\"subtype\": \"Chart\", \"type\": \"Plot\", \"id\": \"ad3c93ec-2e07-4771-addd-c74a5e9801c9\"}}, \"type\": \"WheelZoomTool\", \"id\": \"be8b9ca1-d84f-49af-a9c0-47696e4b3ce1\"}, {\"attributes\": {\"line_color\": {\"value\": \"#1f77b4\"}, \"line_alpha\": {\"value\": 0.1}, \"y\": {\"field\": \"y\"}, \"x\": {\"field\": \"x\"}}, \"type\": \"Line\", \"id\": \"d5e4e7d1-2f8f-4b1c-9674-79ac1d99b681\"}, {\"attributes\": {\"line_color\": {\"value\": \"red\"}, \"x\": {\"field\": \"x\"}, \"y\": {\"field\": \"y\"}}, \"type\": \"Line\", \"id\": \"c2e76406-f7ff-4477-9cec-f76599cc50ed\"}, {\"attributes\": {\"line_color\": {\"value\": \"black\"}, \"line_alpha\": {\"value\": 1.0}, \"render_mode\": \"css\", \"bottom_units\": \"screen\", \"level\": \"overlay\", \"top_units\": \"screen\", \"fill_alpha\": {\"value\": 0.5}, \"plot\": null, \"left_units\": \"screen\", \"line_dash\": [4, 4], \"line_width\": {\"value\": 2}, \"right_units\": \"screen\", \"fill_color\": {\"value\": \"lightgrey\"}}, \"type\": \"BoxAnnotation\", \"id\": \"69b05d18-fa28-46d9-87ab-ff1dc5e24c26\"}, {\"attributes\": {\"plot\": {\"subtype\": \"Figure\", \"type\": \"Plot\", \"id\": \"0076aa5e-4206-4b1b-983a-c12416a5803c\"}}, \"type\": \"PanTool\", \"id\": \"44e0aef7-4e68-4fd3-8145-dcad2d8e0cc6\"}, {\"attributes\": {\"plot\": {\"subtype\": \"Figure\", \"type\": \"Plot\", \"id\": \"0076aa5e-4206-4b1b-983a-c12416a5803c\"}, \"ticker\": {\"type\": \"BasicTicker\", \"id\": \"ba91ef80-bb62-454d-8464-f865e75a0ef1\"}, \"dimension\": 1}, \"type\": \"Grid\", \"id\": \"9f211c50-73cd-4c0a-bc1f-c068161a7e3f\"}, {\"attributes\": {\"callback\": null}, \"type\": \"DataRange1d\", \"id\": \"74662672-856d-47fb-b954-0fb95748c737\"}, {\"attributes\": {\"line_color\": {\"value\": \"blue\"}, \"x\": {\"field\": \"x\"}, \"y\": {\"field\": \"y\"}}, \"type\": \"Line\", \"id\": \"e3a0d702-1d3b-4b38-8544-9d79c3bc6a7f\"}, {\"attributes\": {\"plot\": {\"subtype\": \"Chart\", \"type\": \"Plot\", \"id\": \"ad3c93ec-2e07-4771-addd-c74a5e9801c9\"}, \"ticker\": {\"type\": \"BasicTicker\", \"id\": \"2d8af54c-6027-417e-ad77-e569dfc103d0\"}, \"dimension\": 1}, \"type\": \"Grid\", \"id\": \"9a22c7b4-0fc8-4d48-9513-326b5f2d9241\"}, {\"attributes\": {\"y\": {\"field\": \"y\"}, \"x\": {\"field\": \"x\"}}, \"type\": \"Line\", \"id\": \"73d7f80c-d680-44c3-842e-61348be1b795\"}, {\"attributes\": {\"plot\": {\"subtype\": \"Figure\", \"type\": \"Plot\", \"id\": \"0076aa5e-4206-4b1b-983a-c12416a5803c\"}}, \"type\": \"WheelZoomTool\", \"id\": \"c00c1655-e216-4658-9c78-6998792e38f9\"}, {\"attributes\": {\"y\": {\"field\": \"y\"}, \"x\": {\"field\": \"x\"}}, \"type\": \"Line\", \"id\": \"f7613733-c070-47a3-b01a-042ff756109f\"}, {\"attributes\": {\"plot\": {\"subtype\": \"Chart\", \"type\": \"Plot\", \"id\": \"ad3c93ec-2e07-4771-addd-c74a5e9801c9\"}, \"axis_label\": \"Input\", \"formatter\": {\"type\": \"BasicTickFormatter\", \"id\": \"9a4cce82-3ed8-468c-8f97-487d14df3704\"}, \"ticker\": {\"type\": \"BasicTicker\", \"id\": \"74b3de28-4c46-4abb-aa89-ad0faf926835\"}}, \"type\": \"LinearAxis\", \"id\": \"1c637e31-7e23-4cfc-b44c-ca1bfe61e3ee\"}, {\"attributes\": {\"callback\": null, \"column_names\": [\"y\", \"x\"], \"data\": {\"y\": [1.0, 0.9754297868854069, 0.902926538286621, 0.7860530947427871, 0.630552667084522, 0.44406661260577346, 0.23575893550942645, 0.015865963834807057, -0.2048066680651916, -0.4154150130018873, -0.605609687137666, -0.7660444431189776, -0.8888354486549231, -0.9679487013963561, -0.9994965423831851, -0.9819286972627068, -0.9161084574320697, -0.8052702575310587, -0.6548607339452852, -0.4722710747726828, -0.2664738136900351, -0.04758191582374232, 0.1736481776669304, 0.38634512569312873, 0.5800569095711983, 0.7452644496757549, 0.8738493770697852, 0.9594929736144973, 0.9979866764718843, 0.9874388886763944, 0.9283679330160728, 0.8236765814298329, 0.6785094115571323, 0.5000000000000001, 0.296920375328275, 0.07924995685678848, -0.14231483827328517, -0.3568862215918711, -0.5539200638661097, -0.7237340381050698, -0.8579834132349767, -0.9500711177409452, -0.9954719225730846, -0.9919548128307953, -0.9396926207859085, -0.8412535328311813, -0.7014748877063215, -0.5272254676105026, -0.3270679633174217, -0.11083819990101104, 0.11083819990101104, 0.3270679633174217, 0.5272254676105026, 0.7014748877063215, 0.8412535328311803, 0.9396926207859079, 0.9919548128307951, 0.9954719225730847, 0.9500711177409458, 0.8579834132349776, 0.7237340381050709, 0.5539200638661111, 0.3568862215918728, 0.14231483827328606, -0.0792499568567876, -0.2969203753282741, -0.49999999999999933, -0.6785094115571316, -0.8236765814298325, -0.9283679330160725, -0.9874388886763943, -0.9979866764718844, -0.9594929736144975, -0.8738493770697859, -0.745264449675756, -0.5800569095711997, -0.38634512569313034, -0.17364817766693214, 0.04758191582374054, 0.26647381369003337, 0.47227107477268127, 0.6548607339452839, 0.8052702575310577, 0.916108457432069, 0.9819286972627065, 0.9994965423831852, 0.9679487013963566, 0.888835448654924, 0.7660444431189788, 0.6056096871376675, 0.4154150130018873, 0.2048066680651916, -0.015865963834807057, -0.23575893550942645, -0.44406661260577346, -0.630552667084522, -0.7860530947427871, -0.902926538286621, -0.9754297868854069, -1.0], \"x\": [-10.995574287564276, -10.773441473674088, -10.551308659783901, -10.329175845893714, -10.107043032003526, -9.884910218113339, -9.662777404223151, -9.440644590332964, -9.218511776442776, -8.996378962552589, -8.774246148662403, -8.552113334772216, -8.329980520882028, -8.10784770699184, -7.885714893101653, -7.663582079211466, -7.441449265321278, -7.219316451431091, -6.997183637540903, -6.775050823650716, -6.552918009760528, -6.330785195870341, -6.1086523819801535, -5.886519568089966, -5.6643867541997786, -5.442253940309591, -5.220121126419404, -4.997988312529217, -4.77585549863903, -4.553722684748842, -4.331589870858655, -4.109457056968467, -3.8873242430782797, -3.6651914291880923, -3.443058615297905, -3.2209258014077173, -2.99879298751753, -2.7766601736273433, -2.554527359737156, -2.3323945458469684, -2.110261731956781, -1.8881289180665934, -1.665996104176406, -1.4438632902862185, -1.221730476396031, -0.9995976625058436, -0.7774648486156561, -0.5553320347254687, -0.3331992208352812, -0.11106640694509373, 0.11106640694509373, 0.3331992208352812, 0.5553320347254687, 0.7774648486156561, 0.9995976625058418, 1.2217304763960293, 1.4438632902862167, 1.6659961041764042, 1.8881289180665917, 2.110261731956779, 2.3323945458469666, 2.554527359737154, 2.7766601736273415, 2.998792987517529, 3.2209258014077164, 3.443058615297904, 3.6651914291880914, 3.887324243078279, 4.109457056968466, 4.331589870858654, 4.553722684748841, 4.775855498639029, 4.997988312529216, 5.220121126419402, 5.442253940309589, 5.664386754199777, 5.886519568089964, 6.108652381980152, 6.330785195870339, 6.552918009760527, 6.775050823650714, 6.997183637540902, 7.219316451431089, 7.4414492653212765, 7.663582079211464, 7.885714893101651, 8.107847706991839, 8.329980520882026, 8.552113334772214, 8.774246148662401, 8.996378962552589, 9.218511776442776, 9.440644590332964, 9.662777404223151, 9.884910218113339, 10.107043032003526, 10.329175845893714, 10.551308659783901, 10.773441473674088, 10.995574287564276]}}, \"type\": \"ColumnDataSource\", \"id\": \"221ba8c4-e9fc-45f9-9a16-b00c690b4a23\"}, {\"attributes\": {\"plot\": {\"subtype\": \"Figure\", \"type\": \"Plot\", \"id\": \"0076aa5e-4206-4b1b-983a-c12416a5803c\"}, \"overlay\": {\"type\": \"BoxAnnotation\", \"id\": \"af911628-2212-474c-8145-650cd68b46c1\"}}, \"type\": \"BoxZoomTool\", \"id\": \"15fd8136-39dc-4b52-ae9f-30faaaebe3a0\"}, {\"attributes\": {\"nonselection_glyph\": {\"type\": \"Line\", \"id\": \"1c473cf5-484e-43f4-ad0d-0f8e6e979db3\"}, \"data_source\": {\"type\": \"ColumnDataSource\", \"id\": \"dbc9ef59-875f-4e7c-a607-b6871a105d4a\"}, \"selection_glyph\": null, \"hover_glyph\": null, \"glyph\": {\"type\": \"Line\", \"id\": \"73d7f80c-d680-44c3-842e-61348be1b795\"}}, \"type\": \"GlyphRenderer\", \"id\": \"d195ff34-e40b-4457-9d86-8e5316bfa967\"}, {\"attributes\": {}, \"type\": \"BasicTicker\", \"id\": \"ba91ef80-bb62-454d-8464-f865e75a0ef1\"}, {\"attributes\": {\"nonselection_glyph\": {\"type\": \"Line\", \"id\": \"45cc3768-7b00-402c-96bf-fd6515cbc5f7\"}, \"data_source\": {\"type\": \"ColumnDataSource\", \"id\": \"5615518a-f374-492a-90f4-651c4164433d\"}, \"selection_glyph\": null, \"hover_glyph\": null, \"glyph\": {\"type\": \"Line\", \"id\": \"e3a0d702-1d3b-4b38-8544-9d79c3bc6a7f\"}}, \"type\": \"GlyphRenderer\", \"id\": \"f803bab5-a76a-4d7e-a82d-f0433459301f\"}, {\"attributes\": {}, \"type\": \"ToolEvents\", \"id\": \"ab1645fb-f71a-4e85-9c62-ab2f0e23989e\"}, {\"attributes\": {\"plot\": {\"subtype\": \"Chart\", \"type\": \"Plot\", \"id\": \"ad3c93ec-2e07-4771-addd-c74a5e9801c9\"}}, \"type\": \"PreviewSaveTool\", \"id\": \"b4d60526-5075-46a0-8223-c90daf8a0c56\"}, {\"attributes\": {\"plot\": {\"subtype\": \"Figure\", \"type\": \"Plot\", \"id\": \"0076aa5e-4206-4b1b-983a-c12416a5803c\"}}, \"type\": \"HelpTool\", \"id\": \"12920db3-d8c3-4625-a389-6555e95f2c4c\"}, {\"attributes\": {\"line_color\": {\"value\": \"blue\"}, \"fill_color\": {\"value\": \"blue\"}, \"fill_alpha\": {\"value\": 0.7}, \"y\": {\"field\": \"y_values\"}, \"x\": {\"field\": \"x_values\"}, \"size\": {\"units\": \"screen\", \"value\": 8}}, \"type\": \"Circle\", \"id\": \"9124320f-bc35-4c8d-b554-0ddb6fe79855\"}, {\"attributes\": {\"callback\": null, \"column_names\": [\"y\", \"x\"], \"data\": {\"y\": [-3, 3], \"x\": [-9.42477796076938, -9.42477796076938]}}, \"type\": \"ColumnDataSource\", \"id\": \"7d3cb541-652b-47e5-9b96-dc24b6b32871\"}, {\"attributes\": {\"plot\": {\"subtype\": \"Figure\", \"type\": \"Plot\", \"id\": \"0076aa5e-4206-4b1b-983a-c12416a5803c\"}}, \"type\": \"ResetTool\", \"id\": \"6303769f-fd06-4891-bab7-bbb13df6c1c2\"}, {\"attributes\": {\"plot\": {\"subtype\": \"Chart\", \"type\": \"Plot\", \"id\": \"ad3c93ec-2e07-4771-addd-c74a5e9801c9\"}, \"overlay\": {\"type\": \"BoxAnnotation\", \"id\": \"69b05d18-fa28-46d9-87ab-ff1dc5e24c26\"}}, \"type\": \"BoxZoomTool\", \"id\": \"c44d8bd2-e0d1-4bf0-aa7b-ab93857364ec\"}]}, \"title\": \"Bokeh Application\"}};\n",
       "            var render_items = [{\"notebook_comms_target\": \"087dfeca-0a2d-4597-bc96-301fa5516112\", \"docid\": \"f83db216-fcbd-4a70-aa00-57c27478d74b\", \"elementid\": \"ee3eaca1-e996-491f-ad8f-14e742847586\", \"modelid\": \"0076aa5e-4206-4b1b-983a-c12416a5803c\"}];\n",
       "            \n",
       "            Bokeh.embed.embed_items(docs_json, render_items);\n",
       "        });\n",
       "      },\n",
       "      function(Bokeh) {\n",
       "      }\n",
       "    ];\n",
       "  \n",
       "    function run_inline_js() {\n",
       "      for (var i = 0; i < inline_js.length; i++) {\n",
       "        inline_js[i](window.Bokeh);\n",
       "      }\n",
       "    }\n",
       "  \n",
       "    if (window._bokeh_is_loading === 0) {\n",
       "      console.log(\"Bokeh: BokehJS loaded, going straight to plotting\");\n",
       "      run_inline_js();\n",
       "    } else {\n",
       "      load_libs(js_urls, function() {\n",
       "        console.log(\"Bokeh: BokehJS plotting callback run at\", now());\n",
       "        run_inline_js();\n",
       "      });\n",
       "    }\n",
       "  }(this));\n",
       "</script>"
      ]
     },
     "metadata": {},
     "output_type": "display_data"
    },
    {
     "data": {
      "text/plain": [
       "<bokeh.io._CommsHandle at 0x931def0>"
      ]
     },
     "execution_count": 8,
     "metadata": {},
     "output_type": "execute_result"
    }
   ],
   "source": [
    "import pandas as pd\n",
    "from bokeh.charts import Scatter, show\n",
    "from bokeh.plotting import figure\n",
    "from bokeh.io import output_notebook\n",
    "output_notebook()\n",
    "df = pd.read_csv('../MA490-MachineLearning-FinalProject//sineData5.csv')\n",
    "\n",
    "fig = Scatter(df[20:80], x='Input',y='Prediction',color='blue')\n",
    "f = figure()\n",
    "f.line(df.Input.values[18:82], df.Prediction.values[18:82], color='blue')\n",
    "x = np.linspace(-3*np.pi-np.pi/2, 3*np.pi+np.pi/2, 100)\n",
    "y = np.sin(x)\n",
    "f.line(x,y,color='red')\n",
    "x = [-3*np.pi,-3*np.pi]\n",
    "y = [-3,3]\n",
    "f.line(x,y,color='black')\n",
    "x = [3*np.pi,3*np.pi]\n",
    "y = [-3,3]\n",
    "f.line(x,y,color='black')\n",
    "show(f)"
   ]
  },
  {
   "cell_type": "markdown",
   "metadata": {},
   "source": [
    "##### sine(x): Calculates the sine of x."
   ]
  },
  {
   "cell_type": "markdown",
   "metadata": {},
   "source": [
    "Using skflow and its library I trained a TensorFlowDNNRegressor with 9 hidden units.\n",
    "<br>Process:\n",
    "* Originally trained using random data by picking random numbers between 0 and 1000 and converting to radians\n",
    "    * Trained over 10,000 iterations.\n",
    "    * Used 2 hidden units.\n",
    "    * Had very high error.\n",
    "    \n",
    "* Next used 0 to 720 degrees and fed all the values to the net.\n",
    "    * Trained over 10,000 iterations.\n",
    "    * Used 2 hidden units.\n",
    "    * Still had very high error, didn't seem to learn very well.\n",
    "    \n",
    "* Generated 10000 numbers between -π to π and fed the neural network the sine taylor expansion (9 of the terms) for each value.\n",
    "    * Trained over 10,000 iterations.\n",
    "    * Used 9 hidden units.\n",
    "    * Was much more accurate than the previous attempts, can predict in the range between -pi and pi almost spot on.\n",
    "    * As you increase the range the prediction becomes less accurate and heads off to infinite and can't seem to generalize the sine curve.\n",
    "* Generated 10000 numbers between -3π to 3π\n",
    "    * Trained over 100,000 iterations\n",
    "    * Used 9 hidden units\n",
    "    * Still accurate between -3π and 3π yet outside of that range still expands to infinity"
   ]
  },
  {
   "cell_type": "markdown",
   "metadata": {},
   "source": [
    "### Conclusion"
   ]
  },
  {
   "cell_type": "markdown",
   "metadata": {
    "collapsed": true
   },
   "source": [
    "In conclusion, we found out skFlow is only good if you want a quick and easy neural net to learn data, but it is unrealistic for actual applications because it is too specialized and not very customizable. The next step in our neural network exploration would be to learn how to use TensorFlow so that we can customize it based on our needs and optimize it better. Also, a huge downfall is skFlow does not allow you to save the nueral network and continue the training later, like TensorFlow allows you to do.\n",
    "\n",
    "We were able to train with reasonable accuracy on linear functions, continuous functions, and a sine function which has clear repetition. Some of them were able to extrapolate further past the training data, which tells us it did a great job at generalizing the function overall. Others we are currently unsuccessful with extrapolating much past the training data. We had a difficult time trying to find a function it was not able to generalize. The only one was an approximation function for the fibonacci sequence."
   ]
  },
  {
   "cell_type": "markdown",
   "metadata": {},
   "source": [
    "### Links\n",
    "We define several different functions we can use to train a neural network in the [ProjectReportSupplement.ipynb](ProjectReportSupplement.ipynb) notebook.\n",
    "\n",
    "The Universal Law of Approximation is explained here: [http://neuralnetworksanddeeplearning.com/chap4.html]\n",
    "\n",
    "Our code is open sourced on GitHub here:\n",
    "[https://github.com/derrowap/MA490-MachineLearning-FinalProject/blob/master/trainingFunctions.py]"
   ]
  }
 ],
 "metadata": {
  "kernelspec": {
   "display_name": "Python 2",
   "language": "python",
   "name": "python2"
  },
  "language_info": {
   "codemirror_mode": {
    "name": "ipython",
    "version": 2
   },
   "file_extension": ".py",
   "mimetype": "text/x-python",
   "name": "python",
   "nbconvert_exporter": "python",
   "pygments_lexer": "ipython2",
   "version": "2.7.11"
  }
 },
 "nbformat": 4,
 "nbformat_minor": 0
}
