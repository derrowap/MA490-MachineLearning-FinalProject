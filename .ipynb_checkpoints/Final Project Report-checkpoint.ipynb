{
 "cells": [
  {
   "cell_type": "markdown",
   "metadata": {},
   "source": [
    "# Neural Networks Attempt to Mimic Several Functions\n",
    "#### Team Leader: Austin Derrow-Pinion\n",
    "#### Team Members: Kice Sanders, Aaron Bartee"
   ]
  },
  {
   "cell_type": "markdown",
   "metadata": {},
   "source": [
    "### Table of Contents\n",
    " \n",
    " * [Executive Summary](#Executive-Summary)\n",
    " * [Introduction](#Introduction)\n",
    " * [Data Preparation](#Data Preparation)\n",
    " * [Links](#Links)\n",
    " * [Supplement](ProjectReportSupplement.ipynb) "
   ]
  },
  {
   "cell_type": "markdown",
   "metadata": {},
   "source": [
    "### Executive Summary\n",
    "In this study, we attempt to compare the power of neural networks’ ability to mimic functions with the functions themselves. The Universal Approximation Theorem states that for any continuous function, there exists a feed-forward network with only a single hidden layer that can approximate it. This is motivation for us to try out different functions and try to train a neural network to accurately approximate as many as we can. For functions that are not approximated well, we can observe the function and try to learn more about neural networks as to why it did not learn the function.\n",
    "\n",
    "If the neural networks are able to extrapolate and perform well, we will try to analyze it's ability to be used in a business application. If neural networks are able to perform a function faster than the function itself, it could save a lot of money for companies that rely and quick computing. This has the possibility to introducing a whole new way of computing. Replacing functions with neural networks because sometimes the functions become too complex and take much longer than a neural network at executing."
   ]
  },
  {
   "cell_type": "markdown",
   "metadata": {},
   "source": [
    "### Introduction\n",
    "The overall objective is to explore the complexity of problems which are able to be solved by applying learning with neural networks. We have programmed several different functions in Python, all of which range in complexity. We can have a loop that feeds in a very large number of inputs to these functions and records the output in order to generate a large amount of data. The programs were made by us so we can generate as much data as we need to train the neural network. \n",
    "\n",
    "With this data, we will use supervised learning by feeding the network with the input data and using back-propagation to update the weights in the network. The neural network will be programmed using skFlow from TensorFlow's library."
   ]
  },
  {
   "cell_type": "markdown",
   "metadata": {},
   "source": [
    "### Data Preparation\n",
    "Since all functions are written by us, we are able to generate all possible inputs in a given range for each function and record the output. This allows us to have as much data as needed to observe the performance of the neural network.\n",
    "\n",
    "Below are examples of how we will generate the data from the functions. Generating all possible examples will allow us to fully train the network as much as we can. We split the data, for example into 90% training and 10% testing, and test the fully trained neural network on the testing data to analyze how well it generalized the function."
   ]
  },
  {
   "cell_type": "code",
   "execution_count": 1,
   "metadata": {
    "collapsed": false
   },
   "outputs": [
    {
     "name": "stdout",
     "output_type": "stream",
     "text": [
      "sample input: [  0.   0.   4.  15.]\n",
      "sample output: 0.0\n"
     ]
    }
   ],
   "source": [
    "import numpy as np\n",
    "from trainingFunctions import *\n",
    "\n",
    "# Inputs are 2x2 integer matrices, output is the determinant.\n",
    "examples = 20\n",
    "possibilities = np.zeros(examples)\n",
    "batchInput = np.zeros(shape=(examples**4,4))\n",
    "batchTarget = np.zeros(examples**4)\n",
    "\n",
    "for i in range(examples):\n",
    "    possibilities[i] = i\n",
    "\n",
    "target_i = 0\n",
    "for h in range(examples):  \n",
    "    for i in range(examples):  \n",
    "        for j in range(examples):    \n",
    "            for k in range(examples):\n",
    "                batchInput[target_i][0] = possibilities[h]\n",
    "                batchInput[target_i][1] = possibilities[i]\n",
    "                batchInput[target_i][2] = possibilities[j]\n",
    "                batchInput[target_i][3] = possibilities[k]\n",
    "                batchTarget[target_i] = determinant([[batchInput[target_i][0], batchInput[target_i][1]], [batchInput[target_i][2], batchInput[target_i][3]]])\n",
    "                target_i += 1\n",
    "print(\"sample input: \" + str(batchInput[95]))\n",
    "print(\"sample output: \" + str(batchTarget[95]))"
   ]
  },
  {
   "cell_type": "code",
   "execution_count": 2,
   "metadata": {
    "collapsed": false
   },
   "outputs": [
    {
     "name": "stdout",
     "output_type": "stream",
     "text": [
      "Training data for fib function:\n",
      "[  1.   2.   3.   4.   5.   6.   7.   8.   9.  10.]\n",
      "[  1.   1.   2.   3.   5.   8.  13.  21.  34.  55.]\n"
     ]
    }
   ],
   "source": [
    "# Fill the input array, x, with numbers 1 to TRAINING_EXAMPLES representing the indexes in the fib sequence\n",
    "# Fill the output array y, with the first TRAINING_EXAMPELS fibonacci numbers\n",
    "TRAINING_EXAMPLES = 10\n",
    "x = np.zeros(TRAINING_EXAMPLES)\n",
    "y = np.zeros(TRAINING_EXAMPLES)\n",
    "for i in range(TRAINING_EXAMPLES):\n",
    "    x[i] = i + 1\n",
    "    y[i] = fib(i + 1)\n",
    "print(\"Training data for fib function:\")\n",
    "print(x)\n",
    "print(y)"
   ]
  },
  {
   "cell_type": "code",
   "execution_count": 3,
   "metadata": {
    "collapsed": false
   },
   "outputs": [
    {
     "name": "stdout",
     "output_type": "stream",
     "text": [
      "Training data for evenParity function:\n",
      "[[0 0 0 0 0 0 0 0 0 0 0 0 0 0 0 0]\n",
      " [0 0 0 0 0 0 0 0 0 0 0 0 0 0 0 1]\n",
      " [0 0 0 0 0 0 0 0 0 0 0 0 0 0 1 0]\n",
      " [0 0 0 0 0 0 0 0 0 0 0 0 0 0 1 1]\n",
      " [0 0 0 0 0 0 0 0 0 0 0 0 0 1 0 0]\n",
      " [0 0 0 0 0 0 0 0 0 0 0 0 0 1 0 1]\n",
      " [0 0 0 0 0 0 0 0 0 0 0 0 0 1 1 0]\n",
      " [0 0 0 0 0 0 0 0 0 0 0 0 0 1 1 1]\n",
      " [0 0 0 0 0 0 0 0 0 0 0 0 1 0 0 0]\n",
      " [0 0 0 0 0 0 0 0 0 0 0 0 1 0 0 1]]\n",
      "[0 1 1 0 1 0 0 1 1 0]\n"
     ]
    }
   ],
   "source": [
    "# Fill the input array, x, with the binary representation of 0 to TRAINING_EXAMPLES\n",
    "# Fill the output array y, with the output of evenParity() function with each 16-bit integer\n",
    "TRAINING_EXAMPLES = 10\n",
    "x = np.zeros((TRAINING_EXAMPLES, 16), dtype='int32')\n",
    "y = np.zeros(TRAINING_EXAMPLES, dtype='int32')\n",
    "for i in range(TRAINING_EXAMPLES):\n",
    "    temp = bin(i)[2:].zfill(16)\n",
    "    x[i] = [int(j) for j in temp]\n",
    "    y[i] = evenParity(i)\n",
    "print(\"Training data for evenParity function:\")\n",
    "print(x)\n",
    "print(y)"
   ]
  },
  {
   "cell_type": "markdown",
   "metadata": {},
   "source": [
    "### Analysis"
   ]
  },
  {
   "cell_type": "markdown",
   "metadata": {},
   "source": [
    "##### addThem(n, m): Calculates the sum of n and m."
   ]
  },
  {
   "cell_type": "markdown",
   "metadata": {},
   "source": [
    "Using the skflow library, I trained a TensorFlowDNNRegressor with two hidden units to provide the same output as the function. \n",
    "<br>Process:\n",
    "* Generated 1,000,000 random examples of adding numbers between 1 and 500.\n",
    "    * Trained over 100,000 iterations.\n",
    "    * Provided around 80% error.\n",
    "    * We believed this was because the examples were too random and was unable to see all possible cases to generalize.\n",
    "* Generated all possible cases of adding numbers between 1 and 500.\n",
    "    * Trained over 100,000 iterations.\n",
    "    * Neural network was able to extrapolate past the input data and have 100% accuracy up to around 700.\n",
    "* Generated all possible cases of adding numbers between 1 and 1,000.\n",
    "    * Trained over 100,000 iterations.\n",
    "    * Provided an error rate of 0.107, which means it generalized fairly well, but not perfectly.\n",
    "* Generated all possible cases of adding numbers between 1 and 10,000.\n",
    "    * Trained it over 2,000,000 iterations.\n",
    "    * Provided an error rate of 49.00%, which suggests a single hidden layer would be unable to generalize on a large scale.\n",
    "    \n",
    "Adding two numbers together is proved to be a simple task for neural networks to learn. In order to teach them on a larger scale, it would be necessary to modify the architecture by adding more hidden layers."
   ]
  },
  {
   "cell_type": "markdown",
   "metadata": {},
   "source": [
    "##### multiply(n, m): Calculates the product of n and m."
   ]
  },
  {
   "cell_type": "markdown",
   "metadata": {},
   "source": [
    "Using the skflow library, I trained a TensorFlowDNNRegressor with two hidden units to provide the same output as the function. \n",
    "<br>Process:\n",
    "* Generated all possible cases of n and m ranging from 1 to 10.\n",
    "    * Trained over 1,000 Iterations.\n",
    "        * Error was 96%, did not learn much at all.\n",
    "    * Trained over 10,000 iterations.\n",
    "        * Error was 95%, not much of a difference.\n",
    "    * Trained over 50,000 iterations.\n",
    "        * Error was still up at 92%.\n",
    "    * Trained over 100,000 iteration.\n",
    "        * Error was at 90% showing a small decrease in error rate as more training occurs.\n",
    "    * Trained over 500,000 iterations.\n",
    "        * Error was at 91%, which tells me the neural network wasn't learning after all.\n",
    "    * Trained over 1,000,000 iterations.\n",
    "        * Error was at 92%. At this point, I knew for sure that the number of iterations was not effecting the error rate anymore.\n",
    "\n",
    "This function, with this error rate needed to try out a new architecture."
   ]
  },
  {
   "cell_type": "markdown",
   "metadata": {},
   "source": [
    "We ran 200 different processes, each one training on how to mimic the function multiply(n, m) with all possible ranges between 1 and 10. Each Neural Network Regressor trained with 100,000 steps. Before doing this, I had a hypothesis that the best number of units in the hidden layer is the square of the max number in the range. For example, since these range from 1 to 10, my hypothesis is the best number of units in the hidden layer is 10^2, or 100. \n",
    "<br><br>The graph below displays the results of this analysis.\n",
    "![Best Hidden Layer Graph](./images/multiply_hidden_units.png)\n",
    "* At 90 hidden units, it reaches an accurate prediction with MSE of 0.148.\n",
    "* At 100 hidden units, it predicts with MSE of 0.303\n",
    "* It best predicts with 200 hidden units with an MSE of 0.039\n",
    "\n",
    "This tells me that my hypothesis was very wrong. Because of this, I wondered why having 200 hidden units performed so well. The total data was split into 90% training data and 10% testing. All of the errors were calculated on the test data."
   ]
  },
  {
   "cell_type": "markdown",
   "metadata": {},
   "source": [
    "##### evenParity(n): Outputs a 0 if the number of 1 bits in the binary representation of n is even, else outputs a 1."
   ]
  },
  {
   "cell_type": "markdown",
   "metadata": {},
   "source": [
    "Using the skflow library, I trained a TensorFlowDNNClassifier with sixteen hidden units to provide the same output as the function. \n",
    "<br>Process:\n",
    "* Generated every 16 bit integer, 1 - 65,535.\n",
    "    * Trained over 1,000 iterations.\n",
    "        * Error rate was at 49.97%, which means the neural network is just guessing since there are only 2 possible outputs.\n",
    "    * Trained over 10,000 iterations.\n",
    "        * Error rate was at 50.01%, which means it is still guessing.\n",
    "    * Trained over 50,000 iterations.\n",
    "        * Error rate was at 43.69%. It shows some improvement, but nothing too significant.\n",
    "    * Trained over 100,000 iterations.\n",
    "        * Error rate was at 18.46%. This is great improvement! Somewhere between 50,000 and 100,000 iterations, the neural network really starts learning.\n",
    "    * Trained over 500,000 iterations.\n",
    "        * Error rate was at 3.15%. The neural network is now showing consistent learning. There is room for improvement still though.\n",
    "    * Trained over 1,000,000 iterations.\n",
    "        * Error rate was at 3.84. This means that somewhere between 100,000 and 500,000 iterations is equivalent to training over 1,000,000 iterations."
   ]
  },
  {
   "cell_type": "markdown",
   "metadata": {
    "collapsed": true
   },
   "source": [
    "We originally expected this to be a function which is unable to be learned by a neural network. The network we trained used all possible 16 bit integers. By doing this, we were able to construct the architecture to be a fully connected network with 16 input units and 16 output units. By trial and error, I found 16 to be the best number of units in the hidden layer.\n",
    "\n",
    "We analyzed how quickly it was able to accurately predict on test data. We trained it on 90% of all the possible cases, then tested it on the remaining 10%. The results are shown in the graph below.\n",
    "![Parity Error Over All Steps](./images/parity_error_large.png)\n",
    "This showed it leveled off to remain at about the same MSE after 150,000 steps of training. It is a bit difficult to see the differences past then, so I have provided another graph zoomed in.\n",
    "![Parity Error Zoomed In](./images/parity_error_small.png)\n",
    "Even though the MSE fluctuates a bit, the neural network is trained as accurately as it can with the given data anywhere in this range. That is because of slight overfittings caused by continuous training on the same data.\n",
    "\n",
    "Overall, we were very impressed with the neural network's ability to learn this function."
   ]
  },
  {
   "cell_type": "markdown",
   "metadata": {},
   "source": [
    "#### adder(n): Adds 42 to n\n",
    "\n",
    "Process:\n",
    "* Tried different methods of generating data to find which worked the best\n",
    "    * All possible values 0-100\n",
    "    * 1000 random values 0-100\n",
    "    * All possible values 0-100 10 times for a total of 1000 datum\n",
    "    * All possible values 0-100 100 times for a total of 10000 datum\n",
    "* Experimented with single layer hidden units 1-20\n",
    "* Experimented with two layer hidden units [1-20, 1-20]\n",
    "* Found how well each different neural net extrapolated to other values\n",
    "* Tried to scale data up to learn 1-1000\n",
    "\n",
    "Results:\n",
    "\n",
    "<table>\n",
    "    <thead>\n",
    "        <td>Data</td>\n",
    "        <td>MSE</td>\n",
    "    </thead>\n",
    "    <tr>\n",
    "        <td>100 data: 1-100</td>\n",
    "        <td>.065861</td>\n",
    "    </tr>\n",
    "    <tr>\n",
    "        <td>1000 datum: random(100)</td>\n",
    "        <td>.028475</td>\n",
    "    </tr>\n",
    "    <tr>\n",
    "        <td>1000 datum: 1-100 10 times</td>\n",
    "        <td>.007759</td>\n",
    "    </tr>\n",
    "    <tr>\n",
    "        <td>10000 datum: 1-100 100 times</td>\n",
    "        <td>409.116</td>\n",
    "    </tr>\n",
    "</table>\n",
    "\n",
    "The results seemed to show that iterating through every possibility multiple times and then training on that is the best method of data gathering. As with many things in this, you have to find the fine line of having the right amount of data without having too much. \n",
    "\n",
    "I knew that this function would be slower than Python's built in add, because it has to do matrix multiplication. I wanted to know how much slower. When adding low numbers, Python's add was up to 2000 times faster. As the numbers grew to be larger, however, Python's add was only a few hundred times as fast.\n",
    "\n",
    "I was interested in how far a neural net could extrapolate to numbers that it had never seen before. Although this should have been an easy problem because it is linear, it wasn't because SkFlow doesn't allow you to choose the activation function for your regressor. Most all of the single and double layer neural nets I trained failed around 200-300, however there was one that stood out and was able to correctly predict 1-1145 with just training on 1-100\n",
    "\n",
    "The figure below shows how well the neural net is able to extrapolate after 100 steps, and after 10000 steps. After 10000 steps, the lines are very similar between the neural net and the real, however the neural net always starts to add not enough or a little too much everytime, stopping it's ability to extrapolate any further. It is worth noting, however, that the regressor knows that it is a linear relationship, and treats it as such.\n",
    "\n",
    "![Adder](./images/adder.jpg)"
   ]
  },
  {
   "cell_type": "markdown",
   "metadata": {},
   "source": [
    "#### determinant(m): Computes the determinant of matrix m\n",
    "\n",
    "* Started by generating every possible 2x2 matrix with the integers 1-20\n",
    "* Ran MSE tests on every possible single hidden layer and double layer of increments 100 from 100-3000\n",
    "* Many had similar MSE and all performed poorly on accuracy tests. The lowest error percentage I could achieve was 45%\n",
    "* Neural network only took 8-30 times longer to compute determinant than NumPy's determinant function\n",
    "\n",
    "My main goal when starting to look at determinants was to truly test the extrapolation power of the neural network that I was using. I wanted to train on a 2x2 matrix, and see if it could extrapolate to a 3x3. However, I couldn't achieve good enough results from training on a 2x2. The poor results were with optimal conditions. I was able to train it on every possibility of integers from 1 to 20. I tested many different hidden layers. For one layer, below is a graph displaying the MSE after 10000 steps.\n",
    "\n",
    "![Determinant](./images/determinant.jpg)\n",
    "\n",
    "I decided to scrap the idea of even trying to do a 3x3, knowing that either I would have to train for very long because of the ammount of data I would have (20^9) if I were still using integers from 1-20. Resorting to using random integers produced an even worse result because there were too many cases that the neural network would never see.\n",
    "\n",
    "Overall, I would say that trying to train a neural network with SkFlow to learn how to compute a determinant was a failure in any practical sense because the lowest error that was produced was 45%. Training longer was not helping the neural net extrapolate further from the values that it had already seen, rather it was just learning every example that it saw. If that is the case, a lookup table would be more efficient and accurate."
   ]
  },
  {
   "cell_type": "code",
   "execution_count": 5,
   "metadata": {
    "collapsed": false
   },
   "outputs": [
    {
     "data": {
      "text/html": [
       "\n",
       "\n",
       "    <script type=\"text/javascript\">\n",
       "      \n",
       "      (function(global) {\n",
       "        function now() {\n",
       "          return new Date();\n",
       "        }\n",
       "      \n",
       "        if (typeof (window._bokeh_onload_callbacks) === \"undefined\") {\n",
       "          window._bokeh_onload_callbacks = [];\n",
       "        }\n",
       "      \n",
       "        function run_callbacks() {\n",
       "          window._bokeh_onload_callbacks.forEach(function(callback) { callback() });\n",
       "          delete window._bokeh_onload_callbacks\n",
       "          console.info(\"Bokeh: all callbacks have finished\");\n",
       "        }\n",
       "      \n",
       "        function load_libs(js_urls, callback) {\n",
       "          window._bokeh_onload_callbacks.push(callback);\n",
       "          if (window._bokeh_is_loading > 0) {\n",
       "            console.log(\"Bokeh: BokehJS is being loaded, scheduling callback at\", now());\n",
       "            return null;\n",
       "          }\n",
       "          if (js_urls == null || js_urls.length === 0) {\n",
       "            run_callbacks();\n",
       "            return null;\n",
       "          }\n",
       "          console.log(\"Bokeh: BokehJS not loaded, scheduling load and callback at\", now());\n",
       "          window._bokeh_is_loading = js_urls.length;\n",
       "          for (var i = 0; i < js_urls.length; i++) {\n",
       "            var url = js_urls[i];\n",
       "            var s = document.createElement('script');\n",
       "            s.src = url;\n",
       "            s.async = false;\n",
       "            s.onreadystatechange = s.onload = function() {\n",
       "              window._bokeh_is_loading--;\n",
       "              if (window._bokeh_is_loading === 0) {\n",
       "                console.log(\"Bokeh: all BokehJS libraries loaded\");\n",
       "                run_callbacks()\n",
       "              }\n",
       "            };\n",
       "            s.onerror = function() {\n",
       "              console.warn(\"failed to load library \" + url);\n",
       "            };\n",
       "            console.log(\"Bokeh: injecting script tag for BokehJS library: \", url);\n",
       "            document.getElementsByTagName(\"head\")[0].appendChild(s);\n",
       "          }\n",
       "        };var js_urls = ['https://cdn.pydata.org/bokeh/release/bokeh-0.11.0.min.js', 'https://cdn.pydata.org/bokeh/release/bokeh-widgets-0.11.0.min.js', 'https://cdn.pydata.org/bokeh/release/bokeh-compiler-0.11.0.min.js'];\n",
       "      \n",
       "        var inline_js = [\n",
       "          function(Bokeh) {\n",
       "            Bokeh.set_log_level(\"info\");\n",
       "          },\n",
       "          function(Bokeh) {\n",
       "            console.log(\"Bokeh: injecting CSS: https://cdn.pydata.org/bokeh/release/bokeh-0.11.0.min.css\");\n",
       "            Bokeh.embed.inject_css(\"https://cdn.pydata.org/bokeh/release/bokeh-0.11.0.min.css\");\n",
       "            console.log(\"Bokeh: injecting CSS: https://cdn.pydata.org/bokeh/release/bokeh-widgets-0.11.0.min.css\");\n",
       "            Bokeh.embed.inject_css(\"https://cdn.pydata.org/bokeh/release/bokeh-widgets-0.11.0.min.css\");\n",
       "          }\n",
       "        ];\n",
       "      \n",
       "        function run_inline_js() {\n",
       "          for (var i = 0; i < inline_js.length; i++) {\n",
       "            inline_js[i](window.Bokeh);\n",
       "          }\n",
       "        }\n",
       "      \n",
       "        if (window._bokeh_is_loading === 0) {\n",
       "          console.log(\"Bokeh: BokehJS loaded, going straight to plotting\");\n",
       "          run_inline_js();\n",
       "        } else {\n",
       "          load_libs(js_urls, function() {\n",
       "            console.log(\"Bokeh: BokehJS plotting callback run at\", now());\n",
       "            run_inline_js();\n",
       "          });\n",
       "        }\n",
       "      }(this));\n",
       "    </script>\n",
       "    <div>\n",
       "        <a href=\"http://bokeh.pydata.org\" target=\"_blank\" class=\"bk-logo bk-logo-small bk-logo-notebook\"></a>\n",
       "        <span>BokehJS successfully loaded.</span>\n",
       "    </div>"
      ]
     },
     "metadata": {},
     "output_type": "display_data"
    },
    {
     "data": {
      "text/plain": [
       "<bokeh.models.renderers.GlyphRenderer at 0x95a7cf8>"
      ]
     },
     "execution_count": 5,
     "metadata": {},
     "output_type": "execute_result"
    }
   ],
   "source": [
    "import pandas as pd\n",
    "from bokeh.charts import Scatter, show\n",
    "from bokeh.plotting import figure\n",
    "from bokeh.io import output_notebook\n",
    "output_notebook()\n",
    "df = pd.read_csv('../MA490-MachineLearning-FinalProject//sineData5.csv')\n",
    "\n",
    "fig = Scatter(df[20:80], x='Input',y='Prediction',color='blue')\n",
    "f = figure()\n",
    "f.line(df.Input.values[18:82], df.Prediction.values[18:82], color='blue')\n",
    "x = np.linspace(-3*np.pi-np.pi/2, 3*np.pi+np.pi/2, 100)\n",
    "y = np.sin(x)\n",
    "f.line(x,y,color='red')\n",
    "x = [-3*np.pi,-3*np.pi]\n",
    "y = [-3,3]\n",
    "f.line(x,y,color='black')\n",
    "x = [3*np.pi,3*np.pi]\n",
    "y = [-3,3]\n",
    "f.line(x,y,color='black')\n"
   ]
  },
  {
   "cell_type": "markdown",
   "metadata": {},
   "source": [
    "### Sine Graph"
   ]
  },
  {
   "cell_type": "code",
   "execution_count": 6,
   "metadata": {
    "collapsed": false
   },
   "outputs": [
    {
     "data": {
      "text/html": [
       "\n",
       "\n",
       "    <div class=\"plotdiv\" id=\"2db8bc6c-dfd4-4b75-be57-55469c7a7cd3\"></div>\n",
       "<script type=\"text/javascript\">\n",
       "  \n",
       "  (function(global) {\n",
       "    function now() {\n",
       "      return new Date();\n",
       "    }\n",
       "  \n",
       "    if (typeof (window._bokeh_onload_callbacks) === \"undefined\") {\n",
       "      window._bokeh_onload_callbacks = [];\n",
       "    }\n",
       "  \n",
       "    function run_callbacks() {\n",
       "      window._bokeh_onload_callbacks.forEach(function(callback) { callback() });\n",
       "      delete window._bokeh_onload_callbacks\n",
       "      console.info(\"Bokeh: all callbacks have finished\");\n",
       "    }\n",
       "  \n",
       "    function load_libs(js_urls, callback) {\n",
       "      window._bokeh_onload_callbacks.push(callback);\n",
       "      if (window._bokeh_is_loading > 0) {\n",
       "        console.log(\"Bokeh: BokehJS is being loaded, scheduling callback at\", now());\n",
       "        return null;\n",
       "      }\n",
       "      if (js_urls == null || js_urls.length === 0) {\n",
       "        run_callbacks();\n",
       "        return null;\n",
       "      }\n",
       "      console.log(\"Bokeh: BokehJS not loaded, scheduling load and callback at\", now());\n",
       "      window._bokeh_is_loading = js_urls.length;\n",
       "      for (var i = 0; i < js_urls.length; i++) {\n",
       "        var url = js_urls[i];\n",
       "        var s = document.createElement('script');\n",
       "        s.src = url;\n",
       "        s.async = false;\n",
       "        s.onreadystatechange = s.onload = function() {\n",
       "          window._bokeh_is_loading--;\n",
       "          if (window._bokeh_is_loading === 0) {\n",
       "            console.log(\"Bokeh: all BokehJS libraries loaded\");\n",
       "            run_callbacks()\n",
       "          }\n",
       "        };\n",
       "        s.onerror = function() {\n",
       "          console.warn(\"failed to load library \" + url);\n",
       "        };\n",
       "        console.log(\"Bokeh: injecting script tag for BokehJS library: \", url);\n",
       "        document.getElementsByTagName(\"head\")[0].appendChild(s);\n",
       "      }\n",
       "    };var element = document.getElementById(\"2db8bc6c-dfd4-4b75-be57-55469c7a7cd3\");\n",
       "    if (element == null) {\n",
       "      console.log(\"Bokeh: ERROR: autoload.js configured with elementid '2db8bc6c-dfd4-4b75-be57-55469c7a7cd3' but no matching script tag was found. \")\n",
       "      return false;\n",
       "    }var js_urls = [];\n",
       "  \n",
       "    var inline_js = [\n",
       "      function(Bokeh) {\n",
       "        Bokeh.$(function() {\n",
       "            var docs_json = {\"6efe663a-1493-4631-83e3-57d46e852a74\": {\"version\": \"0.11.0\", \"roots\": {\"root_ids\": [\"33844f0c-9586-49f9-9687-381d6405b05f\", \"adfb6ad9-a247-4aef-89c3-5d96f3b7e496\"], \"references\": [{\"attributes\": {\"line_color\": {\"value\": \"#1f77b4\"}, \"line_alpha\": {\"value\": 0.1}, \"y\": {\"field\": \"y\"}, \"x\": {\"field\": \"x\"}}, \"type\": \"Line\", \"id\": \"02a0d4a4-03f5-4ee9-910d-0aeb0786c56a\"}, {\"attributes\": {}, \"type\": \"BasicTickFormatter\", \"id\": \"9a112a62-6706-48ad-9421-a3871e89b5fe\"}, {\"attributes\": {}, \"type\": \"BasicTicker\", \"id\": \"67c2a4e3-249c-4b63-ae4c-5e5f236bea89\"}, {\"attributes\": {\"callback\": null, \"end\": 1.26, \"start\": -1.26}, \"type\": \"Range1d\", \"id\": \"551aa71f-9c8d-42f5-b11b-23761215cd33\"}, {\"attributes\": {\"callback\": null}, \"type\": \"DataRange1d\", \"id\": \"37fee28e-1c05-4f79-9aca-402c35af4043\"}, {\"attributes\": {}, \"type\": \"BasicTickFormatter\", \"id\": \"afc6bb10-8c91-422c-98a6-08a017e45d1d\"}, {\"attributes\": {\"line_color\": {\"value\": \"blue\"}, \"x\": {\"field\": \"x\"}, \"y\": {\"field\": \"y\"}}, \"type\": \"Line\", \"id\": \"1739a173-38e5-4879-816f-80d7821364c4\"}, {\"attributes\": {\"y\": {\"field\": \"y\"}, \"x\": {\"field\": \"x\"}}, \"type\": \"Line\", \"id\": \"e1fb8af6-59a2-4842-b46b-47a3f6c69116\"}, {\"attributes\": {}, \"type\": \"BasicTickFormatter\", \"id\": \"ff4cdf5f-7a33-4ab7-b4f5-a8e690f5aaf5\"}, {\"attributes\": {\"plot\": {\"subtype\": \"Chart\", \"type\": \"Plot\", \"id\": \"33844f0c-9586-49f9-9687-381d6405b05f\"}, \"ticker\": {\"type\": \"BasicTicker\", \"id\": \"67c2a4e3-249c-4b63-ae4c-5e5f236bea89\"}}, \"type\": \"Grid\", \"id\": \"e911c297-7f75-46a3-9217-3b3f3744887e\"}, {\"attributes\": {\"plot\": {\"subtype\": \"Chart\", \"type\": \"Plot\", \"id\": \"33844f0c-9586-49f9-9687-381d6405b05f\"}, \"ticker\": {\"type\": \"BasicTicker\", \"id\": \"02cd0605-76ae-4a4a-9894-07dc599ab445\"}, \"dimension\": 1}, \"type\": \"Grid\", \"id\": \"1b4b2d04-a21b-4020-9489-5e45505d30a2\"}, {\"attributes\": {\"callback\": null}, \"type\": \"DataRange1d\", \"id\": \"b06d29d9-474b-452f-a4eb-a7eaf48bc7ce\"}, {\"attributes\": {\"callback\": null, \"end\": 11.232, \"start\": -11.232}, \"type\": \"Range1d\", \"id\": \"17fd5a99-8c15-47e4-b066-f4cb96298774\"}, {\"attributes\": {\"line_color\": {\"value\": \"blue\"}, \"fill_color\": {\"value\": \"blue\"}, \"fill_alpha\": {\"value\": 0.7}, \"y\": {\"field\": \"y_values\"}, \"x\": {\"field\": \"x_values\"}, \"size\": {\"units\": \"screen\", \"value\": 8}}, \"type\": \"Circle\", \"id\": \"3bd98595-9b56-43f3-9d46-1ada7617df1e\"}, {\"attributes\": {\"plot\": {\"subtype\": \"Figure\", \"type\": \"Plot\", \"id\": \"adfb6ad9-a247-4aef-89c3-5d96f3b7e496\"}}, \"type\": \"ResizeTool\", \"id\": \"650555dd-7f91-4c39-8410-542cdd4f7a59\"}, {\"attributes\": {\"plot\": {\"subtype\": \"Chart\", \"type\": \"Plot\", \"id\": \"33844f0c-9586-49f9-9687-381d6405b05f\"}}, \"type\": \"ResetTool\", \"id\": \"a4a0eed4-a42c-4696-9e7d-7cf2248c8860\"}, {\"attributes\": {\"nonselection_glyph\": {\"type\": \"Line\", \"id\": \"443e3efc-3b55-4fb2-b761-eec5d8251125\"}, \"data_source\": {\"type\": \"ColumnDataSource\", \"id\": \"b0137738-8aa2-4b8c-b23a-9a8ac9e21465\"}, \"selection_glyph\": null, \"hover_glyph\": null, \"glyph\": {\"type\": \"Line\", \"id\": \"e1fb8af6-59a2-4842-b46b-47a3f6c69116\"}}, \"type\": \"GlyphRenderer\", \"id\": \"b9284d4c-b111-4a44-b028-c6596d0ce50f\"}, {\"attributes\": {\"nonselection_glyph\": {\"type\": \"Line\", \"id\": \"869ea8f2-9657-4557-9be0-4ac835ab6e3f\"}, \"data_source\": {\"type\": \"ColumnDataSource\", \"id\": \"2cbfa492-b224-4abe-96a5-bffcb5401e97\"}, \"selection_glyph\": null, \"hover_glyph\": null, \"glyph\": {\"type\": \"Line\", \"id\": \"68ba90d8-97b2-4573-8347-4036bb2af8cf\"}}, \"type\": \"GlyphRenderer\", \"id\": \"f7c96e99-b03d-4381-a1a0-40877d01b2f8\"}, {\"attributes\": {\"nonselection_glyph\": {\"type\": \"Line\", \"id\": \"02a0d4a4-03f5-4ee9-910d-0aeb0786c56a\"}, \"data_source\": {\"type\": \"ColumnDataSource\", \"id\": \"0f3fd818-2c85-40a5-89da-4445d6942a89\"}, \"selection_glyph\": null, \"hover_glyph\": null, \"glyph\": {\"type\": \"Line\", \"id\": \"675da2a0-32fa-4104-b5f0-4fe94b914d7d\"}}, \"type\": \"GlyphRenderer\", \"id\": \"7920597f-4ad9-4ab5-9d0c-81e2b0ffa7b6\"}, {\"attributes\": {\"callback\": null, \"column_names\": [\"y\", \"x\"], \"data\": {\"y\": [-3, 3], \"x\": [9.42477796076938, 9.42477796076938]}}, \"type\": \"ColumnDataSource\", \"id\": \"b0137738-8aa2-4b8c-b23a-9a8ac9e21465\"}, {\"attributes\": {\"plot\": {\"subtype\": \"Figure\", \"type\": \"Plot\", \"id\": \"adfb6ad9-a247-4aef-89c3-5d96f3b7e496\"}}, \"type\": \"WheelZoomTool\", \"id\": \"efbbc423-3ec5-4d36-833e-e1da0fe8d9cd\"}, {\"attributes\": {}, \"type\": \"ToolEvents\", \"id\": \"108c4b88-ae29-4166-9b49-4313418c44a4\"}, {\"attributes\": {\"line_color\": {\"value\": \"#1f77b4\"}, \"line_alpha\": {\"value\": 0.1}, \"y\": {\"field\": \"y\"}, \"x\": {\"field\": \"x\"}}, \"type\": \"Line\", \"id\": \"943d5d9c-0a07-4933-9a08-94f04baa890a\"}, {\"attributes\": {\"plot\": {\"subtype\": \"Figure\", \"type\": \"Plot\", \"id\": \"adfb6ad9-a247-4aef-89c3-5d96f3b7e496\"}}, \"type\": \"ResetTool\", \"id\": \"137ff5cc-c886-450f-ad78-d582cfb56b84\"}, {\"attributes\": {\"plot\": {\"subtype\": \"Figure\", \"type\": \"Plot\", \"id\": \"adfb6ad9-a247-4aef-89c3-5d96f3b7e496\"}}, \"type\": \"PreviewSaveTool\", \"id\": \"4d601e96-8071-42a1-b575-fa5535758e1c\"}, {\"attributes\": {\"callback\": null, \"column_names\": [\"y\", \"x\"], \"data\": {\"y\": [1.0, 0.9754297868854069, 0.902926538286621, 0.7860530947427871, 0.630552667084522, 0.44406661260577346, 0.23575893550942645, 0.015865963834807057, -0.2048066680651916, -0.4154150130018873, -0.605609687137666, -0.7660444431189776, -0.8888354486549231, -0.9679487013963561, -0.9994965423831851, -0.9819286972627068, -0.9161084574320697, -0.8052702575310587, -0.6548607339452852, -0.4722710747726828, -0.2664738136900351, -0.04758191582374232, 0.1736481776669304, 0.38634512569312873, 0.5800569095711983, 0.7452644496757549, 0.8738493770697852, 0.9594929736144973, 0.9979866764718843, 0.9874388886763944, 0.9283679330160728, 0.8236765814298329, 0.6785094115571323, 0.5000000000000001, 0.296920375328275, 0.07924995685678848, -0.14231483827328517, -0.3568862215918711, -0.5539200638661097, -0.7237340381050698, -0.8579834132349767, -0.9500711177409452, -0.9954719225730846, -0.9919548128307953, -0.9396926207859085, -0.8412535328311813, -0.7014748877063215, -0.5272254676105026, -0.3270679633174217, -0.11083819990101104, 0.11083819990101104, 0.3270679633174217, 0.5272254676105026, 0.7014748877063215, 0.8412535328311803, 0.9396926207859079, 0.9919548128307951, 0.9954719225730847, 0.9500711177409458, 0.8579834132349776, 0.7237340381050709, 0.5539200638661111, 0.3568862215918728, 0.14231483827328606, -0.0792499568567876, -0.2969203753282741, -0.49999999999999933, -0.6785094115571316, -0.8236765814298325, -0.9283679330160725, -0.9874388886763943, -0.9979866764718844, -0.9594929736144975, -0.8738493770697859, -0.745264449675756, -0.5800569095711997, -0.38634512569313034, -0.17364817766693214, 0.04758191582374054, 0.26647381369003337, 0.47227107477268127, 0.6548607339452839, 0.8052702575310577, 0.916108457432069, 0.9819286972627065, 0.9994965423831852, 0.9679487013963566, 0.888835448654924, 0.7660444431189788, 0.6056096871376675, 0.4154150130018873, 0.2048066680651916, -0.015865963834807057, -0.23575893550942645, -0.44406661260577346, -0.630552667084522, -0.7860530947427871, -0.902926538286621, -0.9754297868854069, -1.0], \"x\": [-10.995574287564276, -10.773441473674088, -10.551308659783901, -10.329175845893714, -10.107043032003526, -9.884910218113339, -9.662777404223151, -9.440644590332964, -9.218511776442776, -8.996378962552589, -8.774246148662403, -8.552113334772216, -8.329980520882028, -8.10784770699184, -7.885714893101653, -7.663582079211466, -7.441449265321278, -7.219316451431091, -6.997183637540903, -6.775050823650716, -6.552918009760528, -6.330785195870341, -6.1086523819801535, -5.886519568089966, -5.6643867541997786, -5.442253940309591, -5.220121126419404, -4.997988312529217, -4.77585549863903, -4.553722684748842, -4.331589870858655, -4.109457056968467, -3.8873242430782797, -3.6651914291880923, -3.443058615297905, -3.2209258014077173, -2.99879298751753, -2.7766601736273433, -2.554527359737156, -2.3323945458469684, -2.110261731956781, -1.8881289180665934, -1.665996104176406, -1.4438632902862185, -1.221730476396031, -0.9995976625058436, -0.7774648486156561, -0.5553320347254687, -0.3331992208352812, -0.11106640694509373, 0.11106640694509373, 0.3331992208352812, 0.5553320347254687, 0.7774648486156561, 0.9995976625058418, 1.2217304763960293, 1.4438632902862167, 1.6659961041764042, 1.8881289180665917, 2.110261731956779, 2.3323945458469666, 2.554527359737154, 2.7766601736273415, 2.998792987517529, 3.2209258014077164, 3.443058615297904, 3.6651914291880914, 3.887324243078279, 4.109457056968466, 4.331589870858654, 4.553722684748841, 4.775855498639029, 4.997988312529216, 5.220121126419402, 5.442253940309589, 5.664386754199777, 5.886519568089964, 6.108652381980152, 6.330785195870339, 6.552918009760527, 6.775050823650714, 6.997183637540902, 7.219316451431089, 7.4414492653212765, 7.663582079211464, 7.885714893101651, 8.107847706991839, 8.329980520882026, 8.552113334772214, 8.774246148662401, 8.996378962552589, 9.218511776442776, 9.440644590332964, 9.662777404223151, 9.884910218113339, 10.107043032003526, 10.329175845893714, 10.551308659783901, 10.773441473674088, 10.995574287564276]}}, \"type\": \"ColumnDataSource\", \"id\": \"2cbfa492-b224-4abe-96a5-bffcb5401e97\"}, {\"attributes\": {\"plot\": {\"subtype\": \"Figure\", \"type\": \"Plot\", \"id\": \"adfb6ad9-a247-4aef-89c3-5d96f3b7e496\"}}, \"type\": \"PanTool\", \"id\": \"8022393f-16cf-466c-93f3-7177fc477508\"}, {\"attributes\": {\"callback\": null, \"column_names\": [\"x_values\", \"y_values\"], \"data\": {\"x_values\": [-9.36, -9.04, -8.73, -8.41, -8.09, -7.77, -7.46, -7.14, -6.82, -6.51, -6.19, -5.87, -5.55, -5.24, -4.92, -4.6, -4.28, -3.97, -3.65, -3.33, -3.01, -2.7, -2.38, -2.06, -1.75, -1.43, -1.11, -0.7929999999999999, -0.47600000000000003, -0.159, 0.159, 0.47600000000000003, 0.7929999999999999, 1.11, 1.43, 1.75, 2.06, 2.38, 2.7, 3.01, 3.33, 3.65, 3.97, 4.28, 4.6, 4.92, 5.24, 5.55, 5.87, 6.19, 6.51, 6.82, 7.14, 7.46, 7.77, 8.09, 8.41, 8.73, 9.04, 9.36], \"chart_index\": [null, null, null, null, null, null, null, null, null, null, null, null, null, null, null, null, null, null, null, null, null, null, null, null, null, null, null, null, null, null, null, null, null, null, null, null, null, null, null, null, null, null, null, null, null, null, null, null, null, null, null, null, null, null, null, null, null, null, null, null], \"y_values\": [0.812, 0.0786, -0.29600000000000004, -0.659, -0.9440000000000001, -0.9690000000000001, -0.9159999999999999, -0.726, -0.469, -0.23399999999999999, 0.157, 0.445, 0.691, 0.8370000000000001, 1.01, 1.05, 0.9279999999999999, 0.71, 0.43700000000000006, 0.141, -0.21, -0.503, -0.722, -0.86, -0.9159999999999999, -0.895, -0.7929999999999999, -0.605, -0.37799999999999995, -0.128, 0.13, 0.38, 0.607, 0.78, 0.8690000000000001, 0.887, 0.8320000000000001, 0.701, 0.495, 0.222, -0.102, -0.44299999999999995, -0.674, -0.875, -1.01, -1.05, -0.95, -0.69, -0.251, -0.15, 0.175, 0.40700000000000003, 0.6559999999999999, 0.883, 0.9159999999999999, 0.7929999999999999, 0.5820000000000001, 0.34700000000000003, 0.134, 0.179]}}, \"type\": \"ColumnDataSource\", \"id\": \"ae5306ea-41ec-4cd4-aeeb-93e33e6e2f3b\"}, {\"attributes\": {\"y\": {\"field\": \"y\"}, \"x\": {\"field\": \"x\"}}, \"type\": \"Line\", \"id\": \"675da2a0-32fa-4104-b5f0-4fe94b914d7d\"}, {\"attributes\": {\"callback\": null, \"column_names\": [\"y\", \"x\"], \"data\": {\"y\": [-2.19, -0.557, 0.812, 0.0786, -0.29600000000000004, -0.659, -0.9440000000000001, -0.9690000000000001, -0.9159999999999999, -0.726, -0.469, -0.23399999999999999, 0.157, 0.445, 0.691, 0.8370000000000001, 1.01, 1.05, 0.9279999999999999, 0.71, 0.43700000000000006, 0.141, -0.21, -0.503, -0.722, -0.86, -0.9159999999999999, -0.895, -0.7929999999999999, -0.605, -0.37799999999999995, -0.128, 0.13, 0.38, 0.607, 0.78, 0.8690000000000001, 0.887, 0.8320000000000001, 0.701, 0.495, 0.222, -0.102, -0.44299999999999995, -0.674, -0.875, -1.01, -1.05, -0.95, -0.69, -0.251, -0.15, 0.175, 0.40700000000000003, 0.6559999999999999, 0.883, 0.9159999999999999, 0.7929999999999999, 0.5820000000000001, 0.34700000000000003, 0.134, 0.179, 0.247, 6.75], \"x\": [-10.0, -9.68, -9.36, -9.04, -8.73, -8.41, -8.09, -7.77, -7.46, -7.14, -6.82, -6.51, -6.19, -5.87, -5.55, -5.24, -4.92, -4.6, -4.28, -3.97, -3.65, -3.33, -3.01, -2.7, -2.38, -2.06, -1.75, -1.43, -1.11, -0.7929999999999999, -0.47600000000000003, -0.159, 0.159, 0.47600000000000003, 0.7929999999999999, 1.11, 1.43, 1.75, 2.06, 2.38, 2.7, 3.01, 3.33, 3.65, 3.97, 4.28, 4.6, 4.92, 5.24, 5.55, 5.87, 6.19, 6.51, 6.82, 7.14, 7.46, 7.77, 8.09, 8.41, 8.73, 9.04, 9.36, 9.68, 10.0]}}, \"type\": \"ColumnDataSource\", \"id\": \"5b40965a-3433-4fda-9e6f-15f4e55ff693\"}, {\"attributes\": {\"line_color\": {\"value\": \"#1f77b4\"}, \"line_alpha\": {\"value\": 0.1}, \"y\": {\"field\": \"y\"}, \"x\": {\"field\": \"x\"}}, \"type\": \"Line\", \"id\": \"869ea8f2-9657-4557-9be0-4ac835ab6e3f\"}, {\"attributes\": {\"plot\": {\"subtype\": \"Figure\", \"type\": \"Plot\", \"id\": \"adfb6ad9-a247-4aef-89c3-5d96f3b7e496\"}, \"formatter\": {\"type\": \"BasicTickFormatter\", \"id\": \"4748cf87-8c9a-426d-badc-5efa5c4cf34e\"}, \"ticker\": {\"type\": \"BasicTicker\", \"id\": \"c90c4c3c-4895-4789-8660-674754ee7ae5\"}}, \"type\": \"LinearAxis\", \"id\": \"077fa1a8-8a2d-47b3-aa2a-49b8e6a8d8bc\"}, {\"attributes\": {\"callback\": null, \"column_names\": [\"y\", \"x\"], \"data\": {\"y\": [-3, 3], \"x\": [-9.42477796076938, -9.42477796076938]}}, \"type\": \"ColumnDataSource\", \"id\": \"0f3fd818-2c85-40a5-89da-4445d6942a89\"}, {\"attributes\": {\"line_color\": {\"value\": \"red\"}, \"x\": {\"field\": \"x\"}, \"y\": {\"field\": \"y\"}}, \"type\": \"Line\", \"id\": \"68ba90d8-97b2-4573-8347-4036bb2af8cf\"}, {\"attributes\": {}, \"type\": \"BasicTicker\", \"id\": \"54cf651b-8eee-4d75-a74f-afe17ad0e071\"}, {\"attributes\": {\"nonselection_glyph\": null, \"data_source\": {\"type\": \"ColumnDataSource\", \"id\": \"ae5306ea-41ec-4cd4-aeeb-93e33e6e2f3b\"}, \"selection_glyph\": null, \"hover_glyph\": null, \"glyph\": {\"type\": \"Circle\", \"id\": \"3bd98595-9b56-43f3-9d46-1ada7617df1e\"}}, \"type\": \"GlyphRenderer\", \"id\": \"8304b9da-3037-4703-9a8b-3af16076977a\"}, {\"attributes\": {}, \"type\": \"BasicTicker\", \"id\": \"c90c4c3c-4895-4789-8660-674754ee7ae5\"}, {\"attributes\": {\"plot\": {\"subtype\": \"Chart\", \"type\": \"Plot\", \"id\": \"33844f0c-9586-49f9-9687-381d6405b05f\"}}, \"type\": \"PanTool\", \"id\": \"89331ac9-0b88-4355-acad-925a1ff479fa\"}, {\"attributes\": {\"x_range\": {\"type\": \"DataRange1d\", \"id\": \"b06d29d9-474b-452f-a4eb-a7eaf48bc7ce\"}, \"y_range\": {\"type\": \"DataRange1d\", \"id\": \"37fee28e-1c05-4f79-9aca-402c35af4043\"}, \"renderers\": [{\"type\": \"LinearAxis\", \"id\": \"e6ca209e-3478-467c-8664-68847bfdb073\"}, {\"type\": \"Grid\", \"id\": \"2f36a540-69eb-4292-bcfc-232bb420b0a1\"}, {\"type\": \"LinearAxis\", \"id\": \"077fa1a8-8a2d-47b3-aa2a-49b8e6a8d8bc\"}, {\"type\": \"Grid\", \"id\": \"96165073-7b4e-4947-be95-d520d8473aec\"}, {\"type\": \"BoxAnnotation\", \"id\": \"376a0802-d860-41bf-b79c-fcf51acefd89\"}, {\"type\": \"GlyphRenderer\", \"id\": \"7b750642-e288-4609-9170-95e1e42fede6\"}, {\"type\": \"GlyphRenderer\", \"id\": \"f7c96e99-b03d-4381-a1a0-40877d01b2f8\"}, {\"type\": \"GlyphRenderer\", \"id\": \"7920597f-4ad9-4ab5-9d0c-81e2b0ffa7b6\"}, {\"type\": \"GlyphRenderer\", \"id\": \"b9284d4c-b111-4a44-b028-c6596d0ce50f\"}], \"below\": [{\"type\": \"LinearAxis\", \"id\": \"e6ca209e-3478-467c-8664-68847bfdb073\"}], \"tool_events\": {\"type\": \"ToolEvents\", \"id\": \"68e73049-5664-4e23-9c05-dc0719977781\"}, \"tools\": [{\"type\": \"PanTool\", \"id\": \"8022393f-16cf-466c-93f3-7177fc477508\"}, {\"type\": \"WheelZoomTool\", \"id\": \"efbbc423-3ec5-4d36-833e-e1da0fe8d9cd\"}, {\"type\": \"BoxZoomTool\", \"id\": \"73a56476-932b-4a44-a67c-13b527f768af\"}, {\"type\": \"PreviewSaveTool\", \"id\": \"4d601e96-8071-42a1-b575-fa5535758e1c\"}, {\"type\": \"ResizeTool\", \"id\": \"650555dd-7f91-4c39-8410-542cdd4f7a59\"}, {\"type\": \"ResetTool\", \"id\": \"137ff5cc-c886-450f-ad78-d582cfb56b84\"}, {\"type\": \"HelpTool\", \"id\": \"5dbcde50-0699-4a59-bb78-670a524d1280\"}], \"left\": [{\"type\": \"LinearAxis\", \"id\": \"077fa1a8-8a2d-47b3-aa2a-49b8e6a8d8bc\"}]}, \"type\": \"Plot\", \"id\": \"adfb6ad9-a247-4aef-89c3-5d96f3b7e496\", \"subtype\": \"Figure\"}, {\"attributes\": {\"plot\": {\"subtype\": \"Figure\", \"type\": \"Plot\", \"id\": \"adfb6ad9-a247-4aef-89c3-5d96f3b7e496\"}, \"ticker\": {\"type\": \"BasicTicker\", \"id\": \"54cf651b-8eee-4d75-a74f-afe17ad0e071\"}}, \"type\": \"Grid\", \"id\": \"2f36a540-69eb-4292-bcfc-232bb420b0a1\"}, {\"attributes\": {\"plot\": {\"subtype\": \"Figure\", \"type\": \"Plot\", \"id\": \"adfb6ad9-a247-4aef-89c3-5d96f3b7e496\"}, \"formatter\": {\"type\": \"BasicTickFormatter\", \"id\": \"9a112a62-6706-48ad-9421-a3871e89b5fe\"}, \"ticker\": {\"type\": \"BasicTicker\", \"id\": \"54cf651b-8eee-4d75-a74f-afe17ad0e071\"}}, \"type\": \"LinearAxis\", \"id\": \"e6ca209e-3478-467c-8664-68847bfdb073\"}, {\"attributes\": {}, \"type\": \"BasicTicker\", \"id\": \"02cd0605-76ae-4a4a-9894-07dc599ab445\"}, {\"attributes\": {}, \"type\": \"BasicTickFormatter\", \"id\": \"4748cf87-8c9a-426d-badc-5efa5c4cf34e\"}, {\"attributes\": {\"plot\": {\"subtype\": \"Chart\", \"type\": \"Plot\", \"id\": \"33844f0c-9586-49f9-9687-381d6405b05f\"}, \"axis_label\": \"Input\", \"formatter\": {\"type\": \"BasicTickFormatter\", \"id\": \"afc6bb10-8c91-422c-98a6-08a017e45d1d\"}, \"ticker\": {\"type\": \"BasicTicker\", \"id\": \"67c2a4e3-249c-4b63-ae4c-5e5f236bea89\"}}, \"type\": \"LinearAxis\", \"id\": \"8599119a-900d-4231-beb9-0b1c19ff5a3d\"}, {\"attributes\": {\"x_range\": {\"type\": \"Range1d\", \"id\": \"17fd5a99-8c15-47e4-b066-f4cb96298774\"}, \"y_mapper_type\": \"auto\", \"title_text_font_size\": {\"value\": \"14pt\"}, \"yscale\": \"auto\", \"y_range\": {\"type\": \"Range1d\", \"id\": \"551aa71f-9c8d-42f5-b11b-23761215cd33\"}, \"x_mapper_type\": \"auto\", \"renderers\": [{\"type\": \"BoxAnnotation\", \"id\": \"c9ebf238-8254-49b6-8240-7db0bec02a54\"}, {\"type\": \"GlyphRenderer\", \"id\": \"8304b9da-3037-4703-9a8b-3af16076977a\"}, {\"type\": \"LinearAxis\", \"id\": \"8599119a-900d-4231-beb9-0b1c19ff5a3d\"}, {\"type\": \"LinearAxis\", \"id\": \"d7332dd6-a00d-4624-9444-cf6f8f860013\"}, {\"type\": \"Grid\", \"id\": \"e911c297-7f75-46a3-9217-3b3f3744887e\"}, {\"type\": \"Grid\", \"id\": \"1b4b2d04-a21b-4020-9489-5e45505d30a2\"}], \"below\": [{\"type\": \"LinearAxis\", \"id\": \"8599119a-900d-4231-beb9-0b1c19ff5a3d\"}], \"tool_events\": {\"type\": \"ToolEvents\", \"id\": \"108c4b88-ae29-4166-9b49-4313418c44a4\"}, \"xscale\": \"auto\", \"tools\": [{\"type\": \"PanTool\", \"id\": \"89331ac9-0b88-4355-acad-925a1ff479fa\"}, {\"type\": \"WheelZoomTool\", \"id\": \"7428eb62-5381-4da3-b702-f1c1557af08a\"}, {\"type\": \"BoxZoomTool\", \"id\": \"03261724-39eb-4fbf-8a49-70bacfb82c84\"}, {\"type\": \"PreviewSaveTool\", \"id\": \"ea5b49e9-f698-4c2d-aa6e-abbc85bcea14\"}, {\"type\": \"ResizeTool\", \"id\": \"f0cf14f9-fe55-47cd-815c-2a917e52d2ba\"}, {\"type\": \"ResetTool\", \"id\": \"a4a0eed4-a42c-4696-9e7d-7cf2248c8860\"}, {\"type\": \"HelpTool\", \"id\": \"73b1c592-e0db-4283-a2fd-d5a9c64897fd\"}], \"legend\": null, \"left\": [{\"type\": \"LinearAxis\", \"id\": \"d7332dd6-a00d-4624-9444-cf6f8f860013\"}]}, \"type\": \"Plot\", \"id\": \"33844f0c-9586-49f9-9687-381d6405b05f\", \"subtype\": \"Chart\"}, {\"attributes\": {}, \"type\": \"ToolEvents\", \"id\": \"68e73049-5664-4e23-9c05-dc0719977781\"}, {\"attributes\": {\"line_color\": {\"value\": \"#1f77b4\"}, \"line_alpha\": {\"value\": 0.1}, \"y\": {\"field\": \"y\"}, \"x\": {\"field\": \"x\"}}, \"type\": \"Line\", \"id\": \"443e3efc-3b55-4fb2-b761-eec5d8251125\"}, {\"attributes\": {\"plot\": {\"subtype\": \"Figure\", \"type\": \"Plot\", \"id\": \"adfb6ad9-a247-4aef-89c3-5d96f3b7e496\"}}, \"type\": \"HelpTool\", \"id\": \"5dbcde50-0699-4a59-bb78-670a524d1280\"}, {\"attributes\": {\"plot\": {\"subtype\": \"Chart\", \"type\": \"Plot\", \"id\": \"33844f0c-9586-49f9-9687-381d6405b05f\"}, \"axis_label\": \"Prediction\", \"formatter\": {\"type\": \"BasicTickFormatter\", \"id\": \"ff4cdf5f-7a33-4ab7-b4f5-a8e690f5aaf5\"}, \"ticker\": {\"type\": \"BasicTicker\", \"id\": \"02cd0605-76ae-4a4a-9894-07dc599ab445\"}}, \"type\": \"LinearAxis\", \"id\": \"d7332dd6-a00d-4624-9444-cf6f8f860013\"}, {\"attributes\": {\"plot\": {\"subtype\": \"Figure\", \"type\": \"Plot\", \"id\": \"adfb6ad9-a247-4aef-89c3-5d96f3b7e496\"}, \"ticker\": {\"type\": \"BasicTicker\", \"id\": \"c90c4c3c-4895-4789-8660-674754ee7ae5\"}, \"dimension\": 1}, \"type\": \"Grid\", \"id\": \"96165073-7b4e-4947-be95-d520d8473aec\"}, {\"attributes\": {\"plot\": {\"subtype\": \"Figure\", \"type\": \"Plot\", \"id\": \"adfb6ad9-a247-4aef-89c3-5d96f3b7e496\"}, \"overlay\": {\"type\": \"BoxAnnotation\", \"id\": \"376a0802-d860-41bf-b79c-fcf51acefd89\"}}, \"type\": \"BoxZoomTool\", \"id\": \"73a56476-932b-4a44-a67c-13b527f768af\"}, {\"attributes\": {\"line_color\": {\"value\": \"black\"}, \"line_alpha\": {\"value\": 1.0}, \"render_mode\": \"css\", \"bottom_units\": \"screen\", \"level\": \"overlay\", \"top_units\": \"screen\", \"fill_alpha\": {\"value\": 0.5}, \"plot\": null, \"left_units\": \"screen\", \"line_dash\": [4, 4], \"line_width\": {\"value\": 2}, \"right_units\": \"screen\", \"fill_color\": {\"value\": \"lightgrey\"}}, \"type\": \"BoxAnnotation\", \"id\": \"c9ebf238-8254-49b6-8240-7db0bec02a54\"}, {\"attributes\": {\"line_color\": {\"value\": \"black\"}, \"line_alpha\": {\"value\": 1.0}, \"render_mode\": \"css\", \"bottom_units\": \"screen\", \"level\": \"overlay\", \"top_units\": \"screen\", \"fill_alpha\": {\"value\": 0.5}, \"plot\": null, \"left_units\": \"screen\", \"line_dash\": [4, 4], \"line_width\": {\"value\": 2}, \"right_units\": \"screen\", \"fill_color\": {\"value\": \"lightgrey\"}}, \"type\": \"BoxAnnotation\", \"id\": \"376a0802-d860-41bf-b79c-fcf51acefd89\"}, {\"attributes\": {\"plot\": {\"subtype\": \"Chart\", \"type\": \"Plot\", \"id\": \"33844f0c-9586-49f9-9687-381d6405b05f\"}}, \"type\": \"HelpTool\", \"id\": \"73b1c592-e0db-4283-a2fd-d5a9c64897fd\"}, {\"attributes\": {\"plot\": {\"subtype\": \"Chart\", \"type\": \"Plot\", \"id\": \"33844f0c-9586-49f9-9687-381d6405b05f\"}}, \"type\": \"PreviewSaveTool\", \"id\": \"ea5b49e9-f698-4c2d-aa6e-abbc85bcea14\"}, {\"attributes\": {\"nonselection_glyph\": {\"type\": \"Line\", \"id\": \"943d5d9c-0a07-4933-9a08-94f04baa890a\"}, \"data_source\": {\"type\": \"ColumnDataSource\", \"id\": \"5b40965a-3433-4fda-9e6f-15f4e55ff693\"}, \"selection_glyph\": null, \"hover_glyph\": null, \"glyph\": {\"type\": \"Line\", \"id\": \"1739a173-38e5-4879-816f-80d7821364c4\"}}, \"type\": \"GlyphRenderer\", \"id\": \"7b750642-e288-4609-9170-95e1e42fede6\"}, {\"attributes\": {\"plot\": {\"subtype\": \"Chart\", \"type\": \"Plot\", \"id\": \"33844f0c-9586-49f9-9687-381d6405b05f\"}, \"overlay\": {\"type\": \"BoxAnnotation\", \"id\": \"c9ebf238-8254-49b6-8240-7db0bec02a54\"}}, \"type\": \"BoxZoomTool\", \"id\": \"03261724-39eb-4fbf-8a49-70bacfb82c84\"}, {\"attributes\": {\"plot\": {\"subtype\": \"Chart\", \"type\": \"Plot\", \"id\": \"33844f0c-9586-49f9-9687-381d6405b05f\"}}, \"type\": \"WheelZoomTool\", \"id\": \"7428eb62-5381-4da3-b702-f1c1557af08a\"}, {\"attributes\": {\"plot\": {\"subtype\": \"Chart\", \"type\": \"Plot\", \"id\": \"33844f0c-9586-49f9-9687-381d6405b05f\"}}, \"type\": \"ResizeTool\", \"id\": \"f0cf14f9-fe55-47cd-815c-2a917e52d2ba\"}]}, \"title\": \"Bokeh Application\"}};\n",
       "            var render_items = [{\"notebook_comms_target\": \"7460cdd8-7a0b-43e5-81e3-23572b553627\", \"docid\": \"6efe663a-1493-4631-83e3-57d46e852a74\", \"elementid\": \"2db8bc6c-dfd4-4b75-be57-55469c7a7cd3\", \"modelid\": \"adfb6ad9-a247-4aef-89c3-5d96f3b7e496\"}];\n",
       "            \n",
       "            Bokeh.embed.embed_items(docs_json, render_items);\n",
       "        });\n",
       "      },\n",
       "      function(Bokeh) {\n",
       "      }\n",
       "    ];\n",
       "  \n",
       "    function run_inline_js() {\n",
       "      for (var i = 0; i < inline_js.length; i++) {\n",
       "        inline_js[i](window.Bokeh);\n",
       "      }\n",
       "    }\n",
       "  \n",
       "    if (window._bokeh_is_loading === 0) {\n",
       "      console.log(\"Bokeh: BokehJS loaded, going straight to plotting\");\n",
       "      run_inline_js();\n",
       "    } else {\n",
       "      load_libs(js_urls, function() {\n",
       "        console.log(\"Bokeh: BokehJS plotting callback run at\", now());\n",
       "        run_inline_js();\n",
       "      });\n",
       "    }\n",
       "  }(this));\n",
       "</script>"
      ]
     },
     "metadata": {},
     "output_type": "display_data"
    },
    {
     "data": {
      "text/plain": [
       "<bokeh.io._CommsHandle at 0x94e7278>"
      ]
     },
     "execution_count": 6,
     "metadata": {},
     "output_type": "execute_result"
    }
   ],
   "source": [
    "show(f)"
   ]
  },
  {
   "cell_type": "markdown",
   "metadata": {},
   "source": [
    "The above graph has in red the actual sine wave and in blue the neural net prediction of 100 points between roughly -5π and 5π. The black lines are the area of the training range, which is where the prediction is much more accurate while on the outside it diverges to infinity. This was the original prediction using 9 hidden units and 10000 numbers between -3π and 3π. We used a more accurate model later."
   ]
  },
  {
   "cell_type": "markdown",
   "metadata": {},
   "source": [
    "##### sine(x): Calculates the sine of x."
   ]
  },
  {
   "cell_type": "markdown",
   "metadata": {},
   "source": [
    "Using skflow and its library we trained a TensorFlowDNNRegressor with 9 hidden units.\n",
    "<br>Process:\n",
    "\n",
    "* Originally trained using random data by picking random numbers between 0 and 1000 and converting to radians\n",
    "    * Trained over 10,000 iterations.\n",
    "    * Used 2 hidden units.\n",
    "    * High error, mean squared error of 0.609.\n",
    "    \n",
    "* Next used 0 to 720 degrees and fed all the values to the net.\n",
    "    * Trained over 10,000 iterations.\n",
    "    * Used 2 hidden units.\n",
    "    * Still had very high error, didn't seem to learn very well. Mean squared error of 0.499.\n",
    "    \n",
    "* Generated 10000 numbers between -π to π and fed the neural network the sine taylor expansion (9 of the terms) for each value.\n",
    "    * Trained over 50,000 iterations.\n",
    "    * Used 9 hidden units because the input had 9 terms.\n",
    "    * Was much more accurate than the previous attempts, can predict in the range between -pi and pi almost spot on. Mean squared error between -π to π was 0.00002761.\n",
    "    * As you increase the range the prediction becomes less accurate and heads off to infinite and can't seem to generalize the sine curve. Mean squared error of an astounding 28556.8 between -2π and 2π.\n",
    "    \n",
    "* Generated 50000 numbers between -3π to 3π and tried several different variations of hidden units.\n",
    "    * Trained over 100,000 iterations\n",
    "    * Using 2 layers of 6 hidden units:\n",
    "        * Accurate between -3π and 3π with a mean squared error of 0.000468\n",
    "        * Can't generalize the curve, the left side goes to negative infinity and the right to positive infinity. Mean squared error of 9139.7 between -4π and 4π.\n",
    "    * Using a single layer of 729 hidden units.\n",
    "        * Accurate between -3π and 3π with a mean squared error of 0.016726, not as accurate as the 2 layered neural net.\n",
    "        * Still can't seem to generalize but has a better mean squared error between -4π and 4π of 858.7. Interestingly, both sides go to positive infinity i with this net, and on the negative side of the curve it appears it will head to negative infinity but then curves to positive infinity."
   ]
  },
  {
   "cell_type": "code",
   "execution_count": 7,
   "metadata": {
    "collapsed": true
   },
   "outputs": [],
   "source": [
    "df = pd.read_csv('../MA490-MachineLearning-FinalProject/sineData(pi).csv')\n",
    "f = figure()\n",
    "f.line(df.Input.values, df.Prediction.values, color='blue')\n",
    "x = np.linspace(-np.pi, np.pi, 100)\n",
    "y = np.sin(x)\n",
    "f.line(x,y,color='red')\n",
    "x = [-np.pi,-np.pi]"
   ]
  },
  {
   "cell_type": "markdown",
   "metadata": {},
   "source": [
    "The red in the graph below is an actual sine wave while the blue is an prediction using a neural net described above using numbers between -π and π. As you can see it is very accurate."
   ]
  },
  {
   "cell_type": "code",
   "execution_count": 8,
   "metadata": {
    "collapsed": false
   },
   "outputs": [
    {
     "data": {
      "text/html": [
       "\n",
       "\n",
       "    <div class=\"plotdiv\" id=\"2110b6d5-c074-4b10-a925-40b522d9b070\"></div>\n",
       "<script type=\"text/javascript\">\n",
       "  \n",
       "  (function(global) {\n",
       "    function now() {\n",
       "      return new Date();\n",
       "    }\n",
       "  \n",
       "    if (typeof (window._bokeh_onload_callbacks) === \"undefined\") {\n",
       "      window._bokeh_onload_callbacks = [];\n",
       "    }\n",
       "  \n",
       "    function run_callbacks() {\n",
       "      window._bokeh_onload_callbacks.forEach(function(callback) { callback() });\n",
       "      delete window._bokeh_onload_callbacks\n",
       "      console.info(\"Bokeh: all callbacks have finished\");\n",
       "    }\n",
       "  \n",
       "    function load_libs(js_urls, callback) {\n",
       "      window._bokeh_onload_callbacks.push(callback);\n",
       "      if (window._bokeh_is_loading > 0) {\n",
       "        console.log(\"Bokeh: BokehJS is being loaded, scheduling callback at\", now());\n",
       "        return null;\n",
       "      }\n",
       "      if (js_urls == null || js_urls.length === 0) {\n",
       "        run_callbacks();\n",
       "        return null;\n",
       "      }\n",
       "      console.log(\"Bokeh: BokehJS not loaded, scheduling load and callback at\", now());\n",
       "      window._bokeh_is_loading = js_urls.length;\n",
       "      for (var i = 0; i < js_urls.length; i++) {\n",
       "        var url = js_urls[i];\n",
       "        var s = document.createElement('script');\n",
       "        s.src = url;\n",
       "        s.async = false;\n",
       "        s.onreadystatechange = s.onload = function() {\n",
       "          window._bokeh_is_loading--;\n",
       "          if (window._bokeh_is_loading === 0) {\n",
       "            console.log(\"Bokeh: all BokehJS libraries loaded\");\n",
       "            run_callbacks()\n",
       "          }\n",
       "        };\n",
       "        s.onerror = function() {\n",
       "          console.warn(\"failed to load library \" + url);\n",
       "        };\n",
       "        console.log(\"Bokeh: injecting script tag for BokehJS library: \", url);\n",
       "        document.getElementsByTagName(\"head\")[0].appendChild(s);\n",
       "      }\n",
       "    };var element = document.getElementById(\"2110b6d5-c074-4b10-a925-40b522d9b070\");\n",
       "    if (element == null) {\n",
       "      console.log(\"Bokeh: ERROR: autoload.js configured with elementid '2110b6d5-c074-4b10-a925-40b522d9b070' but no matching script tag was found. \")\n",
       "      return false;\n",
       "    }var js_urls = [];\n",
       "  \n",
       "    var inline_js = [\n",
       "      function(Bokeh) {\n",
       "        Bokeh.$(function() {\n",
       "            var docs_json = {\"75a617b4-0d9c-4969-9dbe-c6f000e38869\": {\"version\": \"0.11.0\", \"roots\": {\"root_ids\": [\"33844f0c-9586-49f9-9687-381d6405b05f\", \"adfb6ad9-a247-4aef-89c3-5d96f3b7e496\", \"c3a06ed2-0849-4cb5-8508-637bcc2e2b8f\"], \"references\": [{\"attributes\": {\"plot\": {\"subtype\": \"Figure\", \"type\": \"Plot\", \"id\": \"adfb6ad9-a247-4aef-89c3-5d96f3b7e496\"}, \"formatter\": {\"type\": \"BasicTickFormatter\", \"id\": \"4748cf87-8c9a-426d-badc-5efa5c4cf34e\"}, \"ticker\": {\"type\": \"BasicTicker\", \"id\": \"c90c4c3c-4895-4789-8660-674754ee7ae5\"}}, \"type\": \"LinearAxis\", \"id\": \"077fa1a8-8a2d-47b3-aa2a-49b8e6a8d8bc\"}, {\"attributes\": {\"plot\": {\"subtype\": \"Figure\", \"type\": \"Plot\", \"id\": \"adfb6ad9-a247-4aef-89c3-5d96f3b7e496\"}, \"formatter\": {\"type\": \"BasicTickFormatter\", \"id\": \"9a112a62-6706-48ad-9421-a3871e89b5fe\"}, \"ticker\": {\"type\": \"BasicTicker\", \"id\": \"54cf651b-8eee-4d75-a74f-afe17ad0e071\"}}, \"type\": \"LinearAxis\", \"id\": \"e6ca209e-3478-467c-8664-68847bfdb073\"}, {\"attributes\": {\"callback\": null, \"end\": 1.26, \"start\": -1.26}, \"type\": \"Range1d\", \"id\": \"551aa71f-9c8d-42f5-b11b-23761215cd33\"}, {\"attributes\": {\"callback\": null}, \"type\": \"DataRange1d\", \"id\": \"37fee28e-1c05-4f79-9aca-402c35af4043\"}, {\"attributes\": {}, \"type\": \"BasicTickFormatter\", \"id\": \"242e8fd6-a073-423e-bdd5-c94ca019f1e8\"}, {\"attributes\": {\"callback\": null}, \"type\": \"DataRange1d\", \"id\": \"78429f00-589e-4203-9944-9d749b02a923\"}, {\"attributes\": {\"plot\": {\"subtype\": \"Chart\", \"type\": \"Plot\", \"id\": \"33844f0c-9586-49f9-9687-381d6405b05f\"}, \"ticker\": {\"type\": \"BasicTicker\", \"id\": \"67c2a4e3-249c-4b63-ae4c-5e5f236bea89\"}}, \"type\": \"Grid\", \"id\": \"e911c297-7f75-46a3-9217-3b3f3744887e\"}, {\"attributes\": {\"nonselection_glyph\": {\"type\": \"Line\", \"id\": \"02a0d4a4-03f5-4ee9-910d-0aeb0786c56a\"}, \"data_source\": {\"type\": \"ColumnDataSource\", \"id\": \"0f3fd818-2c85-40a5-89da-4445d6942a89\"}, \"selection_glyph\": null, \"hover_glyph\": null, \"glyph\": {\"type\": \"Line\", \"id\": \"675da2a0-32fa-4104-b5f0-4fe94b914d7d\"}}, \"type\": \"GlyphRenderer\", \"id\": \"7920597f-4ad9-4ab5-9d0c-81e2b0ffa7b6\"}, {\"attributes\": {\"nonselection_glyph\": {\"type\": \"Line\", \"id\": \"443e3efc-3b55-4fb2-b761-eec5d8251125\"}, \"data_source\": {\"type\": \"ColumnDataSource\", \"id\": \"b0137738-8aa2-4b8c-b23a-9a8ac9e21465\"}, \"selection_glyph\": null, \"hover_glyph\": null, \"glyph\": {\"type\": \"Line\", \"id\": \"e1fb8af6-59a2-4842-b46b-47a3f6c69116\"}}, \"type\": \"GlyphRenderer\", \"id\": \"b9284d4c-b111-4a44-b028-c6596d0ce50f\"}, {\"attributes\": {}, \"type\": \"ToolEvents\", \"id\": \"108c4b88-ae29-4166-9b49-4313418c44a4\"}, {\"attributes\": {\"line_color\": {\"value\": \"#1f77b4\"}, \"line_alpha\": {\"value\": 0.1}, \"y\": {\"field\": \"y\"}, \"x\": {\"field\": \"x\"}}, \"type\": \"Line\", \"id\": \"943d5d9c-0a07-4933-9a08-94f04baa890a\"}, {\"attributes\": {\"plot\": {\"subtype\": \"Figure\", \"type\": \"Plot\", \"id\": \"adfb6ad9-a247-4aef-89c3-5d96f3b7e496\"}}, \"type\": \"PreviewSaveTool\", \"id\": \"4d601e96-8071-42a1-b575-fa5535758e1c\"}, {\"attributes\": {\"x_range\": {\"type\": \"DataRange1d\", \"id\": \"a1c65990-745b-4e13-9aff-1d5f4487adf0\"}, \"y_range\": {\"type\": \"DataRange1d\", \"id\": \"78429f00-589e-4203-9944-9d749b02a923\"}, \"renderers\": [{\"type\": \"LinearAxis\", \"id\": \"3f6111a3-2760-4ecd-978f-b15055d59a65\"}, {\"type\": \"Grid\", \"id\": \"351186a5-72c1-446e-8129-c16f613e7817\"}, {\"type\": \"LinearAxis\", \"id\": \"c9d908d4-46e1-4137-a833-5335ff660286\"}, {\"type\": \"Grid\", \"id\": \"a7856b9a-4978-457d-b82d-6beb57603da9\"}, {\"type\": \"BoxAnnotation\", \"id\": \"539fe92d-62f9-47ff-90df-617539e487ac\"}, {\"type\": \"GlyphRenderer\", \"id\": \"83117f1c-b08d-4b37-a444-786e66a98574\"}, {\"type\": \"GlyphRenderer\", \"id\": \"e4dcef9c-6ae1-4779-aa82-988467f00f47\"}], \"below\": [{\"type\": \"LinearAxis\", \"id\": \"3f6111a3-2760-4ecd-978f-b15055d59a65\"}], \"tool_events\": {\"type\": \"ToolEvents\", \"id\": \"1866953b-85a1-464d-9227-e4f446958c47\"}, \"tools\": [{\"type\": \"PanTool\", \"id\": \"afc57d75-1cdf-457c-9596-cd96728b8a17\"}, {\"type\": \"WheelZoomTool\", \"id\": \"6ede1dac-06d0-403e-8f5b-9a9ea6864052\"}, {\"type\": \"BoxZoomTool\", \"id\": \"206bf51a-d6d2-4a9f-bd3a-8ddfaeda3ab1\"}, {\"type\": \"PreviewSaveTool\", \"id\": \"8aafb8ab-e152-412e-8a35-64f41ca5a387\"}, {\"type\": \"ResizeTool\", \"id\": \"1950ab55-1103-4861-b3d5-ca8d3b6c189e\"}, {\"type\": \"ResetTool\", \"id\": \"75b0fac0-4941-4407-81ee-c848ca072492\"}, {\"type\": \"HelpTool\", \"id\": \"69da6744-d2bf-44e7-93eb-be1589965503\"}], \"left\": [{\"type\": \"LinearAxis\", \"id\": \"c9d908d4-46e1-4137-a833-5335ff660286\"}]}, \"type\": \"Plot\", \"id\": \"c3a06ed2-0849-4cb5-8508-637bcc2e2b8f\", \"subtype\": \"Figure\"}, {\"attributes\": {}, \"type\": \"BasicTicker\", \"id\": \"f855de21-2ea1-476e-9151-7563c0ba4bd6\"}, {\"attributes\": {\"line_color\": {\"value\": \"red\"}, \"x\": {\"field\": \"x\"}, \"y\": {\"field\": \"y\"}}, \"type\": \"Line\", \"id\": \"1fa49b2a-d465-4251-829b-a0185a681379\"}, {\"attributes\": {\"plot\": {\"subtype\": \"Figure\", \"type\": \"Plot\", \"id\": \"c3a06ed2-0849-4cb5-8508-637bcc2e2b8f\"}, \"formatter\": {\"type\": \"BasicTickFormatter\", \"id\": \"242e8fd6-a073-423e-bdd5-c94ca019f1e8\"}, \"ticker\": {\"type\": \"BasicTicker\", \"id\": \"f855de21-2ea1-476e-9151-7563c0ba4bd6\"}}, \"type\": \"LinearAxis\", \"id\": \"c9d908d4-46e1-4137-a833-5335ff660286\"}, {\"attributes\": {\"x_range\": {\"type\": \"DataRange1d\", \"id\": \"b06d29d9-474b-452f-a4eb-a7eaf48bc7ce\"}, \"y_range\": {\"type\": \"DataRange1d\", \"id\": \"37fee28e-1c05-4f79-9aca-402c35af4043\"}, \"renderers\": [{\"type\": \"LinearAxis\", \"id\": \"e6ca209e-3478-467c-8664-68847bfdb073\"}, {\"type\": \"Grid\", \"id\": \"2f36a540-69eb-4292-bcfc-232bb420b0a1\"}, {\"type\": \"LinearAxis\", \"id\": \"077fa1a8-8a2d-47b3-aa2a-49b8e6a8d8bc\"}, {\"type\": \"Grid\", \"id\": \"96165073-7b4e-4947-be95-d520d8473aec\"}, {\"type\": \"BoxAnnotation\", \"id\": \"376a0802-d860-41bf-b79c-fcf51acefd89\"}, {\"type\": \"GlyphRenderer\", \"id\": \"7b750642-e288-4609-9170-95e1e42fede6\"}, {\"type\": \"GlyphRenderer\", \"id\": \"f7c96e99-b03d-4381-a1a0-40877d01b2f8\"}, {\"type\": \"GlyphRenderer\", \"id\": \"7920597f-4ad9-4ab5-9d0c-81e2b0ffa7b6\"}, {\"type\": \"GlyphRenderer\", \"id\": \"b9284d4c-b111-4a44-b028-c6596d0ce50f\"}], \"below\": [{\"type\": \"LinearAxis\", \"id\": \"e6ca209e-3478-467c-8664-68847bfdb073\"}], \"tool_events\": {\"type\": \"ToolEvents\", \"id\": \"68e73049-5664-4e23-9c05-dc0719977781\"}, \"tools\": [{\"type\": \"PanTool\", \"id\": \"8022393f-16cf-466c-93f3-7177fc477508\"}, {\"type\": \"WheelZoomTool\", \"id\": \"efbbc423-3ec5-4d36-833e-e1da0fe8d9cd\"}, {\"type\": \"BoxZoomTool\", \"id\": \"73a56476-932b-4a44-a67c-13b527f768af\"}, {\"type\": \"PreviewSaveTool\", \"id\": \"4d601e96-8071-42a1-b575-fa5535758e1c\"}, {\"type\": \"ResizeTool\", \"id\": \"650555dd-7f91-4c39-8410-542cdd4f7a59\"}, {\"type\": \"ResetTool\", \"id\": \"137ff5cc-c886-450f-ad78-d582cfb56b84\"}, {\"type\": \"HelpTool\", \"id\": \"5dbcde50-0699-4a59-bb78-670a524d1280\"}], \"left\": [{\"type\": \"LinearAxis\", \"id\": \"077fa1a8-8a2d-47b3-aa2a-49b8e6a8d8bc\"}]}, \"type\": \"Plot\", \"id\": \"adfb6ad9-a247-4aef-89c3-5d96f3b7e496\", \"subtype\": \"Figure\"}, {\"attributes\": {\"plot\": {\"subtype\": \"Figure\", \"type\": \"Plot\", \"id\": \"c3a06ed2-0849-4cb5-8508-637bcc2e2b8f\"}}, \"type\": \"ResizeTool\", \"id\": \"1950ab55-1103-4861-b3d5-ca8d3b6c189e\"}, {\"attributes\": {\"callback\": null, \"column_names\": [\"y\", \"x\"], \"data\": {\"y\": [-3, 3], \"x\": [9.42477796076938, 9.42477796076938]}}, \"type\": \"ColumnDataSource\", \"id\": \"b0137738-8aa2-4b8c-b23a-9a8ac9e21465\"}, {\"attributes\": {\"plot\": {\"subtype\": \"Chart\", \"type\": \"Plot\", \"id\": \"33844f0c-9586-49f9-9687-381d6405b05f\"}, \"axis_label\": \"Input\", \"formatter\": {\"type\": \"BasicTickFormatter\", \"id\": \"afc6bb10-8c91-422c-98a6-08a017e45d1d\"}, \"ticker\": {\"type\": \"BasicTicker\", \"id\": \"67c2a4e3-249c-4b63-ae4c-5e5f236bea89\"}}, \"type\": \"LinearAxis\", \"id\": \"8599119a-900d-4231-beb9-0b1c19ff5a3d\"}, {\"attributes\": {\"plot\": {\"subtype\": \"Figure\", \"type\": \"Plot\", \"id\": \"adfb6ad9-a247-4aef-89c3-5d96f3b7e496\"}, \"ticker\": {\"type\": \"BasicTicker\", \"id\": \"54cf651b-8eee-4d75-a74f-afe17ad0e071\"}}, \"type\": \"Grid\", \"id\": \"2f36a540-69eb-4292-bcfc-232bb420b0a1\"}, {\"attributes\": {\"plot\": {\"subtype\": \"Chart\", \"type\": \"Plot\", \"id\": \"33844f0c-9586-49f9-9687-381d6405b05f\"}}, \"type\": \"PreviewSaveTool\", \"id\": \"ea5b49e9-f698-4c2d-aa6e-abbc85bcea14\"}, {\"attributes\": {\"callback\": null, \"column_names\": [\"x_values\", \"y_values\"], \"data\": {\"x_values\": [-9.36, -9.04, -8.73, -8.41, -8.09, -7.77, -7.46, -7.14, -6.82, -6.51, -6.19, -5.87, -5.55, -5.24, -4.92, -4.6, -4.28, -3.97, -3.65, -3.33, -3.01, -2.7, -2.38, -2.06, -1.75, -1.43, -1.11, -0.7929999999999999, -0.47600000000000003, -0.159, 0.159, 0.47600000000000003, 0.7929999999999999, 1.11, 1.43, 1.75, 2.06, 2.38, 2.7, 3.01, 3.33, 3.65, 3.97, 4.28, 4.6, 4.92, 5.24, 5.55, 5.87, 6.19, 6.51, 6.82, 7.14, 7.46, 7.77, 8.09, 8.41, 8.73, 9.04, 9.36], \"chart_index\": [null, null, null, null, null, null, null, null, null, null, null, null, null, null, null, null, null, null, null, null, null, null, null, null, null, null, null, null, null, null, null, null, null, null, null, null, null, null, null, null, null, null, null, null, null, null, null, null, null, null, null, null, null, null, null, null, null, null, null, null], \"y_values\": [0.812, 0.0786, -0.29600000000000004, -0.659, -0.9440000000000001, -0.9690000000000001, -0.9159999999999999, -0.726, -0.469, -0.23399999999999999, 0.157, 0.445, 0.691, 0.8370000000000001, 1.01, 1.05, 0.9279999999999999, 0.71, 0.43700000000000006, 0.141, -0.21, -0.503, -0.722, -0.86, -0.9159999999999999, -0.895, -0.7929999999999999, -0.605, -0.37799999999999995, -0.128, 0.13, 0.38, 0.607, 0.78, 0.8690000000000001, 0.887, 0.8320000000000001, 0.701, 0.495, 0.222, -0.102, -0.44299999999999995, -0.674, -0.875, -1.01, -1.05, -0.95, -0.69, -0.251, -0.15, 0.175, 0.40700000000000003, 0.6559999999999999, 0.883, 0.9159999999999999, 0.7929999999999999, 0.5820000000000001, 0.34700000000000003, 0.134, 0.179]}}, \"type\": \"ColumnDataSource\", \"id\": \"ae5306ea-41ec-4cd4-aeeb-93e33e6e2f3b\"}, {\"attributes\": {\"plot\": {\"subtype\": \"Figure\", \"type\": \"Plot\", \"id\": \"c3a06ed2-0849-4cb5-8508-637bcc2e2b8f\"}}, \"type\": \"HelpTool\", \"id\": \"69da6744-d2bf-44e7-93eb-be1589965503\"}, {\"attributes\": {}, \"type\": \"BasicTickFormatter\", \"id\": \"9a112a62-6706-48ad-9421-a3871e89b5fe\"}, {\"attributes\": {\"y\": {\"field\": \"y\"}, \"x\": {\"field\": \"x\"}}, \"type\": \"Line\", \"id\": \"675da2a0-32fa-4104-b5f0-4fe94b914d7d\"}, {\"attributes\": {\"nonselection_glyph\": {\"type\": \"Line\", \"id\": \"6d3a65c1-8975-42e7-a795-013afbf4d776\"}, \"data_source\": {\"type\": \"ColumnDataSource\", \"id\": \"105deaca-9d49-4c68-a27d-1d13b385fb04\"}, \"selection_glyph\": null, \"hover_glyph\": null, \"glyph\": {\"type\": \"Line\", \"id\": \"1a084d5a-0c05-4a1f-9a71-4d2d015699b9\"}}, \"type\": \"GlyphRenderer\", \"id\": \"83117f1c-b08d-4b37-a444-786e66a98574\"}, {\"attributes\": {}, \"type\": \"BasicTickFormatter\", \"id\": \"ff4cdf5f-7a33-4ab7-b4f5-a8e690f5aaf5\"}, {\"attributes\": {\"plot\": {\"subtype\": \"Chart\", \"type\": \"Plot\", \"id\": \"33844f0c-9586-49f9-9687-381d6405b05f\"}, \"ticker\": {\"type\": \"BasicTicker\", \"id\": \"02cd0605-76ae-4a4a-9894-07dc599ab445\"}, \"dimension\": 1}, \"type\": \"Grid\", \"id\": \"1b4b2d04-a21b-4020-9489-5e45505d30a2\"}, {\"attributes\": {\"callback\": null}, \"type\": \"DataRange1d\", \"id\": \"b06d29d9-474b-452f-a4eb-a7eaf48bc7ce\"}, {\"attributes\": {\"nonselection_glyph\": {\"type\": \"Line\", \"id\": \"6249ee1c-80b5-4bf1-a513-25c5aa5f8f34\"}, \"data_source\": {\"type\": \"ColumnDataSource\", \"id\": \"68cb85b6-61fd-49e0-9476-bb5aace4eb74\"}, \"selection_glyph\": null, \"hover_glyph\": null, \"glyph\": {\"type\": \"Line\", \"id\": \"1fa49b2a-d465-4251-829b-a0185a681379\"}}, \"type\": \"GlyphRenderer\", \"id\": \"e4dcef9c-6ae1-4779-aa82-988467f00f47\"}, {\"attributes\": {\"plot\": {\"subtype\": \"Figure\", \"type\": \"Plot\", \"id\": \"adfb6ad9-a247-4aef-89c3-5d96f3b7e496\"}}, \"type\": \"ResizeTool\", \"id\": \"650555dd-7f91-4c39-8410-542cdd4f7a59\"}, {\"attributes\": {\"plot\": {\"subtype\": \"Figure\", \"type\": \"Plot\", \"id\": \"c3a06ed2-0849-4cb5-8508-637bcc2e2b8f\"}}, \"type\": \"WheelZoomTool\", \"id\": \"6ede1dac-06d0-403e-8f5b-9a9ea6864052\"}, {\"attributes\": {\"plot\": {\"subtype\": \"Figure\", \"type\": \"Plot\", \"id\": \"c3a06ed2-0849-4cb5-8508-637bcc2e2b8f\"}, \"ticker\": {\"type\": \"BasicTicker\", \"id\": \"d0d2a1c6-081c-48aa-bc8d-1e8e1741f15a\"}}, \"type\": \"Grid\", \"id\": \"351186a5-72c1-446e-8129-c16f613e7817\"}, {\"attributes\": {\"plot\": {\"subtype\": \"Chart\", \"type\": \"Plot\", \"id\": \"33844f0c-9586-49f9-9687-381d6405b05f\"}}, \"type\": \"WheelZoomTool\", \"id\": \"7428eb62-5381-4da3-b702-f1c1557af08a\"}, {\"attributes\": {\"nonselection_glyph\": {\"type\": \"Line\", \"id\": \"943d5d9c-0a07-4933-9a08-94f04baa890a\"}, \"data_source\": {\"type\": \"ColumnDataSource\", \"id\": \"5b40965a-3433-4fda-9e6f-15f4e55ff693\"}, \"selection_glyph\": null, \"hover_glyph\": null, \"glyph\": {\"type\": \"Line\", \"id\": \"1739a173-38e5-4879-816f-80d7821364c4\"}}, \"type\": \"GlyphRenderer\", \"id\": \"7b750642-e288-4609-9170-95e1e42fede6\"}, {\"attributes\": {\"nonselection_glyph\": null, \"data_source\": {\"type\": \"ColumnDataSource\", \"id\": \"ae5306ea-41ec-4cd4-aeeb-93e33e6e2f3b\"}, \"selection_glyph\": null, \"hover_glyph\": null, \"glyph\": {\"type\": \"Circle\", \"id\": \"3bd98595-9b56-43f3-9d46-1ada7617df1e\"}}, \"type\": \"GlyphRenderer\", \"id\": \"8304b9da-3037-4703-9a8b-3af16076977a\"}, {\"attributes\": {\"callback\": null}, \"type\": \"DataRange1d\", \"id\": \"a1c65990-745b-4e13-9aff-1d5f4487adf0\"}, {\"attributes\": {}, \"type\": \"BasicTicker\", \"id\": \"02cd0605-76ae-4a4a-9894-07dc599ab445\"}, {\"attributes\": {}, \"type\": \"BasicTickFormatter\", \"id\": \"4748cf87-8c9a-426d-badc-5efa5c4cf34e\"}, {\"attributes\": {\"line_color\": {\"value\": \"blue\"}, \"x\": {\"field\": \"x\"}, \"y\": {\"field\": \"y\"}}, \"type\": \"Line\", \"id\": \"1a084d5a-0c05-4a1f-9a71-4d2d015699b9\"}, {\"attributes\": {\"plot\": {\"subtype\": \"Figure\", \"type\": \"Plot\", \"id\": \"adfb6ad9-a247-4aef-89c3-5d96f3b7e496\"}}, \"type\": \"HelpTool\", \"id\": \"5dbcde50-0699-4a59-bb78-670a524d1280\"}, {\"attributes\": {\"line_color\": {\"value\": \"black\"}, \"line_alpha\": {\"value\": 1.0}, \"render_mode\": \"css\", \"bottom_units\": \"screen\", \"level\": \"overlay\", \"top_units\": \"screen\", \"fill_alpha\": {\"value\": 0.5}, \"plot\": null, \"left_units\": \"screen\", \"line_dash\": [4, 4], \"line_width\": {\"value\": 2}, \"right_units\": \"screen\", \"fill_color\": {\"value\": \"lightgrey\"}}, \"type\": \"BoxAnnotation\", \"id\": \"c9ebf238-8254-49b6-8240-7db0bec02a54\"}, {\"attributes\": {\"plot\": {\"subtype\": \"Chart\", \"type\": \"Plot\", \"id\": \"33844f0c-9586-49f9-9687-381d6405b05f\"}}, \"type\": \"HelpTool\", \"id\": \"73b1c592-e0db-4283-a2fd-d5a9c64897fd\"}, {\"attributes\": {\"callback\": null, \"column_names\": [\"y\", \"x\"], \"data\": {\"y\": [1.0, 0.9754297868854069, 0.902926538286621, 0.7860530947427871, 0.630552667084522, 0.44406661260577346, 0.23575893550942645, 0.015865963834807057, -0.2048066680651916, -0.4154150130018873, -0.605609687137666, -0.7660444431189776, -0.8888354486549231, -0.9679487013963561, -0.9994965423831851, -0.9819286972627068, -0.9161084574320697, -0.8052702575310587, -0.6548607339452852, -0.4722710747726828, -0.2664738136900351, -0.04758191582374232, 0.1736481776669304, 0.38634512569312873, 0.5800569095711983, 0.7452644496757549, 0.8738493770697852, 0.9594929736144973, 0.9979866764718843, 0.9874388886763944, 0.9283679330160728, 0.8236765814298329, 0.6785094115571323, 0.5000000000000001, 0.296920375328275, 0.07924995685678848, -0.14231483827328517, -0.3568862215918711, -0.5539200638661097, -0.7237340381050698, -0.8579834132349767, -0.9500711177409452, -0.9954719225730846, -0.9919548128307953, -0.9396926207859085, -0.8412535328311813, -0.7014748877063215, -0.5272254676105026, -0.3270679633174217, -0.11083819990101104, 0.11083819990101104, 0.3270679633174217, 0.5272254676105026, 0.7014748877063215, 0.8412535328311803, 0.9396926207859079, 0.9919548128307951, 0.9954719225730847, 0.9500711177409458, 0.8579834132349776, 0.7237340381050709, 0.5539200638661111, 0.3568862215918728, 0.14231483827328606, -0.0792499568567876, -0.2969203753282741, -0.49999999999999933, -0.6785094115571316, -0.8236765814298325, -0.9283679330160725, -0.9874388886763943, -0.9979866764718844, -0.9594929736144975, -0.8738493770697859, -0.745264449675756, -0.5800569095711997, -0.38634512569313034, -0.17364817766693214, 0.04758191582374054, 0.26647381369003337, 0.47227107477268127, 0.6548607339452839, 0.8052702575310577, 0.916108457432069, 0.9819286972627065, 0.9994965423831852, 0.9679487013963566, 0.888835448654924, 0.7660444431189788, 0.6056096871376675, 0.4154150130018873, 0.2048066680651916, -0.015865963834807057, -0.23575893550942645, -0.44406661260577346, -0.630552667084522, -0.7860530947427871, -0.902926538286621, -0.9754297868854069, -1.0], \"x\": [-10.995574287564276, -10.773441473674088, -10.551308659783901, -10.329175845893714, -10.107043032003526, -9.884910218113339, -9.662777404223151, -9.440644590332964, -9.218511776442776, -8.996378962552589, -8.774246148662403, -8.552113334772216, -8.329980520882028, -8.10784770699184, -7.885714893101653, -7.663582079211466, -7.441449265321278, -7.219316451431091, -6.997183637540903, -6.775050823650716, -6.552918009760528, -6.330785195870341, -6.1086523819801535, -5.886519568089966, -5.6643867541997786, -5.442253940309591, -5.220121126419404, -4.997988312529217, -4.77585549863903, -4.553722684748842, -4.331589870858655, -4.109457056968467, -3.8873242430782797, -3.6651914291880923, -3.443058615297905, -3.2209258014077173, -2.99879298751753, -2.7766601736273433, -2.554527359737156, -2.3323945458469684, -2.110261731956781, -1.8881289180665934, -1.665996104176406, -1.4438632902862185, -1.221730476396031, -0.9995976625058436, -0.7774648486156561, -0.5553320347254687, -0.3331992208352812, -0.11106640694509373, 0.11106640694509373, 0.3331992208352812, 0.5553320347254687, 0.7774648486156561, 0.9995976625058418, 1.2217304763960293, 1.4438632902862167, 1.6659961041764042, 1.8881289180665917, 2.110261731956779, 2.3323945458469666, 2.554527359737154, 2.7766601736273415, 2.998792987517529, 3.2209258014077164, 3.443058615297904, 3.6651914291880914, 3.887324243078279, 4.109457056968466, 4.331589870858654, 4.553722684748841, 4.775855498639029, 4.997988312529216, 5.220121126419402, 5.442253940309589, 5.664386754199777, 5.886519568089964, 6.108652381980152, 6.330785195870339, 6.552918009760527, 6.775050823650714, 6.997183637540902, 7.219316451431089, 7.4414492653212765, 7.663582079211464, 7.885714893101651, 8.107847706991839, 8.329980520882026, 8.552113334772214, 8.774246148662401, 8.996378962552589, 9.218511776442776, 9.440644590332964, 9.662777404223151, 9.884910218113339, 10.107043032003526, 10.329175845893714, 10.551308659783901, 10.773441473674088, 10.995574287564276]}}, \"type\": \"ColumnDataSource\", \"id\": \"2cbfa492-b224-4abe-96a5-bffcb5401e97\"}, {\"attributes\": {\"line_color\": {\"value\": \"#1f77b4\"}, \"line_alpha\": {\"value\": 0.1}, \"y\": {\"field\": \"y\"}, \"x\": {\"field\": \"x\"}}, \"type\": \"Line\", \"id\": \"02a0d4a4-03f5-4ee9-910d-0aeb0786c56a\"}, {\"attributes\": {\"line_color\": {\"value\": \"black\"}, \"line_alpha\": {\"value\": 1.0}, \"render_mode\": \"css\", \"bottom_units\": \"screen\", \"level\": \"overlay\", \"top_units\": \"screen\", \"fill_alpha\": {\"value\": 0.5}, \"plot\": null, \"left_units\": \"screen\", \"line_dash\": [4, 4], \"line_width\": {\"value\": 2}, \"right_units\": \"screen\", \"fill_color\": {\"value\": \"lightgrey\"}}, \"type\": \"BoxAnnotation\", \"id\": \"539fe92d-62f9-47ff-90df-617539e487ac\"}, {\"attributes\": {}, \"type\": \"BasicTickFormatter\", \"id\": \"b4210766-d19a-4037-80b3-5919172e3489\"}, {\"attributes\": {}, \"type\": \"BasicTicker\", \"id\": \"67c2a4e3-249c-4b63-ae4c-5e5f236bea89\"}, {\"attributes\": {\"line_color\": {\"value\": \"blue\"}, \"fill_color\": {\"value\": \"blue\"}, \"fill_alpha\": {\"value\": 0.7}, \"y\": {\"field\": \"y_values\"}, \"x\": {\"field\": \"x_values\"}, \"size\": {\"units\": \"screen\", \"value\": 8}}, \"type\": \"Circle\", \"id\": \"3bd98595-9b56-43f3-9d46-1ada7617df1e\"}, {\"attributes\": {\"plot\": {\"subtype\": \"Figure\", \"type\": \"Plot\", \"id\": \"c3a06ed2-0849-4cb5-8508-637bcc2e2b8f\"}, \"overlay\": {\"type\": \"BoxAnnotation\", \"id\": \"539fe92d-62f9-47ff-90df-617539e487ac\"}}, \"type\": \"BoxZoomTool\", \"id\": \"206bf51a-d6d2-4a9f-bd3a-8ddfaeda3ab1\"}, {\"attributes\": {\"plot\": {\"subtype\": \"Figure\", \"type\": \"Plot\", \"id\": \"adfb6ad9-a247-4aef-89c3-5d96f3b7e496\"}}, \"type\": \"ResetTool\", \"id\": \"137ff5cc-c886-450f-ad78-d582cfb56b84\"}, {\"attributes\": {\"plot\": {\"subtype\": \"Figure\", \"type\": \"Plot\", \"id\": \"adfb6ad9-a247-4aef-89c3-5d96f3b7e496\"}}, \"type\": \"PanTool\", \"id\": \"8022393f-16cf-466c-93f3-7177fc477508\"}, {\"attributes\": {\"callback\": null, \"column_names\": [\"y\", \"x\"], \"data\": {\"y\": [0.0175, -0.0582, -0.13, -0.19899999999999998, -0.263, -0.324, -0.382, -0.435, -0.485, -0.531, -0.573, -0.627, -0.6809999999999999, -0.732, -0.778, -0.82, -0.858, -0.8909999999999999, -0.92, -0.9440000000000001, -0.9640000000000001, -0.98, -0.991, -0.998, -1.0, -1.0, -0.995, -0.987, -0.9740000000000001, -0.958, -0.9390000000000001, -0.917, -0.8909999999999999, -0.862, -0.831, -0.7959999999999999, -0.758, -0.7140000000000001, -0.667, -0.618, -0.5670000000000001, -0.515, -0.46, -0.4, -0.34, -0.28, -0.218, -0.156, -0.0942, -0.0318, 0.0307, 0.0931, 0.155, 0.217, 0.278, 0.33899999999999997, 0.39899999999999997, 0.45799999999999996, 0.517, 0.568, 0.617, 0.665, 0.711, 0.755, 0.797, 0.836, 0.87, 0.898, 0.9209999999999999, 0.943, 0.963, 0.9790000000000001, 0.9890000000000001, 0.996, 0.9990000000000001, 0.998, 0.993, 0.985, 0.973, 0.956, 0.9359999999999999, 0.912, 0.885, 0.853, 0.818, 0.779, 0.737, 0.6920000000000001, 0.644, 0.593, 0.539, 0.483, 0.426, 0.36700000000000005, 0.307, 0.247, 0.187, 0.128, 0.0705, 0.0183], \"x\": [-3.14, -3.08, -3.01, -2.95, -2.89, -2.82, -2.76, -2.7, -2.63, -2.57, -2.51, -2.44, -2.38, -2.32, -2.25, -2.19, -2.13, -2.06, -2.0, -1.94, -1.87, -1.81, -1.75, -1.68, -1.62, -1.55, -1.49, -1.43, -1.36, -1.3, -1.24, -1.17, -1.11, -1.05, -0.9840000000000001, -0.92, -0.857, -0.7929999999999999, -0.73, -0.6659999999999999, -0.603, -0.539, -0.47600000000000003, -0.413, -0.349, -0.28600000000000003, -0.222, -0.159, -0.0952, -0.0317, 0.0317, 0.0952, 0.159, 0.222, 0.28600000000000003, 0.349, 0.413, 0.47600000000000003, 0.539, 0.603, 0.6659999999999999, 0.73, 0.7929999999999999, 0.857, 0.92, 0.9840000000000001, 1.05, 1.11, 1.17, 1.24, 1.3, 1.36, 1.43, 1.49, 1.55, 1.62, 1.68, 1.75, 1.81, 1.87, 1.94, 2.0, 2.06, 2.13, 2.19, 2.25, 2.32, 2.38, 2.44, 2.51, 2.57, 2.63, 2.7, 2.76, 2.82, 2.89, 2.95, 3.01, 3.08, 3.14]}}, \"type\": \"ColumnDataSource\", \"id\": \"105deaca-9d49-4c68-a27d-1d13b385fb04\"}, {\"attributes\": {\"plot\": {\"subtype\": \"Figure\", \"type\": \"Plot\", \"id\": \"c3a06ed2-0849-4cb5-8508-637bcc2e2b8f\"}}, \"type\": \"PreviewSaveTool\", \"id\": \"8aafb8ab-e152-412e-8a35-64f41ca5a387\"}, {\"attributes\": {\"line_color\": {\"value\": \"#1f77b4\"}, \"line_alpha\": {\"value\": 0.1}, \"y\": {\"field\": \"y\"}, \"x\": {\"field\": \"x\"}}, \"type\": \"Line\", \"id\": \"869ea8f2-9657-4557-9be0-4ac835ab6e3f\"}, {\"attributes\": {\"y\": {\"field\": \"y\"}, \"x\": {\"field\": \"x\"}}, \"type\": \"Line\", \"id\": \"e1fb8af6-59a2-4842-b46b-47a3f6c69116\"}, {\"attributes\": {\"plot\": {\"subtype\": \"Chart\", \"type\": \"Plot\", \"id\": \"33844f0c-9586-49f9-9687-381d6405b05f\"}, \"axis_label\": \"Prediction\", \"formatter\": {\"type\": \"BasicTickFormatter\", \"id\": \"ff4cdf5f-7a33-4ab7-b4f5-a8e690f5aaf5\"}, \"ticker\": {\"type\": \"BasicTicker\", \"id\": \"02cd0605-76ae-4a4a-9894-07dc599ab445\"}}, \"type\": \"LinearAxis\", \"id\": \"d7332dd6-a00d-4624-9444-cf6f8f860013\"}, {\"attributes\": {\"callback\": null, \"column_names\": [\"y\", \"x\"], \"data\": {\"y\": [-2.19, -0.557, 0.812, 0.0786, -0.29600000000000004, -0.659, -0.9440000000000001, -0.9690000000000001, -0.9159999999999999, -0.726, -0.469, -0.23399999999999999, 0.157, 0.445, 0.691, 0.8370000000000001, 1.01, 1.05, 0.9279999999999999, 0.71, 0.43700000000000006, 0.141, -0.21, -0.503, -0.722, -0.86, -0.9159999999999999, -0.895, -0.7929999999999999, -0.605, -0.37799999999999995, -0.128, 0.13, 0.38, 0.607, 0.78, 0.8690000000000001, 0.887, 0.8320000000000001, 0.701, 0.495, 0.222, -0.102, -0.44299999999999995, -0.674, -0.875, -1.01, -1.05, -0.95, -0.69, -0.251, -0.15, 0.175, 0.40700000000000003, 0.6559999999999999, 0.883, 0.9159999999999999, 0.7929999999999999, 0.5820000000000001, 0.34700000000000003, 0.134, 0.179, 0.247, 6.75], \"x\": [-10.0, -9.68, -9.36, -9.04, -8.73, -8.41, -8.09, -7.77, -7.46, -7.14, -6.82, -6.51, -6.19, -5.87, -5.55, -5.24, -4.92, -4.6, -4.28, -3.97, -3.65, -3.33, -3.01, -2.7, -2.38, -2.06, -1.75, -1.43, -1.11, -0.7929999999999999, -0.47600000000000003, -0.159, 0.159, 0.47600000000000003, 0.7929999999999999, 1.11, 1.43, 1.75, 2.06, 2.38, 2.7, 3.01, 3.33, 3.65, 3.97, 4.28, 4.6, 4.92, 5.24, 5.55, 5.87, 6.19, 6.51, 6.82, 7.14, 7.46, 7.77, 8.09, 8.41, 8.73, 9.04, 9.36, 9.68, 10.0]}}, \"type\": \"ColumnDataSource\", \"id\": \"5b40965a-3433-4fda-9e6f-15f4e55ff693\"}, {\"attributes\": {\"callback\": null, \"column_names\": [\"y\", \"x\"], \"data\": {\"y\": [-3, 3], \"x\": [-9.42477796076938, -9.42477796076938]}}, \"type\": \"ColumnDataSource\", \"id\": \"0f3fd818-2c85-40a5-89da-4445d6942a89\"}, {\"attributes\": {\"plot\": {\"subtype\": \"Figure\", \"type\": \"Plot\", \"id\": \"c3a06ed2-0849-4cb5-8508-637bcc2e2b8f\"}}, \"type\": \"ResetTool\", \"id\": \"75b0fac0-4941-4407-81ee-c848ca072492\"}, {\"attributes\": {\"x_range\": {\"type\": \"Range1d\", \"id\": \"17fd5a99-8c15-47e4-b066-f4cb96298774\"}, \"y_mapper_type\": \"auto\", \"title_text_font_size\": {\"value\": \"14pt\"}, \"yscale\": \"auto\", \"y_range\": {\"type\": \"Range1d\", \"id\": \"551aa71f-9c8d-42f5-b11b-23761215cd33\"}, \"x_mapper_type\": \"auto\", \"renderers\": [{\"type\": \"BoxAnnotation\", \"id\": \"c9ebf238-8254-49b6-8240-7db0bec02a54\"}, {\"type\": \"GlyphRenderer\", \"id\": \"8304b9da-3037-4703-9a8b-3af16076977a\"}, {\"type\": \"LinearAxis\", \"id\": \"8599119a-900d-4231-beb9-0b1c19ff5a3d\"}, {\"type\": \"LinearAxis\", \"id\": \"d7332dd6-a00d-4624-9444-cf6f8f860013\"}, {\"type\": \"Grid\", \"id\": \"e911c297-7f75-46a3-9217-3b3f3744887e\"}, {\"type\": \"Grid\", \"id\": \"1b4b2d04-a21b-4020-9489-5e45505d30a2\"}], \"below\": [{\"type\": \"LinearAxis\", \"id\": \"8599119a-900d-4231-beb9-0b1c19ff5a3d\"}], \"tool_events\": {\"type\": \"ToolEvents\", \"id\": \"108c4b88-ae29-4166-9b49-4313418c44a4\"}, \"xscale\": \"auto\", \"tools\": [{\"type\": \"PanTool\", \"id\": \"89331ac9-0b88-4355-acad-925a1ff479fa\"}, {\"type\": \"WheelZoomTool\", \"id\": \"7428eb62-5381-4da3-b702-f1c1557af08a\"}, {\"type\": \"BoxZoomTool\", \"id\": \"03261724-39eb-4fbf-8a49-70bacfb82c84\"}, {\"type\": \"PreviewSaveTool\", \"id\": \"ea5b49e9-f698-4c2d-aa6e-abbc85bcea14\"}, {\"type\": \"ResizeTool\", \"id\": \"f0cf14f9-fe55-47cd-815c-2a917e52d2ba\"}, {\"type\": \"ResetTool\", \"id\": \"a4a0eed4-a42c-4696-9e7d-7cf2248c8860\"}, {\"type\": \"HelpTool\", \"id\": \"73b1c592-e0db-4283-a2fd-d5a9c64897fd\"}], \"legend\": null, \"left\": [{\"type\": \"LinearAxis\", \"id\": \"d7332dd6-a00d-4624-9444-cf6f8f860013\"}]}, \"type\": \"Plot\", \"id\": \"33844f0c-9586-49f9-9687-381d6405b05f\", \"subtype\": \"Chart\"}, {\"attributes\": {\"line_color\": {\"value\": \"#1f77b4\"}, \"line_alpha\": {\"value\": 0.1}, \"y\": {\"field\": \"y\"}, \"x\": {\"field\": \"x\"}}, \"type\": \"Line\", \"id\": \"443e3efc-3b55-4fb2-b761-eec5d8251125\"}, {\"attributes\": {\"plot\": {\"subtype\": \"Figure\", \"type\": \"Plot\", \"id\": \"adfb6ad9-a247-4aef-89c3-5d96f3b7e496\"}, \"ticker\": {\"type\": \"BasicTicker\", \"id\": \"c90c4c3c-4895-4789-8660-674754ee7ae5\"}, \"dimension\": 1}, \"type\": \"Grid\", \"id\": \"96165073-7b4e-4947-be95-d520d8473aec\"}, {\"attributes\": {\"plot\": {\"subtype\": \"Figure\", \"type\": \"Plot\", \"id\": \"c3a06ed2-0849-4cb5-8508-637bcc2e2b8f\"}}, \"type\": \"PanTool\", \"id\": \"afc57d75-1cdf-457c-9596-cd96728b8a17\"}, {\"attributes\": {\"plot\": {\"subtype\": \"Figure\", \"type\": \"Plot\", \"id\": \"adfb6ad9-a247-4aef-89c3-5d96f3b7e496\"}, \"overlay\": {\"type\": \"BoxAnnotation\", \"id\": \"376a0802-d860-41bf-b79c-fcf51acefd89\"}}, \"type\": \"BoxZoomTool\", \"id\": \"73a56476-932b-4a44-a67c-13b527f768af\"}, {\"attributes\": {}, \"type\": \"BasicTickFormatter\", \"id\": \"afc6bb10-8c91-422c-98a6-08a017e45d1d\"}, {\"attributes\": {\"line_color\": {\"value\": \"blue\"}, \"x\": {\"field\": \"x\"}, \"y\": {\"field\": \"y\"}}, \"type\": \"Line\", \"id\": \"1739a173-38e5-4879-816f-80d7821364c4\"}, {\"attributes\": {}, \"type\": \"ToolEvents\", \"id\": \"68e73049-5664-4e23-9c05-dc0719977781\"}, {\"attributes\": {\"callback\": null, \"end\": 11.232, \"start\": -11.232}, \"type\": \"Range1d\", \"id\": \"17fd5a99-8c15-47e4-b066-f4cb96298774\"}, {\"attributes\": {}, \"type\": \"BasicTicker\", \"id\": \"d0d2a1c6-081c-48aa-bc8d-1e8e1741f15a\"}, {\"attributes\": {\"line_color\": {\"value\": \"#1f77b4\"}, \"line_alpha\": {\"value\": 0.1}, \"y\": {\"field\": \"y\"}, \"x\": {\"field\": \"x\"}}, \"type\": \"Line\", \"id\": \"6d3a65c1-8975-42e7-a795-013afbf4d776\"}, {\"attributes\": {\"line_color\": {\"value\": \"#1f77b4\"}, \"line_alpha\": {\"value\": 0.1}, \"y\": {\"field\": \"y\"}, \"x\": {\"field\": \"x\"}}, \"type\": \"Line\", \"id\": \"6249ee1c-80b5-4bf1-a513-25c5aa5f8f34\"}, {\"attributes\": {\"plot\": {\"subtype\": \"Chart\", \"type\": \"Plot\", \"id\": \"33844f0c-9586-49f9-9687-381d6405b05f\"}}, \"type\": \"ResetTool\", \"id\": \"a4a0eed4-a42c-4696-9e7d-7cf2248c8860\"}, {\"attributes\": {\"nonselection_glyph\": {\"type\": \"Line\", \"id\": \"869ea8f2-9657-4557-9be0-4ac835ab6e3f\"}, \"data_source\": {\"type\": \"ColumnDataSource\", \"id\": \"2cbfa492-b224-4abe-96a5-bffcb5401e97\"}, \"selection_glyph\": null, \"hover_glyph\": null, \"glyph\": {\"type\": \"Line\", \"id\": \"68ba90d8-97b2-4573-8347-4036bb2af8cf\"}}, \"type\": \"GlyphRenderer\", \"id\": \"f7c96e99-b03d-4381-a1a0-40877d01b2f8\"}, {\"attributes\": {\"plot\": {\"subtype\": \"Figure\", \"type\": \"Plot\", \"id\": \"adfb6ad9-a247-4aef-89c3-5d96f3b7e496\"}}, \"type\": \"WheelZoomTool\", \"id\": \"efbbc423-3ec5-4d36-833e-e1da0fe8d9cd\"}, {\"attributes\": {\"plot\": {\"subtype\": \"Figure\", \"type\": \"Plot\", \"id\": \"c3a06ed2-0849-4cb5-8508-637bcc2e2b8f\"}, \"ticker\": {\"type\": \"BasicTicker\", \"id\": \"f855de21-2ea1-476e-9151-7563c0ba4bd6\"}, \"dimension\": 1}, \"type\": \"Grid\", \"id\": \"a7856b9a-4978-457d-b82d-6beb57603da9\"}, {\"attributes\": {\"plot\": {\"subtype\": \"Figure\", \"type\": \"Plot\", \"id\": \"c3a06ed2-0849-4cb5-8508-637bcc2e2b8f\"}, \"formatter\": {\"type\": \"BasicTickFormatter\", \"id\": \"b4210766-d19a-4037-80b3-5919172e3489\"}, \"ticker\": {\"type\": \"BasicTicker\", \"id\": \"d0d2a1c6-081c-48aa-bc8d-1e8e1741f15a\"}}, \"type\": \"LinearAxis\", \"id\": \"3f6111a3-2760-4ecd-978f-b15055d59a65\"}, {\"attributes\": {}, \"type\": \"ToolEvents\", \"id\": \"1866953b-85a1-464d-9227-e4f446958c47\"}, {\"attributes\": {\"line_color\": {\"value\": \"red\"}, \"x\": {\"field\": \"x\"}, \"y\": {\"field\": \"y\"}}, \"type\": \"Line\", \"id\": \"68ba90d8-97b2-4573-8347-4036bb2af8cf\"}, {\"attributes\": {}, \"type\": \"BasicTicker\", \"id\": \"54cf651b-8eee-4d75-a74f-afe17ad0e071\"}, {\"attributes\": {\"plot\": {\"subtype\": \"Chart\", \"type\": \"Plot\", \"id\": \"33844f0c-9586-49f9-9687-381d6405b05f\"}}, \"type\": \"PanTool\", \"id\": \"89331ac9-0b88-4355-acad-925a1ff479fa\"}, {\"attributes\": {\"callback\": null, \"column_names\": [\"y\", \"x\"], \"data\": {\"y\": [-1.2246467991473532e-16, -0.06342391965656484, -0.12659245357374938, -0.1892512443604105, -0.2511479871810793, -0.31203344569848734, -0.3716624556603276, -0.4297949120891718, -0.4861967361004687, -0.5406408174555978, -0.5929079290546404, -0.6427876096865395, -0.6900790114821119, -0.7345917086575334, -0.776146464291757, -0.8145759520503357, -0.8497254299495143, -0.8814533634475821, -0.9096319953545184, -0.9341478602651068, -0.9549022414440739, -0.9718115683235417, -0.984807753012208, -0.9938384644612541, -0.998867339183008, -0.9998741276738751, -0.9968547759519423, -0.9898214418809327, -0.9788024462147787, -0.963842158559942, -0.9450008187146685, -0.9223542941045814, -0.8959937742913359, -0.8660254037844385, -0.8325698546347713, -0.795761840530832, -0.7557495743542583, -0.7126941713788627, -0.6667690005162916, -0.6181589862206051, -0.5670598638627707, -0.5136773915734062, -0.4582265217274104, -0.4009305354066135, -0.34202014332566877, -0.2817325568414295, -0.2203105327865407, -0.15800139597334975, -0.09505604330418231, -0.03172793349806753, 0.031727933498067976, 0.09505604330418276, 0.1580013959733502, 0.2203105327865407, 0.28173255684142995, 0.34202014332566877, 0.4009305354066139, 0.4582265217274104, 0.5136773915734065, 0.5670598638627707, 0.6181589862206054, 0.6667690005162916, 0.7126941713788629, 0.7557495743542583, 0.7957618405308322, 0.8325698546347713, 0.8660254037844389, 0.895993774291336, 0.9223542941045815, 0.9450008187146685, 0.9638421585599422, 0.9788024462147787, 0.9898214418809327, 0.9968547759519423, 0.9998741276738751, 0.998867339183008, 0.9938384644612541, 0.9848077530122081, 0.9718115683235415, 0.9549022414440739, 0.9341478602651068, 0.9096319953545181, 0.8814533634475819, 0.8497254299495143, 0.8145759520503357, 0.7761464642917565, 0.7345917086575331, 0.6900790114821119, 0.6427876096865395, 0.5929079290546401, 0.5406408174555973, 0.4861967361004687, 0.4297949120891718, 0.37166245566032713, 0.31203344569848696, 0.2511479871810793, 0.18925124436040963, 0.12659245357374893, 0.0634239196565644, 1.2246467991473532e-16], \"x\": [-3.141592653589793, -3.0781261353354537, -3.0146596170811146, -2.951193098826775, -2.887726580572436, -2.8242600623180967, -2.7607935440637577, -2.697327025809418, -2.633860507555079, -2.5703939893007397, -2.5069274710464007, -2.443460952792061, -2.379994434537722, -2.3165279162833827, -2.2530613980290433, -2.1895948797747042, -2.126128361520365, -2.0626618432660258, -1.9991953250116865, -1.9357288067573473, -1.872262288503008, -1.8087957702486688, -1.7453292519943295, -1.6818627337399903, -1.6183962154856508, -1.5549296972313116, -1.4914631789769723, -1.427996660722633, -1.3645301424682938, -1.3010636242139546, -1.2375971059596154, -1.1741305877052761, -1.1106640694509369, -1.0471975511965974, -0.9837310329422584, -0.9202645146879189, -0.8567979964335799, -0.7933314781792404, -0.7298649599249014, -0.666398441670562, -0.6029319234162229, -0.5394654051618835, -0.47599888690754444, -0.412532368653205, -0.34906585039886595, -0.2855993321445265, -0.22213281389018746, -0.158666295635848, -0.09519977738150853, -0.03173325912716951, 0.031733259127169955, 0.09519977738150898, 0.15866629563584844, 0.22213281389018746, 0.28559933214452693, 0.34906585039886595, 0.4125323686532054, 0.47599888690754444, 0.5394654051618839, 0.6029319234162229, 0.6663984416705624, 0.7298649599249014, 0.7933314781792409, 0.8567979964335799, 0.9202645146879194, 0.9837310329422584, 1.0471975511965983, 1.1106640694509373, 1.1741305877052763, 1.2375971059596154, 1.3010636242139553, 1.3645301424682943, 1.4279966607226333, 1.4914631789769723, 1.5549296972313122, 1.6183962154856513, 1.6818627337399903, 1.7453292519943293, 1.8087957702486692, 1.8722622885030082, 1.9357288067573473, 1.9991953250116872, 2.062661843266026, 2.126128361520365, 2.1895948797747042, 2.253061398029044, 2.316527916283383, 2.379994434537722, 2.443460952792061, 2.506927471046401, 2.57039398930074, 2.633860507555079, 2.697327025809418, 2.760793544063758, 2.824260062318097, 2.887726580572436, 2.951193098826776, 3.014659617081115, 3.078126135335454, 3.141592653589793]}}, \"type\": \"ColumnDataSource\", \"id\": \"68cb85b6-61fd-49e0-9476-bb5aace4eb74\"}, {\"attributes\": {}, \"type\": \"BasicTicker\", \"id\": \"c90c4c3c-4895-4789-8660-674754ee7ae5\"}, {\"attributes\": {\"plot\": {\"subtype\": \"Chart\", \"type\": \"Plot\", \"id\": \"33844f0c-9586-49f9-9687-381d6405b05f\"}}, \"type\": \"ResizeTool\", \"id\": \"f0cf14f9-fe55-47cd-815c-2a917e52d2ba\"}, {\"attributes\": {\"line_color\": {\"value\": \"black\"}, \"line_alpha\": {\"value\": 1.0}, \"render_mode\": \"css\", \"bottom_units\": \"screen\", \"level\": \"overlay\", \"top_units\": \"screen\", \"fill_alpha\": {\"value\": 0.5}, \"plot\": null, \"left_units\": \"screen\", \"line_dash\": [4, 4], \"line_width\": {\"value\": 2}, \"right_units\": \"screen\", \"fill_color\": {\"value\": \"lightgrey\"}}, \"type\": \"BoxAnnotation\", \"id\": \"376a0802-d860-41bf-b79c-fcf51acefd89\"}, {\"attributes\": {\"plot\": {\"subtype\": \"Chart\", \"type\": \"Plot\", \"id\": \"33844f0c-9586-49f9-9687-381d6405b05f\"}, \"overlay\": {\"type\": \"BoxAnnotation\", \"id\": \"c9ebf238-8254-49b6-8240-7db0bec02a54\"}}, \"type\": \"BoxZoomTool\", \"id\": \"03261724-39eb-4fbf-8a49-70bacfb82c84\"}]}, \"title\": \"Bokeh Application\"}};\n",
       "            var render_items = [{\"notebook_comms_target\": \"1f0ee7aa-ef64-4805-911d-0616d81a4eb7\", \"docid\": \"75a617b4-0d9c-4969-9dbe-c6f000e38869\", \"elementid\": \"2110b6d5-c074-4b10-a925-40b522d9b070\", \"modelid\": \"c3a06ed2-0849-4cb5-8508-637bcc2e2b8f\"}];\n",
       "            \n",
       "            Bokeh.embed.embed_items(docs_json, render_items);\n",
       "        });\n",
       "      },\n",
       "      function(Bokeh) {\n",
       "      }\n",
       "    ];\n",
       "  \n",
       "    function run_inline_js() {\n",
       "      for (var i = 0; i < inline_js.length; i++) {\n",
       "        inline_js[i](window.Bokeh);\n",
       "      }\n",
       "    }\n",
       "  \n",
       "    if (window._bokeh_is_loading === 0) {\n",
       "      console.log(\"Bokeh: BokehJS loaded, going straight to plotting\");\n",
       "      run_inline_js();\n",
       "    } else {\n",
       "      load_libs(js_urls, function() {\n",
       "        console.log(\"Bokeh: BokehJS plotting callback run at\", now());\n",
       "        run_inline_js();\n",
       "      });\n",
       "    }\n",
       "  }(this));\n",
       "</script>"
      ]
     },
     "metadata": {},
     "output_type": "display_data"
    },
    {
     "data": {
      "text/plain": [
       "<bokeh.io._CommsHandle at 0x95a7978>"
      ]
     },
     "execution_count": 8,
     "metadata": {},
     "output_type": "execute_result"
    }
   ],
   "source": [
    "show(f)"
   ]
  },
  {
   "cell_type": "markdown",
   "metadata": {},
   "source": [
    "However, the neural net used above could not extrapolate anything past -π and π and just went to infinity. The graph below using 50000 numbers betwee -3π and 3π and 729 hidden units was the closest to extrapolating the sine wave yet still failed.  "
   ]
  },
  {
   "cell_type": "code",
   "execution_count": 9,
   "metadata": {
    "collapsed": false
   },
   "outputs": [
    {
     "data": {
      "text/plain": [
       "<bokeh.models.renderers.GlyphRenderer at 0x9631748>"
      ]
     },
     "execution_count": 9,
     "metadata": {},
     "output_type": "execute_result"
    }
   ],
   "source": [
    "df = pd.read_csv('../MA490-MachineLearning-FinalProject/sineData8.csv')\n",
    "f = figure()\n",
    "f.line(df.Input.values, df.Prediction.values, color='blue')\n",
    "x = np.linspace(-4*np.pi, 4*np.pi, 1000)\n",
    "y = np.sin(x)\n",
    "f.line(x,y,color='red')\n",
    "x = [-3*np.pi,-3*np.pi]\n",
    "y = [-2,2]\n",
    "f.line(x,y,color='black')\n",
    "x = [3*np.pi,3*np.pi]\n",
    "y = [-2,2]\n",
    "f.line(x,y,color='black')"
   ]
  },
  {
   "cell_type": "markdown",
   "metadata": {},
   "source": [
    "The graph below, using 50000 numbers betwee -3π and 3π and 729 hidden units, is a prediction of 100 points between -4π and 4π. The black lines is the area of which it was trained on. It almost extrapolated the sine wave but still fails completely."
   ]
  },
  {
   "cell_type": "code",
   "execution_count": 10,
   "metadata": {
    "collapsed": false
   },
   "outputs": [
    {
     "data": {
      "text/html": [
       "\n",
       "\n",
       "    <div class=\"plotdiv\" id=\"1cfc3df9-0081-4fa4-b99f-b42b0e455c96\"></div>\n",
       "<script type=\"text/javascript\">\n",
       "  \n",
       "  (function(global) {\n",
       "    function now() {\n",
       "      return new Date();\n",
       "    }\n",
       "  \n",
       "    if (typeof (window._bokeh_onload_callbacks) === \"undefined\") {\n",
       "      window._bokeh_onload_callbacks = [];\n",
       "    }\n",
       "  \n",
       "    function run_callbacks() {\n",
       "      window._bokeh_onload_callbacks.forEach(function(callback) { callback() });\n",
       "      delete window._bokeh_onload_callbacks\n",
       "      console.info(\"Bokeh: all callbacks have finished\");\n",
       "    }\n",
       "  \n",
       "    function load_libs(js_urls, callback) {\n",
       "      window._bokeh_onload_callbacks.push(callback);\n",
       "      if (window._bokeh_is_loading > 0) {\n",
       "        console.log(\"Bokeh: BokehJS is being loaded, scheduling callback at\", now());\n",
       "        return null;\n",
       "      }\n",
       "      if (js_urls == null || js_urls.length === 0) {\n",
       "        run_callbacks();\n",
       "        return null;\n",
       "      }\n",
       "      console.log(\"Bokeh: BokehJS not loaded, scheduling load and callback at\", now());\n",
       "      window._bokeh_is_loading = js_urls.length;\n",
       "      for (var i = 0; i < js_urls.length; i++) {\n",
       "        var url = js_urls[i];\n",
       "        var s = document.createElement('script');\n",
       "        s.src = url;\n",
       "        s.async = false;\n",
       "        s.onreadystatechange = s.onload = function() {\n",
       "          window._bokeh_is_loading--;\n",
       "          if (window._bokeh_is_loading === 0) {\n",
       "            console.log(\"Bokeh: all BokehJS libraries loaded\");\n",
       "            run_callbacks()\n",
       "          }\n",
       "        };\n",
       "        s.onerror = function() {\n",
       "          console.warn(\"failed to load library \" + url);\n",
       "        };\n",
       "        console.log(\"Bokeh: injecting script tag for BokehJS library: \", url);\n",
       "        document.getElementsByTagName(\"head\")[0].appendChild(s);\n",
       "      }\n",
       "    };var element = document.getElementById(\"1cfc3df9-0081-4fa4-b99f-b42b0e455c96\");\n",
       "    if (element == null) {\n",
       "      console.log(\"Bokeh: ERROR: autoload.js configured with elementid '1cfc3df9-0081-4fa4-b99f-b42b0e455c96' but no matching script tag was found. \")\n",
       "      return false;\n",
       "    }var js_urls = [];\n",
       "  \n",
       "    var inline_js = [\n",
       "      function(Bokeh) {\n",
       "        Bokeh.$(function() {\n",
       "            var docs_json = {\"2a8ec806-d2bc-4cfa-b87f-a9419413cfa4\": {\"version\": \"0.11.0\", \"roots\": {\"root_ids\": [\"33844f0c-9586-49f9-9687-381d6405b05f\", \"adfb6ad9-a247-4aef-89c3-5d96f3b7e496\", \"c3a06ed2-0849-4cb5-8508-637bcc2e2b8f\", \"85e71ede-3df9-49d9-9670-b33175314e3d\"], \"references\": [{\"attributes\": {\"plot\": {\"subtype\": \"Figure\", \"type\": \"Plot\", \"id\": \"adfb6ad9-a247-4aef-89c3-5d96f3b7e496\"}, \"formatter\": {\"type\": \"BasicTickFormatter\", \"id\": \"4748cf87-8c9a-426d-badc-5efa5c4cf34e\"}, \"ticker\": {\"type\": \"BasicTicker\", \"id\": \"c90c4c3c-4895-4789-8660-674754ee7ae5\"}}, \"type\": \"LinearAxis\", \"id\": \"077fa1a8-8a2d-47b3-aa2a-49b8e6a8d8bc\"}, {\"attributes\": {\"plot\": {\"subtype\": \"Figure\", \"type\": \"Plot\", \"id\": \"adfb6ad9-a247-4aef-89c3-5d96f3b7e496\"}, \"formatter\": {\"type\": \"BasicTickFormatter\", \"id\": \"9a112a62-6706-48ad-9421-a3871e89b5fe\"}, \"ticker\": {\"type\": \"BasicTicker\", \"id\": \"54cf651b-8eee-4d75-a74f-afe17ad0e071\"}}, \"type\": \"LinearAxis\", \"id\": \"e6ca209e-3478-467c-8664-68847bfdb073\"}, {\"attributes\": {\"callback\": null, \"end\": 1.26, \"start\": -1.26}, \"type\": \"Range1d\", \"id\": \"551aa71f-9c8d-42f5-b11b-23761215cd33\"}, {\"attributes\": {\"callback\": null}, \"type\": \"DataRange1d\", \"id\": \"37fee28e-1c05-4f79-9aca-402c35af4043\"}, {\"attributes\": {}, \"type\": \"BasicTickFormatter\", \"id\": \"242e8fd6-a073-423e-bdd5-c94ca019f1e8\"}, {\"attributes\": {\"callback\": null}, \"type\": \"DataRange1d\", \"id\": \"78429f00-589e-4203-9944-9d749b02a923\"}, {\"attributes\": {\"plot\": {\"subtype\": \"Chart\", \"type\": \"Plot\", \"id\": \"33844f0c-9586-49f9-9687-381d6405b05f\"}, \"ticker\": {\"type\": \"BasicTicker\", \"id\": \"67c2a4e3-249c-4b63-ae4c-5e5f236bea89\"}}, \"type\": \"Grid\", \"id\": \"e911c297-7f75-46a3-9217-3b3f3744887e\"}, {\"attributes\": {\"callback\": null, \"column_names\": [\"y\", \"x\"], \"data\": {\"y\": [-2, 2], \"x\": [9.42477796076938, 9.42477796076938]}}, \"type\": \"ColumnDataSource\", \"id\": \"77187a60-a090-4f53-a35c-96c0a483b692\"}, {\"attributes\": {\"nonselection_glyph\": {\"type\": \"Line\", \"id\": \"02a0d4a4-03f5-4ee9-910d-0aeb0786c56a\"}, \"data_source\": {\"type\": \"ColumnDataSource\", \"id\": \"0f3fd818-2c85-40a5-89da-4445d6942a89\"}, \"selection_glyph\": null, \"hover_glyph\": null, \"glyph\": {\"type\": \"Line\", \"id\": \"675da2a0-32fa-4104-b5f0-4fe94b914d7d\"}}, \"type\": \"GlyphRenderer\", \"id\": \"7920597f-4ad9-4ab5-9d0c-81e2b0ffa7b6\"}, {\"attributes\": {\"callback\": null, \"column_names\": [\"y\", \"x\"], \"data\": {\"y\": [41.2, -0.28600000000000003, -16.8, -19.8, -16.6, -11.2, -6.03, -2.06, 0.324, -0.0305, 0.122, 0.43200000000000005, 0.428, 0.679, -0.0558, -0.354, -0.614, -0.799, -0.9, -0.91, -0.8420000000000001, -0.746, -0.581, -0.36, -0.0994, 0.14300000000000002, 0.38, 0.58, 0.7170000000000001, 0.927, 1.04, 1.04, 0.971, 0.835, 0.6559999999999999, 0.452, 0.23600000000000002, -0.045, -0.314, -0.542, -0.718, -0.8390000000000001, -0.903, -0.9129999999999999, -0.87, -0.779, -0.648, -0.484, -0.29600000000000004, -0.0956, 0.109, 0.31, 0.496, 0.6579999999999999, 0.789, 0.877, 0.915, 0.903, 0.835, 0.711, 0.53, 0.298, 0.0248, -0.268, -0.483, -0.6809999999999999, -0.853, -0.983, -1.05, -1.04, -0.938, -0.7340000000000001, -0.546, -0.355, -0.11900000000000001, 0.135, 0.39299999999999996, 0.64, 0.825, 0.894, 0.988, 1.04, 0.966, 0.7609999999999999, 0.504, 0.174, 0.0941, 0.0743, 1.01, 3.57, 8.7, 17.6, 28.4, 41.6, 58.5, 79.0, 103.0, 130.0, 159.0, 186.0, \"NaN\", \"NaN\", \"NaN\"], \"x\": [-12.6, -12.3, -12.1, -11.8, -11.6, -11.3, -11.0, -10.8, -10.5, -10.3, -10.0, -9.77, -9.52, -9.27, -9.01, -8.76, -8.5, -8.25, -8.0, -7.74, -7.49, -7.24, -6.98, -6.73, -6.47, -6.22, -5.97, -5.71, -5.46, -5.2, -4.95, -4.7, -4.44, -4.19, -3.93, -3.68, -3.43, -3.17, -2.92, -2.67, -2.41, -2.16, -1.9, -1.65, -1.4, -1.14, -0.889, -0.635, -0.381, -0.127, 0.127, 0.381, 0.635, 0.889, 1.14, 1.4, 1.65, 1.9, 2.16, 2.41, 2.67, 2.92, 3.17, 3.43, 3.68, 3.93, 4.19, 4.44, 4.7, 4.95, 5.2, 5.46, 5.71, 5.97, 6.22, 6.47, 6.73, 6.98, 7.24, 7.49, 7.74, 8.0, 8.25, 8.5, 8.76, 9.01, 9.27, 9.52, 9.77, 10.0, 10.3, 10.5, 10.8, 11.0, 11.3, 11.6, 11.8, 12.1, 12.3, 12.6, \"NaN\", \"NaN\", \"NaN\"]}}, \"type\": \"ColumnDataSource\", \"id\": \"dd0a8cf2-35e7-4cc9-97ec-af0e834f2c9c\"}, {\"attributes\": {\"nonselection_glyph\": {\"type\": \"Line\", \"id\": \"443e3efc-3b55-4fb2-b761-eec5d8251125\"}, \"data_source\": {\"type\": \"ColumnDataSource\", \"id\": \"b0137738-8aa2-4b8c-b23a-9a8ac9e21465\"}, \"selection_glyph\": null, \"hover_glyph\": null, \"glyph\": {\"type\": \"Line\", \"id\": \"e1fb8af6-59a2-4842-b46b-47a3f6c69116\"}}, \"type\": \"GlyphRenderer\", \"id\": \"b9284d4c-b111-4a44-b028-c6596d0ce50f\"}, {\"attributes\": {}, \"type\": \"ToolEvents\", \"id\": \"108c4b88-ae29-4166-9b49-4313418c44a4\"}, {\"attributes\": {\"plot\": {\"subtype\": \"Figure\", \"type\": \"Plot\", \"id\": \"85e71ede-3df9-49d9-9670-b33175314e3d\"}}, \"type\": \"PanTool\", \"id\": \"fd2a2ca4-93d4-4d3b-8c93-b1359e00f391\"}, {\"attributes\": {\"plot\": {\"subtype\": \"Figure\", \"type\": \"Plot\", \"id\": \"adfb6ad9-a247-4aef-89c3-5d96f3b7e496\"}}, \"type\": \"PreviewSaveTool\", \"id\": \"4d601e96-8071-42a1-b575-fa5535758e1c\"}, {\"attributes\": {\"x_range\": {\"type\": \"DataRange1d\", \"id\": \"a1c65990-745b-4e13-9aff-1d5f4487adf0\"}, \"y_range\": {\"type\": \"DataRange1d\", \"id\": \"78429f00-589e-4203-9944-9d749b02a923\"}, \"renderers\": [{\"type\": \"LinearAxis\", \"id\": \"3f6111a3-2760-4ecd-978f-b15055d59a65\"}, {\"type\": \"Grid\", \"id\": \"351186a5-72c1-446e-8129-c16f613e7817\"}, {\"type\": \"LinearAxis\", \"id\": \"c9d908d4-46e1-4137-a833-5335ff660286\"}, {\"type\": \"Grid\", \"id\": \"a7856b9a-4978-457d-b82d-6beb57603da9\"}, {\"type\": \"BoxAnnotation\", \"id\": \"539fe92d-62f9-47ff-90df-617539e487ac\"}, {\"type\": \"GlyphRenderer\", \"id\": \"83117f1c-b08d-4b37-a444-786e66a98574\"}, {\"type\": \"GlyphRenderer\", \"id\": \"e4dcef9c-6ae1-4779-aa82-988467f00f47\"}], \"below\": [{\"type\": \"LinearAxis\", \"id\": \"3f6111a3-2760-4ecd-978f-b15055d59a65\"}], \"tool_events\": {\"type\": \"ToolEvents\", \"id\": \"1866953b-85a1-464d-9227-e4f446958c47\"}, \"tools\": [{\"type\": \"PanTool\", \"id\": \"afc57d75-1cdf-457c-9596-cd96728b8a17\"}, {\"type\": \"WheelZoomTool\", \"id\": \"6ede1dac-06d0-403e-8f5b-9a9ea6864052\"}, {\"type\": \"BoxZoomTool\", \"id\": \"206bf51a-d6d2-4a9f-bd3a-8ddfaeda3ab1\"}, {\"type\": \"PreviewSaveTool\", \"id\": \"8aafb8ab-e152-412e-8a35-64f41ca5a387\"}, {\"type\": \"ResizeTool\", \"id\": \"1950ab55-1103-4861-b3d5-ca8d3b6c189e\"}, {\"type\": \"ResetTool\", \"id\": \"75b0fac0-4941-4407-81ee-c848ca072492\"}, {\"type\": \"HelpTool\", \"id\": \"69da6744-d2bf-44e7-93eb-be1589965503\"}], \"left\": [{\"type\": \"LinearAxis\", \"id\": \"c9d908d4-46e1-4137-a833-5335ff660286\"}]}, \"type\": \"Plot\", \"id\": \"c3a06ed2-0849-4cb5-8508-637bcc2e2b8f\", \"subtype\": \"Figure\"}, {\"attributes\": {\"plot\": {\"subtype\": \"Figure\", \"type\": \"Plot\", \"id\": \"85e71ede-3df9-49d9-9670-b33175314e3d\"}, \"formatter\": {\"type\": \"BasicTickFormatter\", \"id\": \"08353067-3ac5-4f63-b29e-95c455189014\"}, \"ticker\": {\"type\": \"BasicTicker\", \"id\": \"4f2d3cb0-fd76-4b71-a544-657b03be0406\"}}, \"type\": \"LinearAxis\", \"id\": \"497aef7f-40ec-456d-9992-d23a7d40d46c\"}, {\"attributes\": {}, \"type\": \"BasicTicker\", \"id\": \"f855de21-2ea1-476e-9151-7563c0ba4bd6\"}, {\"attributes\": {\"line_color\": {\"value\": \"red\"}, \"x\": {\"field\": \"x\"}, \"y\": {\"field\": \"y\"}}, \"type\": \"Line\", \"id\": \"1fa49b2a-d465-4251-829b-a0185a681379\"}, {\"attributes\": {\"plot\": {\"subtype\": \"Figure\", \"type\": \"Plot\", \"id\": \"c3a06ed2-0849-4cb5-8508-637bcc2e2b8f\"}, \"formatter\": {\"type\": \"BasicTickFormatter\", \"id\": \"242e8fd6-a073-423e-bdd5-c94ca019f1e8\"}, \"ticker\": {\"type\": \"BasicTicker\", \"id\": \"f855de21-2ea1-476e-9151-7563c0ba4bd6\"}}, \"type\": \"LinearAxis\", \"id\": \"c9d908d4-46e1-4137-a833-5335ff660286\"}, {\"attributes\": {\"x_range\": {\"type\": \"DataRange1d\", \"id\": \"b06d29d9-474b-452f-a4eb-a7eaf48bc7ce\"}, \"y_range\": {\"type\": \"DataRange1d\", \"id\": \"37fee28e-1c05-4f79-9aca-402c35af4043\"}, \"renderers\": [{\"type\": \"LinearAxis\", \"id\": \"e6ca209e-3478-467c-8664-68847bfdb073\"}, {\"type\": \"Grid\", \"id\": \"2f36a540-69eb-4292-bcfc-232bb420b0a1\"}, {\"type\": \"LinearAxis\", \"id\": \"077fa1a8-8a2d-47b3-aa2a-49b8e6a8d8bc\"}, {\"type\": \"Grid\", \"id\": \"96165073-7b4e-4947-be95-d520d8473aec\"}, {\"type\": \"BoxAnnotation\", \"id\": \"376a0802-d860-41bf-b79c-fcf51acefd89\"}, {\"type\": \"GlyphRenderer\", \"id\": \"7b750642-e288-4609-9170-95e1e42fede6\"}, {\"type\": \"GlyphRenderer\", \"id\": \"f7c96e99-b03d-4381-a1a0-40877d01b2f8\"}, {\"type\": \"GlyphRenderer\", \"id\": \"7920597f-4ad9-4ab5-9d0c-81e2b0ffa7b6\"}, {\"type\": \"GlyphRenderer\", \"id\": \"b9284d4c-b111-4a44-b028-c6596d0ce50f\"}], \"below\": [{\"type\": \"LinearAxis\", \"id\": \"e6ca209e-3478-467c-8664-68847bfdb073\"}], \"tool_events\": {\"type\": \"ToolEvents\", \"id\": \"68e73049-5664-4e23-9c05-dc0719977781\"}, \"tools\": [{\"type\": \"PanTool\", \"id\": \"8022393f-16cf-466c-93f3-7177fc477508\"}, {\"type\": \"WheelZoomTool\", \"id\": \"efbbc423-3ec5-4d36-833e-e1da0fe8d9cd\"}, {\"type\": \"BoxZoomTool\", \"id\": \"73a56476-932b-4a44-a67c-13b527f768af\"}, {\"type\": \"PreviewSaveTool\", \"id\": \"4d601e96-8071-42a1-b575-fa5535758e1c\"}, {\"type\": \"ResizeTool\", \"id\": \"650555dd-7f91-4c39-8410-542cdd4f7a59\"}, {\"type\": \"ResetTool\", \"id\": \"137ff5cc-c886-450f-ad78-d582cfb56b84\"}, {\"type\": \"HelpTool\", \"id\": \"5dbcde50-0699-4a59-bb78-670a524d1280\"}], \"left\": [{\"type\": \"LinearAxis\", \"id\": \"077fa1a8-8a2d-47b3-aa2a-49b8e6a8d8bc\"}]}, \"type\": \"Plot\", \"id\": \"adfb6ad9-a247-4aef-89c3-5d96f3b7e496\", \"subtype\": \"Figure\"}, {\"attributes\": {\"x_range\": {\"type\": \"Range1d\", \"id\": \"17fd5a99-8c15-47e4-b066-f4cb96298774\"}, \"y_mapper_type\": \"auto\", \"title_text_font_size\": {\"value\": \"14pt\"}, \"yscale\": \"auto\", \"y_range\": {\"type\": \"Range1d\", \"id\": \"551aa71f-9c8d-42f5-b11b-23761215cd33\"}, \"x_mapper_type\": \"auto\", \"renderers\": [{\"type\": \"BoxAnnotation\", \"id\": \"c9ebf238-8254-49b6-8240-7db0bec02a54\"}, {\"type\": \"GlyphRenderer\", \"id\": \"8304b9da-3037-4703-9a8b-3af16076977a\"}, {\"type\": \"LinearAxis\", \"id\": \"8599119a-900d-4231-beb9-0b1c19ff5a3d\"}, {\"type\": \"LinearAxis\", \"id\": \"d7332dd6-a00d-4624-9444-cf6f8f860013\"}, {\"type\": \"Grid\", \"id\": \"e911c297-7f75-46a3-9217-3b3f3744887e\"}, {\"type\": \"Grid\", \"id\": \"1b4b2d04-a21b-4020-9489-5e45505d30a2\"}], \"below\": [{\"type\": \"LinearAxis\", \"id\": \"8599119a-900d-4231-beb9-0b1c19ff5a3d\"}], \"tool_events\": {\"type\": \"ToolEvents\", \"id\": \"108c4b88-ae29-4166-9b49-4313418c44a4\"}, \"xscale\": \"auto\", \"tools\": [{\"type\": \"PanTool\", \"id\": \"89331ac9-0b88-4355-acad-925a1ff479fa\"}, {\"type\": \"WheelZoomTool\", \"id\": \"7428eb62-5381-4da3-b702-f1c1557af08a\"}, {\"type\": \"BoxZoomTool\", \"id\": \"03261724-39eb-4fbf-8a49-70bacfb82c84\"}, {\"type\": \"PreviewSaveTool\", \"id\": \"ea5b49e9-f698-4c2d-aa6e-abbc85bcea14\"}, {\"type\": \"ResizeTool\", \"id\": \"f0cf14f9-fe55-47cd-815c-2a917e52d2ba\"}, {\"type\": \"ResetTool\", \"id\": \"a4a0eed4-a42c-4696-9e7d-7cf2248c8860\"}, {\"type\": \"HelpTool\", \"id\": \"73b1c592-e0db-4283-a2fd-d5a9c64897fd\"}], \"legend\": null, \"left\": [{\"type\": \"LinearAxis\", \"id\": \"d7332dd6-a00d-4624-9444-cf6f8f860013\"}]}, \"type\": \"Plot\", \"id\": \"33844f0c-9586-49f9-9687-381d6405b05f\", \"subtype\": \"Chart\"}, {\"attributes\": {\"callback\": null, \"column_names\": [\"y\", \"x\"], \"data\": {\"y\": [-3, 3], \"x\": [9.42477796076938, 9.42477796076938]}}, \"type\": \"ColumnDataSource\", \"id\": \"b0137738-8aa2-4b8c-b23a-9a8ac9e21465\"}, {\"attributes\": {\"plot\": {\"subtype\": \"Chart\", \"type\": \"Plot\", \"id\": \"33844f0c-9586-49f9-9687-381d6405b05f\"}, \"axis_label\": \"Input\", \"formatter\": {\"type\": \"BasicTickFormatter\", \"id\": \"afc6bb10-8c91-422c-98a6-08a017e45d1d\"}, \"ticker\": {\"type\": \"BasicTicker\", \"id\": \"67c2a4e3-249c-4b63-ae4c-5e5f236bea89\"}}, \"type\": \"LinearAxis\", \"id\": \"8599119a-900d-4231-beb9-0b1c19ff5a3d\"}, {\"attributes\": {\"y\": {\"field\": \"y\"}, \"x\": {\"field\": \"x\"}}, \"type\": \"Line\", \"id\": \"cc10726f-a984-46cc-9a75-66805a42172a\"}, {\"attributes\": {\"plot\": {\"subtype\": \"Figure\", \"type\": \"Plot\", \"id\": \"adfb6ad9-a247-4aef-89c3-5d96f3b7e496\"}, \"ticker\": {\"type\": \"BasicTicker\", \"id\": \"54cf651b-8eee-4d75-a74f-afe17ad0e071\"}}, \"type\": \"Grid\", \"id\": \"2f36a540-69eb-4292-bcfc-232bb420b0a1\"}, {\"attributes\": {\"plot\": {\"subtype\": \"Chart\", \"type\": \"Plot\", \"id\": \"33844f0c-9586-49f9-9687-381d6405b05f\"}}, \"type\": \"PreviewSaveTool\", \"id\": \"ea5b49e9-f698-4c2d-aa6e-abbc85bcea14\"}, {\"attributes\": {\"line_color\": {\"value\": \"blue\"}, \"x\": {\"field\": \"x\"}, \"y\": {\"field\": \"y\"}}, \"type\": \"Line\", \"id\": \"1a084d5a-0c05-4a1f-9a71-4d2d015699b9\"}, {\"attributes\": {\"line_color\": {\"value\": \"#1f77b4\"}, \"line_alpha\": {\"value\": 0.1}, \"y\": {\"field\": \"y\"}, \"x\": {\"field\": \"x\"}}, \"type\": \"Line\", \"id\": \"443e3efc-3b55-4fb2-b761-eec5d8251125\"}, {\"attributes\": {\"nonselection_glyph\": {\"type\": \"Line\", \"id\": \"78811e7f-ed5d-4c07-9e1c-a31f55ec948c\"}, \"data_source\": {\"type\": \"ColumnDataSource\", \"id\": \"6bb51df3-2a4e-4e7a-a6a8-ec9bd0e364a3\"}, \"selection_glyph\": null, \"hover_glyph\": null, \"glyph\": {\"type\": \"Line\", \"id\": \"d8144379-a43f-4770-86f1-b7af599c4912\"}}, \"type\": \"GlyphRenderer\", \"id\": \"41e5925b-8967-46aa-a649-bca485ad9150\"}, {\"attributes\": {\"x_range\": {\"type\": \"DataRange1d\", \"id\": \"2bb056d4-1c68-4a25-a1ec-e281f816d0ab\"}, \"y_range\": {\"type\": \"DataRange1d\", \"id\": \"2a21645d-ecbf-4656-a449-66da5ee5f0ba\"}, \"renderers\": [{\"type\": \"LinearAxis\", \"id\": \"497aef7f-40ec-456d-9992-d23a7d40d46c\"}, {\"type\": \"Grid\", \"id\": \"6e303aeb-c1cc-4b7e-8184-452d5afb61a1\"}, {\"type\": \"LinearAxis\", \"id\": \"9b74ed7b-cffc-4833-898d-a39c2cd085f8\"}, {\"type\": \"Grid\", \"id\": \"db008159-d6f5-447c-8aff-d1096785a7aa\"}, {\"type\": \"BoxAnnotation\", \"id\": \"f69f2d51-81a8-456c-9ae1-880b3b07bd2e\"}, {\"type\": \"GlyphRenderer\", \"id\": \"b63ad945-cdb1-436c-9d7d-e2713c973be5\"}, {\"type\": \"GlyphRenderer\", \"id\": \"41e5925b-8967-46aa-a649-bca485ad9150\"}, {\"type\": \"GlyphRenderer\", \"id\": \"d32f09a9-958b-4815-aff6-cf74ae946731\"}, {\"type\": \"GlyphRenderer\", \"id\": \"302eb1cc-c5a0-4f22-a171-8f6374297048\"}], \"below\": [{\"type\": \"LinearAxis\", \"id\": \"497aef7f-40ec-456d-9992-d23a7d40d46c\"}], \"tool_events\": {\"type\": \"ToolEvents\", \"id\": \"26e4aa4d-5743-4f6e-a799-ad6e390396c9\"}, \"tools\": [{\"type\": \"PanTool\", \"id\": \"fd2a2ca4-93d4-4d3b-8c93-b1359e00f391\"}, {\"type\": \"WheelZoomTool\", \"id\": \"db81f6e2-0df4-4245-80f9-42cdf343ab6b\"}, {\"type\": \"BoxZoomTool\", \"id\": \"0d3412b2-c009-48bd-92e7-95ec70dd9a0b\"}, {\"type\": \"PreviewSaveTool\", \"id\": \"e6248b8f-268a-4c9b-b6f4-54587adad30a\"}, {\"type\": \"ResizeTool\", \"id\": \"073d23b5-d9cf-4e71-85cb-2f8bde6f4d9a\"}, {\"type\": \"ResetTool\", \"id\": \"8c995c1c-f0e0-47a8-8dae-bca5332bd3ea\"}, {\"type\": \"HelpTool\", \"id\": \"7abb7cf8-8ae7-458d-ac9f-19a8bccc3100\"}], \"left\": [{\"type\": \"LinearAxis\", \"id\": \"9b74ed7b-cffc-4833-898d-a39c2cd085f8\"}]}, \"type\": \"Plot\", \"id\": \"85e71ede-3df9-49d9-9670-b33175314e3d\", \"subtype\": \"Figure\"}, {\"attributes\": {}, \"type\": \"BasicTickFormatter\", \"id\": \"9a112a62-6706-48ad-9421-a3871e89b5fe\"}, {\"attributes\": {\"y\": {\"field\": \"y\"}, \"x\": {\"field\": \"x\"}}, \"type\": \"Line\", \"id\": \"675da2a0-32fa-4104-b5f0-4fe94b914d7d\"}, {\"attributes\": {\"nonselection_glyph\": {\"type\": \"Line\", \"id\": \"6d3a65c1-8975-42e7-a795-013afbf4d776\"}, \"data_source\": {\"type\": \"ColumnDataSource\", \"id\": \"105deaca-9d49-4c68-a27d-1d13b385fb04\"}, \"selection_glyph\": null, \"hover_glyph\": null, \"glyph\": {\"type\": \"Line\", \"id\": \"1a084d5a-0c05-4a1f-9a71-4d2d015699b9\"}}, \"type\": \"GlyphRenderer\", \"id\": \"83117f1c-b08d-4b37-a444-786e66a98574\"}, {\"attributes\": {}, \"type\": \"BasicTickFormatter\", \"id\": \"ff4cdf5f-7a33-4ab7-b4f5-a8e690f5aaf5\"}, {\"attributes\": {\"plot\": {\"subtype\": \"Chart\", \"type\": \"Plot\", \"id\": \"33844f0c-9586-49f9-9687-381d6405b05f\"}, \"ticker\": {\"type\": \"BasicTicker\", \"id\": \"02cd0605-76ae-4a4a-9894-07dc599ab445\"}, \"dimension\": 1}, \"type\": \"Grid\", \"id\": \"1b4b2d04-a21b-4020-9489-5e45505d30a2\"}, {\"attributes\": {\"callback\": null}, \"type\": \"DataRange1d\", \"id\": \"b06d29d9-474b-452f-a4eb-a7eaf48bc7ce\"}, {\"attributes\": {\"nonselection_glyph\": {\"type\": \"Line\", \"id\": \"6249ee1c-80b5-4bf1-a513-25c5aa5f8f34\"}, \"data_source\": {\"type\": \"ColumnDataSource\", \"id\": \"68cb85b6-61fd-49e0-9476-bb5aace4eb74\"}, \"selection_glyph\": null, \"hover_glyph\": null, \"glyph\": {\"type\": \"Line\", \"id\": \"1fa49b2a-d465-4251-829b-a0185a681379\"}}, \"type\": \"GlyphRenderer\", \"id\": \"e4dcef9c-6ae1-4779-aa82-988467f00f47\"}, {\"attributes\": {\"plot\": {\"subtype\": \"Figure\", \"type\": \"Plot\", \"id\": \"adfb6ad9-a247-4aef-89c3-5d96f3b7e496\"}}, \"type\": \"ResizeTool\", \"id\": \"650555dd-7f91-4c39-8410-542cdd4f7a59\"}, {\"attributes\": {\"plot\": {\"subtype\": \"Figure\", \"type\": \"Plot\", \"id\": \"c3a06ed2-0849-4cb5-8508-637bcc2e2b8f\"}}, \"type\": \"WheelZoomTool\", \"id\": \"6ede1dac-06d0-403e-8f5b-9a9ea6864052\"}, {\"attributes\": {\"plot\": {\"subtype\": \"Figure\", \"type\": \"Plot\", \"id\": \"85e71ede-3df9-49d9-9670-b33175314e3d\"}}, \"type\": \"HelpTool\", \"id\": \"7abb7cf8-8ae7-458d-ac9f-19a8bccc3100\"}, {\"attributes\": {\"plot\": {\"subtype\": \"Figure\", \"type\": \"Plot\", \"id\": \"c3a06ed2-0849-4cb5-8508-637bcc2e2b8f\"}, \"ticker\": {\"type\": \"BasicTicker\", \"id\": \"d0d2a1c6-081c-48aa-bc8d-1e8e1741f15a\"}}, \"type\": \"Grid\", \"id\": \"351186a5-72c1-446e-8129-c16f613e7817\"}, {\"attributes\": {\"line_color\": {\"value\": \"#1f77b4\"}, \"line_alpha\": {\"value\": 0.1}, \"y\": {\"field\": \"y\"}, \"x\": {\"field\": \"x\"}}, \"type\": \"Line\", \"id\": \"4251e6e4-0479-4736-9c20-85a202d34f7c\"}, {\"attributes\": {\"plot\": {\"subtype\": \"Chart\", \"type\": \"Plot\", \"id\": \"33844f0c-9586-49f9-9687-381d6405b05f\"}}, \"type\": \"WheelZoomTool\", \"id\": \"7428eb62-5381-4da3-b702-f1c1557af08a\"}, {\"attributes\": {\"y\": {\"field\": \"y\"}, \"x\": {\"field\": \"x\"}}, \"type\": \"Line\", \"id\": \"c002fa3f-7bbb-4d93-97e1-3f0fdc9f784c\"}, {\"attributes\": {}, \"type\": \"BasicTicker\", \"id\": \"8be7a9b1-d978-4756-a4c1-3a86757685e1\"}, {\"attributes\": {\"nonselection_glyph\": {\"type\": \"Line\", \"id\": \"24c928be-b1a5-405f-a57b-b209f9bea1f2\"}, \"data_source\": {\"type\": \"ColumnDataSource\", \"id\": \"77187a60-a090-4f53-a35c-96c0a483b692\"}, \"selection_glyph\": null, \"hover_glyph\": null, \"glyph\": {\"type\": \"Line\", \"id\": \"c002fa3f-7bbb-4d93-97e1-3f0fdc9f784c\"}}, \"type\": \"GlyphRenderer\", \"id\": \"302eb1cc-c5a0-4f22-a171-8f6374297048\"}, {\"attributes\": {\"callback\": null, \"column_names\": [\"x_values\", \"y_values\"], \"data\": {\"x_values\": [-9.36, -9.04, -8.73, -8.41, -8.09, -7.77, -7.46, -7.14, -6.82, -6.51, -6.19, -5.87, -5.55, -5.24, -4.92, -4.6, -4.28, -3.97, -3.65, -3.33, -3.01, -2.7, -2.38, -2.06, -1.75, -1.43, -1.11, -0.7929999999999999, -0.47600000000000003, -0.159, 0.159, 0.47600000000000003, 0.7929999999999999, 1.11, 1.43, 1.75, 2.06, 2.38, 2.7, 3.01, 3.33, 3.65, 3.97, 4.28, 4.6, 4.92, 5.24, 5.55, 5.87, 6.19, 6.51, 6.82, 7.14, 7.46, 7.77, 8.09, 8.41, 8.73, 9.04, 9.36], \"chart_index\": [null, null, null, null, null, null, null, null, null, null, null, null, null, null, null, null, null, null, null, null, null, null, null, null, null, null, null, null, null, null, null, null, null, null, null, null, null, null, null, null, null, null, null, null, null, null, null, null, null, null, null, null, null, null, null, null, null, null, null, null], \"y_values\": [0.812, 0.0786, -0.29600000000000004, -0.659, -0.9440000000000001, -0.9690000000000001, -0.9159999999999999, -0.726, -0.469, -0.23399999999999999, 0.157, 0.445, 0.691, 0.8370000000000001, 1.01, 1.05, 0.9279999999999999, 0.71, 0.43700000000000006, 0.141, -0.21, -0.503, -0.722, -0.86, -0.9159999999999999, -0.895, -0.7929999999999999, -0.605, -0.37799999999999995, -0.128, 0.13, 0.38, 0.607, 0.78, 0.8690000000000001, 0.887, 0.8320000000000001, 0.701, 0.495, 0.222, -0.102, -0.44299999999999995, -0.674, -0.875, -1.01, -1.05, -0.95, -0.69, -0.251, -0.15, 0.175, 0.40700000000000003, 0.6559999999999999, 0.883, 0.9159999999999999, 0.7929999999999999, 0.5820000000000001, 0.34700000000000003, 0.134, 0.179]}}, \"type\": \"ColumnDataSource\", \"id\": \"ae5306ea-41ec-4cd4-aeeb-93e33e6e2f3b\"}, {\"attributes\": {\"nonselection_glyph\": null, \"data_source\": {\"type\": \"ColumnDataSource\", \"id\": \"ae5306ea-41ec-4cd4-aeeb-93e33e6e2f3b\"}, \"selection_glyph\": null, \"hover_glyph\": null, \"glyph\": {\"type\": \"Circle\", \"id\": \"3bd98595-9b56-43f3-9d46-1ada7617df1e\"}}, \"type\": \"GlyphRenderer\", \"id\": \"8304b9da-3037-4703-9a8b-3af16076977a\"}, {\"attributes\": {}, \"type\": \"BasicTickFormatter\", \"id\": \"08353067-3ac5-4f63-b29e-95c455189014\"}, {\"attributes\": {}, \"type\": \"BasicTicker\", \"id\": \"4f2d3cb0-fd76-4b71-a544-657b03be0406\"}, {\"attributes\": {\"callback\": null}, \"type\": \"DataRange1d\", \"id\": \"a1c65990-745b-4e13-9aff-1d5f4487adf0\"}, {\"attributes\": {\"plot\": {\"subtype\": \"Figure\", \"type\": \"Plot\", \"id\": \"85e71ede-3df9-49d9-9670-b33175314e3d\"}, \"ticker\": {\"type\": \"BasicTicker\", \"id\": \"4f2d3cb0-fd76-4b71-a544-657b03be0406\"}}, \"type\": \"Grid\", \"id\": \"6e303aeb-c1cc-4b7e-8184-452d5afb61a1\"}, {\"attributes\": {\"line_color\": {\"value\": \"red\"}, \"x\": {\"field\": \"x\"}, \"y\": {\"field\": \"y\"}}, \"type\": \"Line\", \"id\": \"d8144379-a43f-4770-86f1-b7af599c4912\"}, {\"attributes\": {}, \"type\": \"BasicTicker\", \"id\": \"02cd0605-76ae-4a4a-9894-07dc599ab445\"}, {\"attributes\": {}, \"type\": \"BasicTickFormatter\", \"id\": \"4748cf87-8c9a-426d-badc-5efa5c4cf34e\"}, {\"attributes\": {\"plot\": {\"subtype\": \"Figure\", \"type\": \"Plot\", \"id\": \"c3a06ed2-0849-4cb5-8508-637bcc2e2b8f\"}}, \"type\": \"PanTool\", \"id\": \"afc57d75-1cdf-457c-9596-cd96728b8a17\"}, {\"attributes\": {\"plot\": {\"subtype\": \"Figure\", \"type\": \"Plot\", \"id\": \"adfb6ad9-a247-4aef-89c3-5d96f3b7e496\"}}, \"type\": \"HelpTool\", \"id\": \"5dbcde50-0699-4a59-bb78-670a524d1280\"}, {\"attributes\": {\"line_color\": {\"value\": \"black\"}, \"line_alpha\": {\"value\": 1.0}, \"render_mode\": \"css\", \"bottom_units\": \"screen\", \"level\": \"overlay\", \"top_units\": \"screen\", \"fill_alpha\": {\"value\": 0.5}, \"plot\": null, \"left_units\": \"screen\", \"line_dash\": [4, 4], \"line_width\": {\"value\": 2}, \"right_units\": \"screen\", \"fill_color\": {\"value\": \"lightgrey\"}}, \"type\": \"BoxAnnotation\", \"id\": \"c9ebf238-8254-49b6-8240-7db0bec02a54\"}, {\"attributes\": {\"plot\": {\"subtype\": \"Chart\", \"type\": \"Plot\", \"id\": \"33844f0c-9586-49f9-9687-381d6405b05f\"}}, \"type\": \"HelpTool\", \"id\": \"73b1c592-e0db-4283-a2fd-d5a9c64897fd\"}, {\"attributes\": {\"plot\": {\"subtype\": \"Figure\", \"type\": \"Plot\", \"id\": \"85e71ede-3df9-49d9-9670-b33175314e3d\"}}, \"type\": \"ResetTool\", \"id\": \"8c995c1c-f0e0-47a8-8dae-bca5332bd3ea\"}, {\"attributes\": {\"plot\": {\"subtype\": \"Figure\", \"type\": \"Plot\", \"id\": \"85e71ede-3df9-49d9-9670-b33175314e3d\"}, \"ticker\": {\"type\": \"BasicTicker\", \"id\": \"8be7a9b1-d978-4756-a4c1-3a86757685e1\"}, \"dimension\": 1}, \"type\": \"Grid\", \"id\": \"db008159-d6f5-447c-8aff-d1096785a7aa\"}, {\"attributes\": {\"callback\": null, \"column_names\": [\"y\", \"x\"], \"data\": {\"y\": [1.0, 0.9754297868854069, 0.902926538286621, 0.7860530947427871, 0.630552667084522, 0.44406661260577346, 0.23575893550942645, 0.015865963834807057, -0.2048066680651916, -0.4154150130018873, -0.605609687137666, -0.7660444431189776, -0.8888354486549231, -0.9679487013963561, -0.9994965423831851, -0.9819286972627068, -0.9161084574320697, -0.8052702575310587, -0.6548607339452852, -0.4722710747726828, -0.2664738136900351, -0.04758191582374232, 0.1736481776669304, 0.38634512569312873, 0.5800569095711983, 0.7452644496757549, 0.8738493770697852, 0.9594929736144973, 0.9979866764718843, 0.9874388886763944, 0.9283679330160728, 0.8236765814298329, 0.6785094115571323, 0.5000000000000001, 0.296920375328275, 0.07924995685678848, -0.14231483827328517, -0.3568862215918711, -0.5539200638661097, -0.7237340381050698, -0.8579834132349767, -0.9500711177409452, -0.9954719225730846, -0.9919548128307953, -0.9396926207859085, -0.8412535328311813, -0.7014748877063215, -0.5272254676105026, -0.3270679633174217, -0.11083819990101104, 0.11083819990101104, 0.3270679633174217, 0.5272254676105026, 0.7014748877063215, 0.8412535328311803, 0.9396926207859079, 0.9919548128307951, 0.9954719225730847, 0.9500711177409458, 0.8579834132349776, 0.7237340381050709, 0.5539200638661111, 0.3568862215918728, 0.14231483827328606, -0.0792499568567876, -0.2969203753282741, -0.49999999999999933, -0.6785094115571316, -0.8236765814298325, -0.9283679330160725, -0.9874388886763943, -0.9979866764718844, -0.9594929736144975, -0.8738493770697859, -0.745264449675756, -0.5800569095711997, -0.38634512569313034, -0.17364817766693214, 0.04758191582374054, 0.26647381369003337, 0.47227107477268127, 0.6548607339452839, 0.8052702575310577, 0.916108457432069, 0.9819286972627065, 0.9994965423831852, 0.9679487013963566, 0.888835448654924, 0.7660444431189788, 0.6056096871376675, 0.4154150130018873, 0.2048066680651916, -0.015865963834807057, -0.23575893550942645, -0.44406661260577346, -0.630552667084522, -0.7860530947427871, -0.902926538286621, -0.9754297868854069, -1.0], \"x\": [-10.995574287564276, -10.773441473674088, -10.551308659783901, -10.329175845893714, -10.107043032003526, -9.884910218113339, -9.662777404223151, -9.440644590332964, -9.218511776442776, -8.996378962552589, -8.774246148662403, -8.552113334772216, -8.329980520882028, -8.10784770699184, -7.885714893101653, -7.663582079211466, -7.441449265321278, -7.219316451431091, -6.997183637540903, -6.775050823650716, -6.552918009760528, -6.330785195870341, -6.1086523819801535, -5.886519568089966, -5.6643867541997786, -5.442253940309591, -5.220121126419404, -4.997988312529217, -4.77585549863903, -4.553722684748842, -4.331589870858655, -4.109457056968467, -3.8873242430782797, -3.6651914291880923, -3.443058615297905, -3.2209258014077173, -2.99879298751753, -2.7766601736273433, -2.554527359737156, -2.3323945458469684, -2.110261731956781, -1.8881289180665934, -1.665996104176406, -1.4438632902862185, -1.221730476396031, -0.9995976625058436, -0.7774648486156561, -0.5553320347254687, -0.3331992208352812, -0.11106640694509373, 0.11106640694509373, 0.3331992208352812, 0.5553320347254687, 0.7774648486156561, 0.9995976625058418, 1.2217304763960293, 1.4438632902862167, 1.6659961041764042, 1.8881289180665917, 2.110261731956779, 2.3323945458469666, 2.554527359737154, 2.7766601736273415, 2.998792987517529, 3.2209258014077164, 3.443058615297904, 3.6651914291880914, 3.887324243078279, 4.109457056968466, 4.331589870858654, 4.553722684748841, 4.775855498639029, 4.997988312529216, 5.220121126419402, 5.442253940309589, 5.664386754199777, 5.886519568089964, 6.108652381980152, 6.330785195870339, 6.552918009760527, 6.775050823650714, 6.997183637540902, 7.219316451431089, 7.4414492653212765, 7.663582079211464, 7.885714893101651, 8.107847706991839, 8.329980520882026, 8.552113334772214, 8.774246148662401, 8.996378962552589, 9.218511776442776, 9.440644590332964, 9.662777404223151, 9.884910218113339, 10.107043032003526, 10.329175845893714, 10.551308659783901, 10.773441473674088, 10.995574287564276]}}, \"type\": \"ColumnDataSource\", \"id\": \"2cbfa492-b224-4abe-96a5-bffcb5401e97\"}, {\"attributes\": {\"line_color\": {\"value\": \"#1f77b4\"}, \"line_alpha\": {\"value\": 0.1}, \"y\": {\"field\": \"y\"}, \"x\": {\"field\": \"x\"}}, \"type\": \"Line\", \"id\": \"02a0d4a4-03f5-4ee9-910d-0aeb0786c56a\"}, {\"attributes\": {\"line_color\": {\"value\": \"black\"}, \"line_alpha\": {\"value\": 1.0}, \"render_mode\": \"css\", \"bottom_units\": \"screen\", \"level\": \"overlay\", \"top_units\": \"screen\", \"fill_alpha\": {\"value\": 0.5}, \"plot\": null, \"left_units\": \"screen\", \"line_dash\": [4, 4], \"line_width\": {\"value\": 2}, \"right_units\": \"screen\", \"fill_color\": {\"value\": \"lightgrey\"}}, \"type\": \"BoxAnnotation\", \"id\": \"539fe92d-62f9-47ff-90df-617539e487ac\"}, {\"attributes\": {}, \"type\": \"BasicTickFormatter\", \"id\": \"b4210766-d19a-4037-80b3-5919172e3489\"}, {\"attributes\": {}, \"type\": \"BasicTicker\", \"id\": \"67c2a4e3-249c-4b63-ae4c-5e5f236bea89\"}, {\"attributes\": {\"line_color\": {\"value\": \"black\"}, \"line_alpha\": {\"value\": 1.0}, \"render_mode\": \"css\", \"bottom_units\": \"screen\", \"level\": \"overlay\", \"top_units\": \"screen\", \"fill_alpha\": {\"value\": 0.5}, \"plot\": null, \"left_units\": \"screen\", \"line_dash\": [4, 4], \"line_width\": {\"value\": 2}, \"right_units\": \"screen\", \"fill_color\": {\"value\": \"lightgrey\"}}, \"type\": \"BoxAnnotation\", \"id\": \"f69f2d51-81a8-456c-9ae1-880b3b07bd2e\"}, {\"attributes\": {\"plot\": {\"subtype\": \"Figure\", \"type\": \"Plot\", \"id\": \"85e71ede-3df9-49d9-9670-b33175314e3d\"}, \"overlay\": {\"type\": \"BoxAnnotation\", \"id\": \"f69f2d51-81a8-456c-9ae1-880b3b07bd2e\"}}, \"type\": \"BoxZoomTool\", \"id\": \"0d3412b2-c009-48bd-92e7-95ec70dd9a0b\"}, {\"attributes\": {\"line_color\": {\"value\": \"blue\"}, \"fill_color\": {\"value\": \"blue\"}, \"fill_alpha\": {\"value\": 0.7}, \"y\": {\"field\": \"y_values\"}, \"x\": {\"field\": \"x_values\"}, \"size\": {\"units\": \"screen\", \"value\": 8}}, \"type\": \"Circle\", \"id\": \"3bd98595-9b56-43f3-9d46-1ada7617df1e\"}, {\"attributes\": {\"nonselection_glyph\": {\"type\": \"Line\", \"id\": \"943d5d9c-0a07-4933-9a08-94f04baa890a\"}, \"data_source\": {\"type\": \"ColumnDataSource\", \"id\": \"5b40965a-3433-4fda-9e6f-15f4e55ff693\"}, \"selection_glyph\": null, \"hover_glyph\": null, \"glyph\": {\"type\": \"Line\", \"id\": \"1739a173-38e5-4879-816f-80d7821364c4\"}}, \"type\": \"GlyphRenderer\", \"id\": \"7b750642-e288-4609-9170-95e1e42fede6\"}, {\"attributes\": {\"plot\": {\"subtype\": \"Figure\", \"type\": \"Plot\", \"id\": \"85e71ede-3df9-49d9-9670-b33175314e3d\"}}, \"type\": \"ResizeTool\", \"id\": \"073d23b5-d9cf-4e71-85cb-2f8bde6f4d9a\"}, {\"attributes\": {\"plot\": {\"subtype\": \"Figure\", \"type\": \"Plot\", \"id\": \"c3a06ed2-0849-4cb5-8508-637bcc2e2b8f\"}, \"overlay\": {\"type\": \"BoxAnnotation\", \"id\": \"539fe92d-62f9-47ff-90df-617539e487ac\"}}, \"type\": \"BoxZoomTool\", \"id\": \"206bf51a-d6d2-4a9f-bd3a-8ddfaeda3ab1\"}, {\"attributes\": {\"plot\": {\"subtype\": \"Figure\", \"type\": \"Plot\", \"id\": \"adfb6ad9-a247-4aef-89c3-5d96f3b7e496\"}}, \"type\": \"ResetTool\", \"id\": \"137ff5cc-c886-450f-ad78-d582cfb56b84\"}, {\"attributes\": {\"plot\": {\"subtype\": \"Figure\", \"type\": \"Plot\", \"id\": \"adfb6ad9-a247-4aef-89c3-5d96f3b7e496\"}}, \"type\": \"PanTool\", \"id\": \"8022393f-16cf-466c-93f3-7177fc477508\"}, {\"attributes\": {\"callback\": null, \"column_names\": [\"y\", \"x\"], \"data\": {\"y\": [0.0175, -0.0582, -0.13, -0.19899999999999998, -0.263, -0.324, -0.382, -0.435, -0.485, -0.531, -0.573, -0.627, -0.6809999999999999, -0.732, -0.778, -0.82, -0.858, -0.8909999999999999, -0.92, -0.9440000000000001, -0.9640000000000001, -0.98, -0.991, -0.998, -1.0, -1.0, -0.995, -0.987, -0.9740000000000001, -0.958, -0.9390000000000001, -0.917, -0.8909999999999999, -0.862, -0.831, -0.7959999999999999, -0.758, -0.7140000000000001, -0.667, -0.618, -0.5670000000000001, -0.515, -0.46, -0.4, -0.34, -0.28, -0.218, -0.156, -0.0942, -0.0318, 0.0307, 0.0931, 0.155, 0.217, 0.278, 0.33899999999999997, 0.39899999999999997, 0.45799999999999996, 0.517, 0.568, 0.617, 0.665, 0.711, 0.755, 0.797, 0.836, 0.87, 0.898, 0.9209999999999999, 0.943, 0.963, 0.9790000000000001, 0.9890000000000001, 0.996, 0.9990000000000001, 0.998, 0.993, 0.985, 0.973, 0.956, 0.9359999999999999, 0.912, 0.885, 0.853, 0.818, 0.779, 0.737, 0.6920000000000001, 0.644, 0.593, 0.539, 0.483, 0.426, 0.36700000000000005, 0.307, 0.247, 0.187, 0.128, 0.0705, 0.0183], \"x\": [-3.14, -3.08, -3.01, -2.95, -2.89, -2.82, -2.76, -2.7, -2.63, -2.57, -2.51, -2.44, -2.38, -2.32, -2.25, -2.19, -2.13, -2.06, -2.0, -1.94, -1.87, -1.81, -1.75, -1.68, -1.62, -1.55, -1.49, -1.43, -1.36, -1.3, -1.24, -1.17, -1.11, -1.05, -0.9840000000000001, -0.92, -0.857, -0.7929999999999999, -0.73, -0.6659999999999999, -0.603, -0.539, -0.47600000000000003, -0.413, -0.349, -0.28600000000000003, -0.222, -0.159, -0.0952, -0.0317, 0.0317, 0.0952, 0.159, 0.222, 0.28600000000000003, 0.349, 0.413, 0.47600000000000003, 0.539, 0.603, 0.6659999999999999, 0.73, 0.7929999999999999, 0.857, 0.92, 0.9840000000000001, 1.05, 1.11, 1.17, 1.24, 1.3, 1.36, 1.43, 1.49, 1.55, 1.62, 1.68, 1.75, 1.81, 1.87, 1.94, 2.0, 2.06, 2.13, 2.19, 2.25, 2.32, 2.38, 2.44, 2.51, 2.57, 2.63, 2.7, 2.76, 2.82, 2.89, 2.95, 3.01, 3.08, 3.14]}}, \"type\": \"ColumnDataSource\", \"id\": \"105deaca-9d49-4c68-a27d-1d13b385fb04\"}, {\"attributes\": {\"plot\": {\"subtype\": \"Figure\", \"type\": \"Plot\", \"id\": \"c3a06ed2-0849-4cb5-8508-637bcc2e2b8f\"}}, \"type\": \"PreviewSaveTool\", \"id\": \"8aafb8ab-e152-412e-8a35-64f41ca5a387\"}, {\"attributes\": {\"line_color\": {\"value\": \"#1f77b4\"}, \"line_alpha\": {\"value\": 0.1}, \"y\": {\"field\": \"y\"}, \"x\": {\"field\": \"x\"}}, \"type\": \"Line\", \"id\": \"869ea8f2-9657-4557-9be0-4ac835ab6e3f\"}, {\"attributes\": {\"y\": {\"field\": \"y\"}, \"x\": {\"field\": \"x\"}}, \"type\": \"Line\", \"id\": \"e1fb8af6-59a2-4842-b46b-47a3f6c69116\"}, {\"attributes\": {\"plot\": {\"subtype\": \"Chart\", \"type\": \"Plot\", \"id\": \"33844f0c-9586-49f9-9687-381d6405b05f\"}, \"axis_label\": \"Prediction\", \"formatter\": {\"type\": \"BasicTickFormatter\", \"id\": \"ff4cdf5f-7a33-4ab7-b4f5-a8e690f5aaf5\"}, \"ticker\": {\"type\": \"BasicTicker\", \"id\": \"02cd0605-76ae-4a4a-9894-07dc599ab445\"}}, \"type\": \"LinearAxis\", \"id\": \"d7332dd6-a00d-4624-9444-cf6f8f860013\"}, {\"attributes\": {\"line_color\": {\"value\": \"#1f77b4\"}, \"line_alpha\": {\"value\": 0.1}, \"y\": {\"field\": \"y\"}, \"x\": {\"field\": \"x\"}}, \"type\": \"Line\", \"id\": \"c92b175d-95d2-45ad-b440-5327dbfc36eb\"}, {\"attributes\": {}, \"type\": \"ToolEvents\", \"id\": \"1866953b-85a1-464d-9227-e4f446958c47\"}, {\"attributes\": {\"line_color\": {\"value\": \"blue\"}, \"x\": {\"field\": \"x\"}, \"y\": {\"field\": \"y\"}}, \"type\": \"Line\", \"id\": \"fe010072-c18d-40b8-ab75-26afcf0245e6\"}, {\"attributes\": {\"callback\": null, \"column_names\": [\"y\", \"x\"], \"data\": {\"y\": [-2.19, -0.557, 0.812, 0.0786, -0.29600000000000004, -0.659, -0.9440000000000001, -0.9690000000000001, -0.9159999999999999, -0.726, -0.469, -0.23399999999999999, 0.157, 0.445, 0.691, 0.8370000000000001, 1.01, 1.05, 0.9279999999999999, 0.71, 0.43700000000000006, 0.141, -0.21, -0.503, -0.722, -0.86, -0.9159999999999999, -0.895, -0.7929999999999999, -0.605, -0.37799999999999995, -0.128, 0.13, 0.38, 0.607, 0.78, 0.8690000000000001, 0.887, 0.8320000000000001, 0.701, 0.495, 0.222, -0.102, -0.44299999999999995, -0.674, -0.875, -1.01, -1.05, -0.95, -0.69, -0.251, -0.15, 0.175, 0.40700000000000003, 0.6559999999999999, 0.883, 0.9159999999999999, 0.7929999999999999, 0.5820000000000001, 0.34700000000000003, 0.134, 0.179, 0.247, 6.75], \"x\": [-10.0, -9.68, -9.36, -9.04, -8.73, -8.41, -8.09, -7.77, -7.46, -7.14, -6.82, -6.51, -6.19, -5.87, -5.55, -5.24, -4.92, -4.6, -4.28, -3.97, -3.65, -3.33, -3.01, -2.7, -2.38, -2.06, -1.75, -1.43, -1.11, -0.7929999999999999, -0.47600000000000003, -0.159, 0.159, 0.47600000000000003, 0.7929999999999999, 1.11, 1.43, 1.75, 2.06, 2.38, 2.7, 3.01, 3.33, 3.65, 3.97, 4.28, 4.6, 4.92, 5.24, 5.55, 5.87, 6.19, 6.51, 6.82, 7.14, 7.46, 7.77, 8.09, 8.41, 8.73, 9.04, 9.36, 9.68, 10.0]}}, \"type\": \"ColumnDataSource\", \"id\": \"5b40965a-3433-4fda-9e6f-15f4e55ff693\"}, {\"attributes\": {\"callback\": null, \"column_names\": [\"y\", \"x\"], \"data\": {\"y\": [-3, 3], \"x\": [-9.42477796076938, -9.42477796076938]}}, \"type\": \"ColumnDataSource\", \"id\": \"0f3fd818-2c85-40a5-89da-4445d6942a89\"}, {\"attributes\": {\"plot\": {\"subtype\": \"Figure\", \"type\": \"Plot\", \"id\": \"c3a06ed2-0849-4cb5-8508-637bcc2e2b8f\"}}, \"type\": \"ResetTool\", \"id\": \"75b0fac0-4941-4407-81ee-c848ca072492\"}, {\"attributes\": {\"plot\": {\"subtype\": \"Figure\", \"type\": \"Plot\", \"id\": \"c3a06ed2-0849-4cb5-8508-637bcc2e2b8f\"}}, \"type\": \"ResizeTool\", \"id\": \"1950ab55-1103-4861-b3d5-ca8d3b6c189e\"}, {\"attributes\": {\"plot\": {\"subtype\": \"Figure\", \"type\": \"Plot\", \"id\": \"c3a06ed2-0849-4cb5-8508-637bcc2e2b8f\"}}, \"type\": \"HelpTool\", \"id\": \"69da6744-d2bf-44e7-93eb-be1589965503\"}, {\"attributes\": {\"plot\": {\"subtype\": \"Figure\", \"type\": \"Plot\", \"id\": \"adfb6ad9-a247-4aef-89c3-5d96f3b7e496\"}, \"ticker\": {\"type\": \"BasicTicker\", \"id\": \"c90c4c3c-4895-4789-8660-674754ee7ae5\"}, \"dimension\": 1}, \"type\": \"Grid\", \"id\": \"96165073-7b4e-4947-be95-d520d8473aec\"}, {\"attributes\": {\"nonselection_glyph\": {\"type\": \"Line\", \"id\": \"c92b175d-95d2-45ad-b440-5327dbfc36eb\"}, \"data_source\": {\"type\": \"ColumnDataSource\", \"id\": \"dd0a8cf2-35e7-4cc9-97ec-af0e834f2c9c\"}, \"selection_glyph\": null, \"hover_glyph\": null, \"glyph\": {\"type\": \"Line\", \"id\": \"fe010072-c18d-40b8-ab75-26afcf0245e6\"}}, \"type\": \"GlyphRenderer\", \"id\": \"b63ad945-cdb1-436c-9d7d-e2713c973be5\"}, {\"attributes\": {\"plot\": {\"subtype\": \"Figure\", \"type\": \"Plot\", \"id\": \"85e71ede-3df9-49d9-9670-b33175314e3d\"}}, \"type\": \"PreviewSaveTool\", \"id\": \"e6248b8f-268a-4c9b-b6f4-54587adad30a\"}, {\"attributes\": {\"callback\": null}, \"type\": \"DataRange1d\", \"id\": \"2a21645d-ecbf-4656-a449-66da5ee5f0ba\"}, {\"attributes\": {\"plot\": {\"subtype\": \"Figure\", \"type\": \"Plot\", \"id\": \"adfb6ad9-a247-4aef-89c3-5d96f3b7e496\"}, \"overlay\": {\"type\": \"BoxAnnotation\", \"id\": \"376a0802-d860-41bf-b79c-fcf51acefd89\"}}, \"type\": \"BoxZoomTool\", \"id\": \"73a56476-932b-4a44-a67c-13b527f768af\"}, {\"attributes\": {}, \"type\": \"BasicTickFormatter\", \"id\": \"afc6bb10-8c91-422c-98a6-08a017e45d1d\"}, {\"attributes\": {\"line_color\": {\"value\": \"blue\"}, \"x\": {\"field\": \"x\"}, \"y\": {\"field\": \"y\"}}, \"type\": \"Line\", \"id\": \"1739a173-38e5-4879-816f-80d7821364c4\"}, {\"attributes\": {}, \"type\": \"ToolEvents\", \"id\": \"68e73049-5664-4e23-9c05-dc0719977781\"}, {\"attributes\": {\"plot\": {\"subtype\": \"Figure\", \"type\": \"Plot\", \"id\": \"85e71ede-3df9-49d9-9670-b33175314e3d\"}, \"formatter\": {\"type\": \"BasicTickFormatter\", \"id\": \"c1230d3b-6438-44dd-8c06-3ca0699939c0\"}, \"ticker\": {\"type\": \"BasicTicker\", \"id\": \"8be7a9b1-d978-4756-a4c1-3a86757685e1\"}}, \"type\": \"LinearAxis\", \"id\": \"9b74ed7b-cffc-4833-898d-a39c2cd085f8\"}, {\"attributes\": {\"callback\": null, \"end\": 11.232, \"start\": -11.232}, \"type\": \"Range1d\", \"id\": \"17fd5a99-8c15-47e4-b066-f4cb96298774\"}, {\"attributes\": {}, \"type\": \"BasicTicker\", \"id\": \"d0d2a1c6-081c-48aa-bc8d-1e8e1741f15a\"}, {\"attributes\": {\"line_color\": {\"value\": \"#1f77b4\"}, \"line_alpha\": {\"value\": 0.1}, \"y\": {\"field\": \"y\"}, \"x\": {\"field\": \"x\"}}, \"type\": \"Line\", \"id\": \"6d3a65c1-8975-42e7-a795-013afbf4d776\"}, {\"attributes\": {\"line_color\": {\"value\": \"#1f77b4\"}, \"line_alpha\": {\"value\": 0.1}, \"y\": {\"field\": \"y\"}, \"x\": {\"field\": \"x\"}}, \"type\": \"Line\", \"id\": \"6249ee1c-80b5-4bf1-a513-25c5aa5f8f34\"}, {\"attributes\": {\"plot\": {\"subtype\": \"Chart\", \"type\": \"Plot\", \"id\": \"33844f0c-9586-49f9-9687-381d6405b05f\"}}, \"type\": \"ResetTool\", \"id\": \"a4a0eed4-a42c-4696-9e7d-7cf2248c8860\"}, {\"attributes\": {\"nonselection_glyph\": {\"type\": \"Line\", \"id\": \"869ea8f2-9657-4557-9be0-4ac835ab6e3f\"}, \"data_source\": {\"type\": \"ColumnDataSource\", \"id\": \"2cbfa492-b224-4abe-96a5-bffcb5401e97\"}, \"selection_glyph\": null, \"hover_glyph\": null, \"glyph\": {\"type\": \"Line\", \"id\": \"68ba90d8-97b2-4573-8347-4036bb2af8cf\"}}, \"type\": \"GlyphRenderer\", \"id\": \"f7c96e99-b03d-4381-a1a0-40877d01b2f8\"}, {\"attributes\": {\"line_color\": {\"value\": \"#1f77b4\"}, \"line_alpha\": {\"value\": 0.1}, \"y\": {\"field\": \"y\"}, \"x\": {\"field\": \"x\"}}, \"type\": \"Line\", \"id\": \"943d5d9c-0a07-4933-9a08-94f04baa890a\"}, {\"attributes\": {\"plot\": {\"subtype\": \"Figure\", \"type\": \"Plot\", \"id\": \"adfb6ad9-a247-4aef-89c3-5d96f3b7e496\"}}, \"type\": \"WheelZoomTool\", \"id\": \"efbbc423-3ec5-4d36-833e-e1da0fe8d9cd\"}, {\"attributes\": {\"nonselection_glyph\": {\"type\": \"Line\", \"id\": \"4251e6e4-0479-4736-9c20-85a202d34f7c\"}, \"data_source\": {\"type\": \"ColumnDataSource\", \"id\": \"bde627ae-6b95-4959-8b4e-41ddb9e99167\"}, \"selection_glyph\": null, \"hover_glyph\": null, \"glyph\": {\"type\": \"Line\", \"id\": \"cc10726f-a984-46cc-9a75-66805a42172a\"}}, \"type\": \"GlyphRenderer\", \"id\": \"d32f09a9-958b-4815-aff6-cf74ae946731\"}, {\"attributes\": {\"plot\": {\"subtype\": \"Figure\", \"type\": \"Plot\", \"id\": \"c3a06ed2-0849-4cb5-8508-637bcc2e2b8f\"}, \"ticker\": {\"type\": \"BasicTicker\", \"id\": \"f855de21-2ea1-476e-9151-7563c0ba4bd6\"}, \"dimension\": 1}, \"type\": \"Grid\", \"id\": \"a7856b9a-4978-457d-b82d-6beb57603da9\"}, {\"attributes\": {\"line_color\": {\"value\": \"#1f77b4\"}, \"line_alpha\": {\"value\": 0.1}, \"y\": {\"field\": \"y\"}, \"x\": {\"field\": \"x\"}}, \"type\": \"Line\", \"id\": \"24c928be-b1a5-405f-a57b-b209f9bea1f2\"}, {\"attributes\": {\"plot\": {\"subtype\": \"Figure\", \"type\": \"Plot\", \"id\": \"c3a06ed2-0849-4cb5-8508-637bcc2e2b8f\"}, \"formatter\": {\"type\": \"BasicTickFormatter\", \"id\": \"b4210766-d19a-4037-80b3-5919172e3489\"}, \"ticker\": {\"type\": \"BasicTicker\", \"id\": \"d0d2a1c6-081c-48aa-bc8d-1e8e1741f15a\"}}, \"type\": \"LinearAxis\", \"id\": \"3f6111a3-2760-4ecd-978f-b15055d59a65\"}, {\"attributes\": {}, \"type\": \"ToolEvents\", \"id\": \"26e4aa4d-5743-4f6e-a799-ad6e390396c9\"}, {\"attributes\": {\"callback\": null}, \"type\": \"DataRange1d\", \"id\": \"2bb056d4-1c68-4a25-a1ec-e281f816d0ab\"}, {\"attributes\": {\"callback\": null, \"column_names\": [\"y\", \"x\"], \"data\": {\"y\": [-2, 2], \"x\": [-9.42477796076938, -9.42477796076938]}}, \"type\": \"ColumnDataSource\", \"id\": \"bde627ae-6b95-4959-8b4e-41ddb9e99167\"}, {\"attributes\": {\"line_color\": {\"value\": \"red\"}, \"x\": {\"field\": \"x\"}, \"y\": {\"field\": \"y\"}}, \"type\": \"Line\", \"id\": \"68ba90d8-97b2-4573-8347-4036bb2af8cf\"}, {\"attributes\": {}, \"type\": \"BasicTicker\", \"id\": \"54cf651b-8eee-4d75-a74f-afe17ad0e071\"}, {\"attributes\": {\"plot\": {\"subtype\": \"Chart\", \"type\": \"Plot\", \"id\": \"33844f0c-9586-49f9-9687-381d6405b05f\"}}, \"type\": \"PanTool\", \"id\": \"89331ac9-0b88-4355-acad-925a1ff479fa\"}, {\"attributes\": {\"callback\": null, \"column_names\": [\"y\", \"x\"], \"data\": {\"y\": [-1.2246467991473532e-16, -0.06342391965656484, -0.12659245357374938, -0.1892512443604105, -0.2511479871810793, -0.31203344569848734, -0.3716624556603276, -0.4297949120891718, -0.4861967361004687, -0.5406408174555978, -0.5929079290546404, -0.6427876096865395, -0.6900790114821119, -0.7345917086575334, -0.776146464291757, -0.8145759520503357, -0.8497254299495143, -0.8814533634475821, -0.9096319953545184, -0.9341478602651068, -0.9549022414440739, -0.9718115683235417, -0.984807753012208, -0.9938384644612541, -0.998867339183008, -0.9998741276738751, -0.9968547759519423, -0.9898214418809327, -0.9788024462147787, -0.963842158559942, -0.9450008187146685, -0.9223542941045814, -0.8959937742913359, -0.8660254037844385, -0.8325698546347713, -0.795761840530832, -0.7557495743542583, -0.7126941713788627, -0.6667690005162916, -0.6181589862206051, -0.5670598638627707, -0.5136773915734062, -0.4582265217274104, -0.4009305354066135, -0.34202014332566877, -0.2817325568414295, -0.2203105327865407, -0.15800139597334975, -0.09505604330418231, -0.03172793349806753, 0.031727933498067976, 0.09505604330418276, 0.1580013959733502, 0.2203105327865407, 0.28173255684142995, 0.34202014332566877, 0.4009305354066139, 0.4582265217274104, 0.5136773915734065, 0.5670598638627707, 0.6181589862206054, 0.6667690005162916, 0.7126941713788629, 0.7557495743542583, 0.7957618405308322, 0.8325698546347713, 0.8660254037844389, 0.895993774291336, 0.9223542941045815, 0.9450008187146685, 0.9638421585599422, 0.9788024462147787, 0.9898214418809327, 0.9968547759519423, 0.9998741276738751, 0.998867339183008, 0.9938384644612541, 0.9848077530122081, 0.9718115683235415, 0.9549022414440739, 0.9341478602651068, 0.9096319953545181, 0.8814533634475819, 0.8497254299495143, 0.8145759520503357, 0.7761464642917565, 0.7345917086575331, 0.6900790114821119, 0.6427876096865395, 0.5929079290546401, 0.5406408174555973, 0.4861967361004687, 0.4297949120891718, 0.37166245566032713, 0.31203344569848696, 0.2511479871810793, 0.18925124436040963, 0.12659245357374893, 0.0634239196565644, 1.2246467991473532e-16], \"x\": [-3.141592653589793, -3.0781261353354537, -3.0146596170811146, -2.951193098826775, -2.887726580572436, -2.8242600623180967, -2.7607935440637577, -2.697327025809418, -2.633860507555079, -2.5703939893007397, -2.5069274710464007, -2.443460952792061, -2.379994434537722, -2.3165279162833827, -2.2530613980290433, -2.1895948797747042, -2.126128361520365, -2.0626618432660258, -1.9991953250116865, -1.9357288067573473, -1.872262288503008, -1.8087957702486688, -1.7453292519943295, -1.6818627337399903, -1.6183962154856508, -1.5549296972313116, -1.4914631789769723, -1.427996660722633, -1.3645301424682938, -1.3010636242139546, -1.2375971059596154, -1.1741305877052761, -1.1106640694509369, -1.0471975511965974, -0.9837310329422584, -0.9202645146879189, -0.8567979964335799, -0.7933314781792404, -0.7298649599249014, -0.666398441670562, -0.6029319234162229, -0.5394654051618835, -0.47599888690754444, -0.412532368653205, -0.34906585039886595, -0.2855993321445265, -0.22213281389018746, -0.158666295635848, -0.09519977738150853, -0.03173325912716951, 0.031733259127169955, 0.09519977738150898, 0.15866629563584844, 0.22213281389018746, 0.28559933214452693, 0.34906585039886595, 0.4125323686532054, 0.47599888690754444, 0.5394654051618839, 0.6029319234162229, 0.6663984416705624, 0.7298649599249014, 0.7933314781792409, 0.8567979964335799, 0.9202645146879194, 0.9837310329422584, 1.0471975511965983, 1.1106640694509373, 1.1741305877052763, 1.2375971059596154, 1.3010636242139553, 1.3645301424682943, 1.4279966607226333, 1.4914631789769723, 1.5549296972313122, 1.6183962154856513, 1.6818627337399903, 1.7453292519943293, 1.8087957702486692, 1.8722622885030082, 1.9357288067573473, 1.9991953250116872, 2.062661843266026, 2.126128361520365, 2.1895948797747042, 2.253061398029044, 2.316527916283383, 2.379994434537722, 2.443460952792061, 2.506927471046401, 2.57039398930074, 2.633860507555079, 2.697327025809418, 2.760793544063758, 2.824260062318097, 2.887726580572436, 2.951193098826776, 3.014659617081115, 3.078126135335454, 3.141592653589793]}}, \"type\": \"ColumnDataSource\", \"id\": \"68cb85b6-61fd-49e0-9476-bb5aace4eb74\"}, {\"attributes\": {}, \"type\": \"BasicTickFormatter\", \"id\": \"c1230d3b-6438-44dd-8c06-3ca0699939c0\"}, {\"attributes\": {}, \"type\": \"BasicTicker\", \"id\": \"c90c4c3c-4895-4789-8660-674754ee7ae5\"}, {\"attributes\": {\"line_color\": {\"value\": \"#1f77b4\"}, \"line_alpha\": {\"value\": 0.1}, \"y\": {\"field\": \"y\"}, \"x\": {\"field\": \"x\"}}, \"type\": \"Line\", \"id\": \"78811e7f-ed5d-4c07-9e1c-a31f55ec948c\"}, {\"attributes\": {\"plot\": {\"subtype\": \"Figure\", \"type\": \"Plot\", \"id\": \"85e71ede-3df9-49d9-9670-b33175314e3d\"}}, \"type\": \"WheelZoomTool\", \"id\": \"db81f6e2-0df4-4245-80f9-42cdf343ab6b\"}, {\"attributes\": {\"plot\": {\"subtype\": \"Chart\", \"type\": \"Plot\", \"id\": \"33844f0c-9586-49f9-9687-381d6405b05f\"}}, \"type\": \"ResizeTool\", \"id\": \"f0cf14f9-fe55-47cd-815c-2a917e52d2ba\"}, {\"attributes\": {\"line_color\": {\"value\": \"black\"}, \"line_alpha\": {\"value\": 1.0}, \"render_mode\": \"css\", \"bottom_units\": \"screen\", \"level\": \"overlay\", \"top_units\": \"screen\", \"fill_alpha\": {\"value\": 0.5}, \"plot\": null, \"left_units\": \"screen\", \"line_dash\": [4, 4], \"line_width\": {\"value\": 2}, \"right_units\": \"screen\", \"fill_color\": {\"value\": \"lightgrey\"}}, \"type\": \"BoxAnnotation\", \"id\": \"376a0802-d860-41bf-b79c-fcf51acefd89\"}, {\"attributes\": {\"callback\": null, \"column_names\": [\"y\", \"x\"], \"data\": {\"y\": [4.898587196589413e-16, 0.025155245389376198, 0.050294570363366396, 0.07540206458240166, 0.10046183785216788, 0.12545803018029583, 0.15037482181393635, 0.17519644325187023, 0.19990718522480572, 0.22449140863757358, 0.24893355446689247, 0.2732181536084666, 0.2973298366671729, 0.3212533436841441, 0.3449735337945908, 0.36847539481025005, 0.39174405272039736, 0.4147647811054069, 0.43752301045690406, 0.46000433739861063, 0.4821945338020488, 0.5040795557913256, 0.5256455526313215, 0.546878875493628, 0.5677660860947084, 0.5882939652008056, 0.6084495209942173, 0.6282199972956425, 0.6475928816373941, 0.666555913182372, 0.6850970904837808, 0.7032046790806836, 0.7208672189245847, 0.7380735316323398, 0.7548127275607995, 0.7710742126987252, 0.7868476953715905, 0.8021231927550442, 0.8168910371929057, 0.8311418823156937, 0.8448667089558178, 0.8580568308556875, 0.8707039001651274, 0.8827999127246196, 0.8943372131310279, 0.9053084995825964, 0.9157068285001696, 0.9255256189216783, 0.9347586566671513, 0.9434000982715814, 0.9514444746831768, 0.9588866947246498, 0.9657220483153547, 0.9719462094522336, 0.9775552389476861, 0.9825455869226277, 0.98691409505316, 0.9906579985694319, 0.9937749280054241, 0.9962629106985544, 0.9981203720381463, 0.9993461364619809, 0.9999394282002937, 0.9998998717667489, 0.9992274921960794, 0.9979227150282433, 0.9959863660391043, 0.9934196707178107, 0.9902242534911986, 0.9864021366957146, 0.9819557392975065, 0.9768878753614927, 0.9712017522703761, 0.9649009686947388, 0.9579895123154887, 0.9504717573001114, 0.9423524615343185, 0.9336367636108461, 0.9243301795773083, 0.9144385994451657, 0.9039682834620162, 0.8929258581495686, 0.8813183121098073, 0.8691529916019983, 0.8564375958933462, 0.8431801723862219, 0.8293891115250823, 0.8150731414862619, 0.8002413226540318, 0.7849030418864043, 0.7690680065743166, 0.7527462384979547, 0.7359480674841035, 0.7186841248685385, 0.7009653367675978, 0.6828029171631894, 0.6642083608056132, 0.645193435938694, 0.6257701768518052, 0.6059508762635476, 0.5857480775418389, 0.5651745667653925, 0.5442433646315787, 0.5229677182158023, 0.5013610925876059, 0.4794371622888099, 0.45720980267907935, 0.43469308115439603, 0.4119012482439932, 0.3888487285913865, 0.3655501118252198, 0.342020143325668, 0.31827371489230794, 0.29432585531928135, 0.2701917208837818, 0.24588658575385006, 0.22142583232155907, 0.1968249414677055, 0.17209948276416923, 0.1472651046201415, 0.12233752437845594, 0.09733251836830327, 0.07226591192058601, 0.047153569352306586, 0.02201138392622685, -0.003144732207736932, -0.028298858083118522, -0.05343507399305771, -0.07853747156566976, -0.10359016383223932, -0.12857729528186854, -0.153483051896216, -0.17829167115797553, -0.20298745202676252, -0.2275547648760817, -0.2519780613851261, -0.27624188437907343, -0.3003308776117511, -0.3242297954843714, -0.34792351269428423, -0.37139703380756833, -0.3946355027494409, -0.4176242122064669, -0.44034861293461913, -0.4627943229672987, -0.48494713671748735, -0.5067930339682735, -0.5283181887460507, -0.5495089780708068, -0.570351990577902, -0.5908340350059584, -0.6109421485454233, -0.6306636050425575, -0.6499859230536468, -0.6688968737443395, -0.6873844886291102, -0.7054370671459529, -0.723043184061509, -0.7401916967019432, -0.7568717520049925, -0.7730727933887171, -0.7887845674326319, -0.8039971303669399, -0.8187008543658284, -0.8328864336407736, -0.8465448903300606, -0.8596675801807453, -0.8722461980194862, -0.8842727830087777, -0.8957397236852552, -0.9066397627768898, -0.9169660017960132, -0.9267119054052854, -0.9358713055538117, -0.9444384053808291, -0.952407782884451, -0.9597743943531892, -0.9665335775580415, -0.9726810547031601, -0.9782129351332084, -0.9831257177957042, -0.9874162934567889, -0.9910819466690196, -0.9941203574899393, -0.9965296029503368, -0.9983081582712682, -0.9994548978290693, -0.9999690958677468, -0.9998504269583004, -0.9990989662046814, -0.9977151891962615, -0.9956999717068377, -0.9930545891403677, -0.9897807157237835, -0.9858804234473959, -0.9813561807535596, -0.9762108509744295, -0.970447690519797, -0.9640703468161507, -0.9570828559982708, -0.9494896403548134, -0.9412955055295034, -0.9325056374797073, -0.9231255991943123, -0.9131613271729833, -0.9026191276690341, -0.8915056726982841, -0.8798279958164296, -0.8675934876676016, -0.8548098913069259, -0.8414852973000501, -0.8276281386027312, -0.8132471852237331, -0.7983515386744061, -0.7829506262084635, -0.7670541948555986, -0.7506723052527243, -0.7338153252767278, -0.7164939234827834, -0.6987190623523676, -0.6805019913552527, -0.6618542398298678, -0.6427876096865393, -0.6233141679382167, -0.6034462390634263, -0.5831963972062736, -0.5625774582184374, -0.5416024715481905, -0.5202847119815788, -0.49863767124099145, -0.4766750494464275, -0.4544107464448776, -0.4318588530132977, -0.4090336419407464, -0.3859495589953285, -0.3626212137816668, -0.3390633704946753, -0.3152909385755026, -0.2913189632755475, -0.26716261613452175, -0.24283718537858687, -0.2183580662446453, -0.19374075123689763, -0.1690008203218492, -0.14415393106795857, -0.11921580873617377, -0.09420223632762681, -0.06912904459478435, -0.044012102022381615, -0.018867304784467184, 0.006289433316067516, 0.031442190919120226, 0.05657504918379184, 0.08167210186320688, 0.106717465371359, 0.13169528883562356, 0.1565897641285575, 0.18138513587265076, 0.2060657114116921, 0.23061587074243958, 0.25502007640031055, 0.27926288329283006, 0.3033289484746265, 0.32720304085777135, 0.3508700508513301, 0.37431499992401834, 0.39752305008391314, 0.42047951326921434, 0.443169860644126, 0.4655797317939569, 0.4876949438136342, 0.5095015002838728, 0.5309856001293197, 0.5521336463530703, 0.5729322546420199, 0.5933682618376201, 0.6134287342666616, 0.6331009759268209, 0.6523725365217905, 0.6712312193409028, 0.6896650889782618, 0.7076624788865042, 0.7252119987603971, 0.7423025417456091, 0.7589232914680885, 0.7750637288796017, 0.7907136389150937, 0.805863116957669, 0.8205025751070874, 0.8346227482478171, 0.8482146999128021, 0.8612698279392305, 0.8737798699127286, 0.8857369083965293, 0.897133375942314, 0.907962059879546, 0.9182161068802738, 0.9278890272965091, 0.9369746992674381, 0.9454673725938634, 0.9533616723774293, 0.960652602422321, 0.9673355483972901, 0.9734062807560026, 0.9788609574138615, 0.9836961261796101, 0.9879087269401781, 0.9914960935973848, 0.9944559557552775, 0.9967864401570342, 0.9984860718705224, 0.9995537752217639, 0.999988874475714, 0.9997910942639262, 0.9989605597588275, 0.9974977965944998, 0.9954037305340127, 0.9926796868835203, 0.9893273896534935, 0.9853489604676166, 0.9807469172200397, 0.9755241724818388, 0.9696840316576878, 0.9632301908939128, 0.9561667347392512, 0.9484981335597955, 0.9402292407097593, 0.931365289459854, 0.921911889685225, 0.9118750243150336, 0.9012610455459448, 0.890076670821906, 0.8783289785827688, 0.8660254037844388, 0.8531737331933931, 0.8397821004585402, 0.8258589809635436, 0.8114131864628663, 0.7964538595049298, 0.7809904676459183, 0.7650327974578897, 0.7485909483349905, 0.7316753261016783, 0.714296636427021, 0.6964658780492219, 0.6781943358146666, 0.6594935735358963, 0.6403754266730265, 0.6208519948432443, 0.6009356341631237, 0.5806389494286064, 0.5599747861375963, 0.538956222360216, 0.5175965604618782, 0.4959093186843893, 0.47390822259044313, 0.45160719637689517, 0.4290203540623267, 0.4061619905544728, 0.3830465726031682, 0.35968872964453635, 0.33610324454221685, 0.3123050442314904, 0.2883091902722229, 0.2641308693166075, 0.23978538349773562, 0.2152881407450901, 0.19065464503306445, 0.16590048656871342, 0.14104133192491952, 0.11609291412523057, 0.09107102268664129, 0.06599149362662111, 0.04087019944071234, 0.015723039057041897, -0.009434072225895714, -0.03458521281181613, -0.059714464883208564, -0.0848059244755095, -0.10984371154250018, -0.13481198000658426, -0.15969492778754932, -0.1844768068034921, -0.20914193293756697, -0.23367469596425192, -0.25805956942884956, -0.2822811204739709, -0.3063240196067825, -0.3301730504008357, -0.3538131191263375, -0.3772292643027686, -0.40040666616780407, -0.4233306560565345, -0.44598672568507597, -0.4683605363326604, -0.49043792791642027, -0.5122049279531139, -0.5336477604021218, -0.5547528543841165, -0.5755068527698893, -0.5958966206338969, -0.6159092535671787, -0.635532085844383, -0.6547526984397339, -0.673558926886866, -0.6919388689775462, -0.7098808922944285, -0.7273736415730485, -0.7444060458884187, -0.7609673256616672, -0.7770469994822881, -0.7926348907416843, -0.8077211340738062, -0.8222961815988088, -0.8363508089657755, -0.8498761211906857, -0.8628635582859303, -0.8753049006778131, -0.887192274408604, -0.8985181561198672, -0.9092753778138883, -0.9194571313902052, -0.9290569729543625, -0.9380688268961656, -0.9464869897348521, -0.9543061337287485, -0.9615213102471252, -0.9681279529021184, -0.9741218804387359, -0.9794992993811165, -0.9842568064333687, -0.9883913906334728, -0.9919004352588768, -0.9947817194825852, -0.9970334197786901, -0.9986541110764564, -0.9996427676622299, -0.9999987638285974, -0.9997218742703887, -0.9988122742272693, -0.9972705393728328, -0.9950976454502661, -0.9922949676548136, -0.9888642797634357, -0.9848077530122081, -0.9801279547221766, -0.9748278466745343, -0.9689107832361498, -0.9623805092366337, -0.9552411575982871, -0.9474972467204301, -0.9391536776197682, -0.9302157308286048, -0.9206890630528637, -0.9105797035920362, -0.8998940505233182, -0.8886388666523559, -0.8768212752331537, -0.8644487554598651, -0.8515291377333115, -0.8380705987052268, -0.8240816561033648, -0.8095711633407445, -0.7945483039124444, -0.7790225855834919, -0.7630038343715282, -0.746502188328053, -0.7295280911221895, -0.7120922854310254, -0.6942058061407227, -0.6758799733626792, -0.6571263852691889, -0.6379569107531123, -0.618383681916216, -0.5984190863909276, -0.5780757595003716, -0.5573665762616431, -0.5363046432373836, -0.5149032902408138, -0.4931760618994757, -0.47113670908301775, -0.4487991802004622, -0.42617761237243545, -0.40328632248398155, -0.38013979812359716, -0.3567526884142323, -0.3331397947420583, -0.30931606138886975, -0.2852965660740508, -0.26109651041208937, -0.23673121029168104, -0.21221608618250934, -0.1875666533758387, -0.1627985121650943, -0.1379273379726537, -0.1129688714290731, -0.08793890841106164, -0.06285329004448248, -0.03772789267871785, -0.012578617838741877, 0.0125786178387401, 0.03772789267871608, 0.0628532900444807, 0.08793890841105988, 0.11296887142907132, 0.13792733797265194, 0.1627985121650943, 0.18756665337583697, 0.2122160861825076, 0.23673121029167932, 0.26109651041208765, 0.2852965660740491, 0.3093160613888681, 0.3331397947420566, 0.3567526884142307, 0.3801397981235955, 0.40328632248397994, 0.42617761237243384, 0.4487991802004606, 0.47113670908301775, 0.49317606189947416, 0.5149032902408124, 0.536304643237382, 0.5573665762616417, 0.57807575950037, 0.5984190863909261, 0.6183836819162145, 0.637956910753111, 0.6571263852691875, 0.675879973362678, 0.6942058061407214, 0.7120922854310242, 0.7295280911221883, 0.7465021883280518, 0.763003834371527, 0.7790225855834908, 0.7945483039124432, 0.8095711633407435, 0.8240816561033638, 0.8380705987052258, 0.8515291377333106, 0.8644487554598642, 0.8768212752331528, 0.888638866652355, 0.8998940505233174, 0.9105797035920355, 0.920689063052863, 0.9302157308286041, 0.9391536776197675, 0.9474972467204296, 0.9552411575982865, 0.9623805092366332, 0.9689107832361493, 0.9748278466745339, 0.9801279547221763, 0.9848077530122078, 0.9888642797634355, 0.9922949676548136, 0.995097645450266, 0.9972705393728327, 0.9988122742272691, 0.9997218742703887, 0.9999987638285974, 0.9996427676622299, 0.9986541110764565, 0.9970334197786903, 0.9947817194825854, 0.9919004352588771, 0.988391390633473, 0.984256806433369, 0.9794992993811165, 0.9741218804387364, 0.968127952902119, 0.9615213102471256, 0.9543061337287491, 0.9464869897348528, 0.9380688268961662, 0.9290569729543632, 0.9194571313902059, 0.9092753778138891, 0.898518156119868, 0.8871922744086048, 0.8753049006778139, 0.8628635582859312, 0.8498761211906867, 0.8363508089657764, 0.8222961815988098, 0.8077211340738073, 0.7926348907416854, 0.7770469994822892, 0.7609673256616684, 0.7444060458884199, 0.7273736415730497, 0.7098808922944297, 0.6919388689775475, 0.6735589268868674, 0.6547526984397353, 0.6355320858443845, 0.6159092535671801, 0.5958966206338984, 0.5755068527698908, 0.554752854384118, 0.5336477604021233, 0.5122049279531155, 0.49043792791642177, 0.46836053633266195, 0.4459867256850776, 0.42333065605653614, 0.40040666616780407, 0.37722926430277026, 0.35381311912633917, 0.3301730504008374, 0.30632401960678424, 0.28228112047397264, 0.2580595694288513, 0.23367469596425364, 0.20914193293756872, 0.18447680680349385, 0.15969492778755107, 0.134811980006586, 0.10984371154250196, 0.0848059244755095, 0.05971446488321034, 0.03458521281181791, 0.00943407222589749, -0.015723039057040124, -0.04087019944071056, -0.06599149362661934, -0.09107102268663952, -0.11609291412522879, -0.14104133192491775, -0.16590048656871167, -0.1906546450330627, -0.21528814074508837, -0.23978538349773562, -0.2641308693166058, -0.2883091902722212, -0.31230504423148703, -0.3361032445422152, -0.3596887296445331, -0.38304657260316655, -0.4061619905544728, -0.4290203540623251, -0.45160719637689517, -0.4739082225904416, -0.4959093186843893, -0.5175965604618766, -0.538956222360216, -0.5599747861375934, -0.580638949428605, -0.6009356341631208, -0.6208519948432428, -0.6403754266730237, -0.659493573535895, -0.6781943358146666, -0.6964658780492206, -0.714296636427021, -0.7316753261016771, -0.7485909483349905, -0.7650327974578885, -0.7809904676459172, -0.7964538595049276, -0.8114131864628653, -0.8258589809635416, -0.8397821004585392, -0.8531737331933913, -0.8660254037844379, -0.8783289785827688, -0.8900766708219052, -0.9012610455459448, -0.911875024315033, -0.921911889685225, -0.9313652894598534, -0.9402292407097588, -0.9484981335597944, -0.9561667347392507, -0.9632301908939118, -0.9696840316576874, -0.975524172481838, -0.9807469172200394, -0.9853489604676166, -0.9893273896534933, -0.9926796868835203, -0.9954037305340123, -0.9974977965944997, -0.9989605597588274, -0.9997910942639261, -0.9999888744757142, -0.9995537752217639, -0.9984860718705226, -0.9967864401570343, -0.9944559557552779, -0.991496093597385, -0.9879087269401781, -0.9836961261796104, -0.9788609574138615, -0.9734062807560032, -0.9673355483972903, -0.9606526024223216, -0.9533616723774295, -0.9454673725938643, -0.9369746992674384, -0.9278890272965103, -0.9182161068802746, -0.907962059879546, -0.8971333759423148, -0.8857369083965293, -0.8737798699127294, -0.8612698279392309, -0.8482146999128034, -0.8346227482478176, -0.8205025751070889, -0.8058631169576695, -0.7907136389150954, -0.7750637288796023, -0.7589232914680908, -0.7423025417456102, -0.7252119987603971, -0.7076624788865055, -0.6896650889782618, -0.6712312193409041, -0.6523725365217912, -0.633100975926823, -0.6134287342666622, -0.5933682618376224, -0.5729322546420206, -0.5521336463530725, -0.5309856001293213, -0.5095015002838758, -0.48769494381363576, -0.4655797317939569, -0.4431698606441276, -0.42047951326921434, -0.39752305008391475, -0.3743149999240192, -0.3508700508513326, -0.3272030408577722, -0.30332894847462905, -0.2792628832928309, -0.25502007640031316, -0.2306158707424413, -0.20606571141169558, -0.18138513587265248, -0.1565897641285575, -0.1316952888356253, -0.106717465371359, -0.08167210186320864, -0.056575049183792726, -0.03144219091912289, -0.006289433316068405, 0.018867304784464523, 0.04401210202238073, 0.0691290445947817, 0.09420223632762503, 0.11921580873617024, 0.14415393106795682, 0.1690008203218492, 0.1937407512368959, 0.2183580662446453, 0.24283718537858515, 0.2671626161345209, 0.29131896327554496, 0.3152909385755018, 0.3390633704946728, 0.362621213781666, 0.385949558995326, 0.4090336419407447, 0.43185885301329446, 0.45441074644487606, 0.4766750494464275, 0.4986376712409899, 0.5202847119815788, 0.5416024715481883, 0.5625774582184366, 0.5831963972062714, 0.6034462390634255, 0.6233141679382146, 0.6427876096865385, 0.6618542398298658, 0.6805019913552515, 0.6987190623523651, 0.7164939234827821, 0.7338153252767278, 0.7506723052527231, 0.7670541948555986, 0.7829506262084618, 0.7983515386744056, 0.8132471852237315, 0.8276281386027307, 0.8414852973000487, 0.8548098913069254, 0.8675934876675998, 0.8798279958164287, 0.8915056726982824, 0.9026191276690333, 0.9131613271729833, 0.9231255991943116, 0.9325056374797073, 0.9412955055295025, 0.9494896403548132, 0.95708285599827, 0.9640703468161504, 0.9704476905197963, 0.9762108509744293, 0.9813561807535589, 0.9858804234473956, 0.989780715723783, 0.9930545891403675, 0.9956999717068377, 0.9977151891962613, 0.9990989662046814, 0.9998504269583004, 0.999969095867747, 0.9994548978290694, 0.9983081582712683, 0.996529602950337, 0.9941203574899394, 0.99108194666902, 0.9874162934567892, 0.9831257177957049, 0.9782129351332088, 0.9726810547031601, 0.9665335775580419, 0.9597743943531892, 0.9524077828844522, 0.9444384053808291, 0.9358713055538129, 0.9267119054052854, 0.9169660017960145, 0.9066397627768898, 0.8957397236852569, 0.8842727830087785, 0.872246198019488, 0.8596675801807462, 0.8465448903300606, 0.8328864336407746, 0.8187008543658284, 0.803997130366942, 0.7887845674326319, 0.7730727933887194, 0.7568717520049925, 0.7401916967019456, 0.7230431840615102, 0.7054370671459554, 0.6873844886291115, 0.6688968737443395, 0.6499859230536481, 0.6306636050425575, 0.6109421485454247, 0.5908340350059584, 0.5703519905779034, 0.5495089780708068, 0.5283181887460539, 0.5067930339682735, 0.48494713671749046, 0.4627943229673003, 0.44034861293462235, 0.4176242122064685, 0.3946355027494409, 0.37139703380757, 0.34792351269428423, 0.3242297954843731, 0.3003308776117511, 0.2762418843790769, 0.2519780613851261, 0.22755476487608517, 0.20298745202676252, 0.17829167115797903, 0.15348305189621775, 0.12857729528187206, 0.10359016383224108, 0.07853747156566976, 0.05343507399305949, 0.028298858083118522, 0.0031447322077387085, -0.02201138392622685, -0.04715356935230304, -0.07226591192058601, -0.09733251836829973, -0.12233752437845594, -0.147265104620138, -0.17209948276416748, -0.196824941467702, -0.22142583232155733, -0.24588658575385006, -0.2701917208837801, -0.29432585531928135, -0.31827371489230627, -0.342020143325668, -0.3655501118252165, -0.3888487285913865, -0.41190124824399, -0.4346930811543944, -0.4572098026790762, -0.47943716228880834, -0.5013610925876029, -0.5229677182158008, -0.5442433646315787, -0.565174566765391, -0.5857480775418389, -0.6059508762635462, -0.6257701768518052, -0.6451934359386913, -0.6642083608056132, -0.6828029171631869, -0.7009653367675964, -0.7186841248685361, -0.7359480674841022, -0.7527462384979524, -0.7690680065743155, -0.7849030418864043, -0.8002413226540307, -0.8150731414862619, -0.8293891115250813, -0.8431801723862219, -0.8564375958933444, -0.8691529916019983, -0.8813183121098056, -0.8929258581495678, -0.9039682834620146, -0.914438599445165, -0.924330179577307, -0.9336367636108455, -0.9423524615343185, -0.9504717573001108, -0.9579895123154887, -0.9649009686947383, -0.9712017522703761, -0.9768878753614919, -0.9819557392975065, -0.9864021366957141, -0.9902242534911982, -0.9934196707178103, -0.9959863660391042, -0.997922715028243, -0.9992274921960793, -0.9998998717667489, -0.9999394282002937, -0.9993461364619809, -0.9981203720381464, -0.9962629106985544, -0.9937749280054246, -0.9906579985694319, -0.9869140950531605, -0.9825455869226281, -0.9775552389476869, -0.9719462094522341, -0.9657220483153556, -0.9588866947246504, -0.9514444746831768, -0.943400098271582, -0.9347586566671513, -0.9255256189216791, -0.9157068285001696, -0.905308499582598, -0.8943372131310279, -0.8827999127246212, -0.8707039001651283, -0.8580568308556894, -0.8448667089558188, -0.8311418823156937, -0.8168910371929067, -0.8021231927550442, -0.7868476953715916, -0.7710742126987252, -0.7548127275608008, -0.7380735316323398, -0.7208672189245872, -0.703204679080685, -0.6850970904837833, -0.6665559131823733, -0.6475928816373968, -0.6282199972956439, -0.6084495209942173, -0.588293965200807, -0.5677660860947084, -0.5468788754936296, -0.5256455526313215, -0.5040795557913271, -0.4821945338020488, -0.4600043373986138, -0.43752301045690567, -0.4147647811054101, -0.39174405272039897, -0.3684753948102534, -0.34497353379459245, -0.3212533436841441, -0.29732983666717455, -0.2732181536084666, -0.2489335544668942, -0.22449140863757358, -0.19990718522480744, -0.17519644325187023, -0.15037482181393988, -0.12545803018029758, -0.10046183785217142, -0.07540206458240344, -0.05029457036336994, -0.025155245389377974, -4.898587196589413e-16], \"x\": [-12.566370614359172, -12.541212715231326, -12.51605481610348, -12.490896916975634, -12.465739017847788, -12.440581118719942, -12.415423219592096, -12.390265320464248, -12.365107421336402, -12.339949522208556, -12.31479162308071, -12.289633723952864, -12.264475824825018, -12.239317925697172, -12.214160026569326, -12.18900212744148, -12.163844228313634, -12.138686329185788, -12.113528430057942, -12.088370530930096, -12.063212631802248, -12.038054732674402, -12.012896833546556, -11.98773893441871, -11.962581035290864, -11.937423136163018, -11.912265237035172, -11.887107337907326, -11.86194943877948, -11.836791539651633, -11.811633640523787, -11.786475741395941, -11.761317842268095, -11.736159943140247, -11.711002044012401, -11.685844144884555, -11.66068624575671, -11.635528346628863, -11.610370447501017, -11.585212548373171, -11.560054649245325, -11.534896750117479, -11.509738850989633, -11.484580951861787, -11.45942305273394, -11.434265153606095, -11.409107254478247, -11.383949355350401, -11.358791456222555, -11.333633557094709, -11.308475657966863, -11.283317758839017, -11.25815985971117, -11.233001960583325, -11.207844061455479, -11.182686162327633, -11.157528263199787, -11.132370364071939, -11.107212464944094, -11.082054565816247, -11.0568966666884, -11.031738767560554, -11.006580868432708, -10.981422969304862, -10.956265070177016, -10.93110717104917, -10.905949271921324, -10.880791372793478, -10.855633473665632, -10.830475574537786, -10.805317675409938, -10.780159776282094, -10.755001877154246, -10.7298439780264, -10.704686078898554, -10.679528179770708, -10.654370280642862, -10.629212381515016, -10.60405448238717, -10.578896583259324, -10.553738684131478, -10.528580785003632, -10.503422885875786, -10.478264986747938, -10.453107087620094, -10.427949188492246, -10.4027912893644, -10.377633390236554, -10.352475491108708, -10.327317591980862, -10.302159692853015, -10.27700179372517, -10.251843894597323, -10.226685995469477, -10.201528096341631, -10.176370197213785, -10.151212298085937, -10.126054398958093, -10.100896499830245, -10.0757386007024, -10.050580701574553, -10.025422802446707, -10.000264903318861, -9.975107004191015, -9.949949105063169, -9.924791205935323, -9.899633306807477, -9.87447540767963, -9.849317508551785, -9.824159609423937, -9.799001710296093, -9.773843811168245, -9.748685912040399, -9.723528012912553, -9.698370113784707, -9.67321221465686, -9.648054315529015, -9.622896416401169, -9.597738517273323, -9.572580618145476, -9.547422719017629, -9.522264819889784, -9.497106920761937, -9.471949021634092, -9.446791122506244, -9.421633223378398, -9.396475324250552, -9.371317425122706, -9.34615952599486, -9.321001626867014, -9.295843727739168, -9.270685828611322, -9.245527929483476, -9.220370030355628, -9.195212131227784, -9.170054232099936, -9.144896332972092, -9.119738433844244, -9.094580534716398, -9.069422635588552, -9.044264736460706, -9.01910683733286, -8.993948938205014, -8.968791039077168, -8.943633139949322, -8.918475240821476, -8.893317341693628, -8.868159442565783, -8.843001543437936, -8.81784364431009, -8.792685745182244, -8.767527846054398, -8.742369946926551, -8.717212047798705, -8.69205414867086, -8.666896249543013, -8.641738350415167, -8.616580451287321, -8.591422552159475, -8.566264653031627, -8.541106753903783, -8.515948854775935, -8.490790955648091, -8.465633056520243, -8.440475157392397, -8.415317258264551, -8.390159359136705, -8.365001460008859, -8.339843560881013, -8.314685661753167, -8.289527762625319, -8.264369863497475, -8.239211964369627, -8.214054065241783, -8.188896166113935, -8.16373826698609, -8.138580367858243, -8.113422468730397, -8.08826456960255, -8.063106670474705, -8.037948771346858, -8.012790872219012, -7.987632973091166, -7.962475073963319, -7.937317174835473, -7.912159275707627, -7.887001376579781, -7.861843477451935, -7.836685578324089, -7.811527679196242, -7.786369780068396, -7.76121188094055, -7.736053981812704, -7.710896082684858, -7.685738183557012, -7.660580284429166, -7.635422385301319, -7.610264486173473, -7.585106587045627, -7.559948687917781, -7.534790788789935, -7.509632889662089, -7.484474990534242, -7.459317091406396, -7.43415919227855, -7.409001293150704, -7.383843394022858, -7.358685494895012, -7.3335275957671655, -7.308369696639319, -7.2832117975114725, -7.2580538983836265, -7.23289599925578, -7.207738100127934, -7.182580201000088, -7.157422301872241, -7.132264402744395, -7.107106503616549, -7.081948604488703, -7.056790705360857, -7.031632806233011, -7.006474907105164, -6.981317007977318, -6.956159108849472, -6.931001209721626, -6.90584331059378, -6.880685411465934, -6.855527512338088, -6.830369613210241, -6.805211714082395, -6.780053814954549, -6.754895915826703, -6.729738016698857, -6.704580117571011, -6.679422218443164, -6.654264319315318, -6.629106420187472, -6.603948521059626, -6.5787906219317795, -6.5536327228039335, -6.528474823676087, -6.5033169245482405, -6.4781590254203945, -6.453001126292548, -6.427843227164702, -6.402685328036856, -6.37752742890901, -6.352369529781163, -6.327211630653317, -6.302053731525471, -6.276895832397625, -6.251737933269779, -6.226580034141933, -6.201422135014086, -6.17626423588624, -6.151106336758394, -6.125948437630548, -6.100790538502702, -6.075632639374856, -6.05047474024701, -6.025316841119163, -6.000158941991317, -5.975001042863471, -5.949843143735625, -5.924685244607779, -5.899527345479933, -5.874369446352086, -5.84921154722424, -5.824053648096394, -5.7988957489685475, -5.7737378498407015, -5.748579950712855, -5.723422051585009, -5.6982641524571624, -5.673106253329316, -5.64794835420147, -5.622790455073624, -5.597632555945778, -5.572474656817932, -5.547316757690085, -5.522158858562239, -5.497000959434393, -5.471843060306547, -5.446685161178701, -5.421527262050855, -5.396369362923008, -5.371211463795162, -5.346053564667316, -5.32089566553947, -5.295737766411624, -5.270579867283778, -5.245421968155932, -5.220264069028085, -5.195106169900239, -5.169948270772393, -5.144790371644547, -5.119632472516701, -5.094474573388855, -5.069316674261008, -5.044158775133162, -5.0190008760053155, -4.9938429768774695, -4.968685077749623, -4.943527178621777, -4.91836927949393, -4.893211380366084, -4.868053481238238, -4.842895582110392, -4.817737682982546, -4.7925797838547, -4.767421884726854, -4.742263985599007, -4.717106086471161, -4.691948187343315, -4.666790288215469, -4.641632389087623, -4.616474489959777, -4.59131659083193, -4.566158691704084, -4.541000792576238, -4.515842893448392, -4.490684994320546, -4.4655270951927, -4.440369196064854, -4.415211296937008, -4.390053397809162, -4.3648954986813155, -4.339737599553468, -4.314579700425622, -4.289421801297776, -4.26426390216993, -4.2391060030420835, -4.2139481039142375, -4.188790204786391, -4.163632305658545, -4.138474406530699, -4.113316507402853, -4.088158608275007, -4.063000709147161, -4.037842810019315, -4.012684910891467, -3.9875270117636212, -3.962369112635775, -3.937211213507929, -3.912053314380083, -3.886895415252237, -3.861737516124391, -3.836579616996545, -3.811421717868699, -3.786263818740853, -3.7611059196130068, -3.7359480204851607, -3.710790121357313, -3.685632222229467, -3.660474323101621, -3.6353164239737747, -3.6101585248459287, -3.5850006257180826, -3.5598427265902366, -3.5346848274623905, -3.5095269283345445, -3.4843690292066984, -3.4592111300788524, -3.4340532309510063, -3.4088953318231603, -3.3837374326953125, -3.3585795335674664, -3.3334216344396204, -3.3082637353117743, -3.2831058361839283, -3.257947937056082, -3.232790037928236, -3.20763213880039, -3.182474239672544, -3.157316340544698, -3.132158441416852, -3.107000542289006, -3.08184264316116, -3.056684744033312, -3.031526844905466, -3.00636894577762, -2.981211046649774, -2.956053147521928, -2.9308952483940818, -2.9057373492662357, -2.8805794501383897, -2.8554215510105436, -2.8302636518826976, -2.8051057527548515, -2.7799478536270055, -2.7547899544991594, -2.7296320553713116, -2.7044741562434655, -2.6793162571156195, -2.6541583579877734, -2.6290004588599274, -2.6038425597320813, -2.5786846606042353, -2.5535267614763892, -2.528368862348543, -2.503210963220697, -2.478053064092851, -2.452895164965005, -2.427737265837159, -2.402579366709311, -2.377421467581465, -2.352263568453619, -2.327105669325773, -2.301947770197927, -2.276789871070081, -2.251631971942235, -2.226474072814389, -2.2013161736865428, -2.1761582745586967, -2.1510003754308507, -2.1258424763030046, -2.1006845771751586, -2.0755266780473107, -2.0503687789194647, -2.0252108797916186, -2.0000529806637726, -1.9748950815359265, -1.9497371824080805, -1.9245792832802344, -1.8994213841523884, -1.8742634850245423, -1.8491055858966963, -1.8239476867688502, -1.7987897876410042, -1.7736318885131563, -1.7484739893853103, -1.7233160902574642, -1.6981581911296182, -1.6730002920017721, -1.647842392873926, -1.62268449374608, -1.597526594618234, -1.572368695490388, -1.5472107963625419, -1.5220528972346958, -1.4968949981068498, -1.4717370989790037, -1.446579199851156, -1.4214213007233099, -1.3962634015954638, -1.3711055024676178, -1.3459476033397717, -1.3207897042119257, -1.2956318050840796, -1.2704739059562336, -1.2453160068283875, -1.2201581077005414, -1.1950002085726954, -1.1698423094448493, -1.1446844103170033, -1.1195265111891555, -1.0943686120613094, -1.0692107129334634, -1.0440528138056173, -1.0188949146777713, -0.9937370155499252, -0.9685791164220792, -0.9434212172942331, -0.9182633181663871, -0.893105419038541, -0.867947519910695, -0.8427896207828489, -0.8176317216550029, -0.792473822527155, -0.767315923399309, -0.7421580242714629, -0.7170001251436169, -0.6918422260157708, -0.6666843268879248, -0.6415264277600787, -0.6163685286322327, -0.5912106295043866, -0.5660527303765406, -0.5408948312486945, -0.5157369321208485, -0.49057903299300065, -0.4654211338651546, -0.44026323473730855, -0.4151053356094625, -0.38994743648161645, -0.3647895373537704, -0.33963163822592435, -0.3144737390980783, -0.28931583997023225, -0.2641579408423862, -0.23900004171454015, -0.2138421425866941, -0.18868424345884804, -0.16352634433100022, -0.13836844520315417, -0.11321054607530812, -0.08805264694746207, -0.06289474781961601, -0.037736848691769964, -0.012578949563923914, 0.012578949563922137, 0.03773684869176819, 0.06289474781961424, 0.08805264694746029, 0.11321054607530634, 0.1383684452031524, 0.16352634433100022, 0.18868424345884627, 0.21384214258669232, 0.23900004171453837, 0.2641579408423844, 0.28931583997023047, 0.3144737390980765, 0.33963163822592257, 0.3647895373537686, 0.3899474364816147, 0.4151053356094607, 0.4402632347373068, 0.4654211338651528, 0.49057903299300065, 0.5157369321208467, 0.5408948312486928, 0.5660527303765388, 0.5912106295043849, 0.6163685286322309, 0.641526427760077, 0.666684326887923, 0.6918422260157691, 0.7170001251436151, 0.7421580242714612, 0.7673159233993072, 0.7924738225271533, 0.8176317216550011, 0.8427896207828471, 0.8679475199106932, 0.8931054190385392, 0.9182633181663853, 0.9434212172942313, 0.9685791164220774, 0.9937370155499234, 1.0188949146777695, 1.0440528138056155, 1.0692107129334616, 1.0943686120613076, 1.1195265111891537, 1.1446844103170015, 1.1698423094448476, 1.1950002085726936, 1.2201581077005397, 1.2453160068283857, 1.2704739059562318, 1.2956318050840778, 1.3207897042119239, 1.34594760333977, 1.371105502467616, 1.396263401595462, 1.421421300723308, 1.446579199851156, 1.471737098979002, 1.496894998106848, 1.522052897234694, 1.54721079636254, 1.5723686954903862, 1.5975265946182322, 1.6226844937460783, 1.6478423928739243, 1.6730002920017704, 1.6981581911296164, 1.7233160902574625, 1.7484739893853085, 1.7736318885131563, 1.7987897876410024, 1.8239476867688484, 1.8491055858966945, 1.8742634850245405, 1.8994213841523866, 1.9245792832802326, 1.9497371824080787, 1.9748950815359247, 2.000052980663771, 2.025210879791617, 2.050368778919463, 2.075526678047309, 2.1006845771751568, 2.125842476303003, 2.151000375430849, 2.176158274558695, 2.201316173686541, 2.226474072814387, 2.251631971942233, 2.276789871070079, 2.301947770197925, 2.3271056693257712, 2.3522635684536173, 2.3774214675814633, 2.4025793667093094, 2.427737265837157, 2.4528951649650033, 2.4780530640928493, 2.5032109632206954, 2.5283688623485414, 2.5535267614763875, 2.5786846606042335, 2.6038425597320796, 2.6290004588599256, 2.6541583579877717, 2.6793162571156177, 2.7044741562434638, 2.7296320553713116, 2.7547899544991576, 2.7799478536270037, 2.8051057527548497, 2.830263651882696, 2.855421551010542, 2.880579450138388, 2.905737349266234, 2.93089524839408, 2.956053147521926, 2.981211046649772, 3.006368945777618, 3.031526844905464, 3.056684744033312, 3.081842643161158, 3.107000542289004, 3.13215844141685, 3.1573163405446962, 3.1824742396725423, 3.2076321388003883, 3.2327900379282344, 3.2579479370560804, 3.2831058361839265, 3.3082637353117725, 3.3334216344396186, 3.3585795335674646, 3.3837374326953125, 3.4088953318231585, 3.4340532309510046, 3.459211130078849, 3.4843690292066967, 3.509526928334541, 3.5346848274623888, 3.5598427265902366, 3.585000625718081, 3.6101585248459287, 3.635316423973773, 3.660474323101621, 3.685632222229465, 3.710790121357313, 3.735948020485157, 3.761105919613005, 3.7862638187408493, 3.811421717868697, 3.8365796169965414, 3.861737516124389, 3.886895415252237, 3.9120533143800813, 3.937211213507929, 3.9623691126357734, 3.9875270117636212, 4.0126849108914655, 4.037842810019313, 4.063000709147158, 4.088158608275005, 4.11331650740285, 4.1384744065306975, 4.163632305658542, 4.18879020478639, 4.2139481039142375, 4.239106003042082, 4.26426390216993, 4.289421801297774, 4.314579700425622, 4.339737599553466, 4.364895498681314, 4.390053397809158, 4.415211296937006, 4.44036919606485, 4.465527095192698, 4.490684994320542, 4.51584289344839, 4.541000792576238, 4.566158691704082, 4.59131659083193, 4.616474489959774, 4.641632389087622, 4.666790288215466, 4.691948187343314, 4.7171060864711585, 4.742263985599006, 4.767421884726851, 4.792579783854698, 4.817737682982543, 4.8428955821103905, 4.868053481238238, 4.893211380366083, 4.91836927949393, 4.943527178621775, 4.9686850777496225, 4.993842976877467, 5.019000876005315, 5.044158775133159, 5.069316674261007, 5.094474573388851, 5.119632472516699, 5.144790371644547, 5.169948270772391, 5.195106169900239, 5.220264069028083, 5.245421968155931, 5.270579867283775, 5.295737766411623, 5.320895665539467, 5.346053564667315, 5.371211463795159, 5.396369362923007, 5.4215272620508514, 5.446685161178699, 5.471843060306547, 5.497000959434391, 5.522158858562239, 5.5473167576900835, 5.572474656817931, 5.597632555945776, 5.622790455073623, 5.647948354201468, 5.6731062533293155, 5.69826415245716, 5.723422051585008, 5.748579950712852, 5.7737378498407, 5.7988957489685475, 5.824053648096392, 5.84921154722424, 5.874369446352084, 5.899527345479932, 5.924685244607776, 5.949843143735624, 5.975001042863468, 6.000158941991316, 6.02531684111916, 6.050474740247008, 6.075632639374852, 6.1007905385027, 6.125948437630548, 6.151106336758392, 6.17626423588624, 6.201422135014084, 6.226580034141932, 6.2517379332697764, 6.276895832397624, 6.3020537315254685, 6.327211630653316, 6.352369529781161, 6.3775274289090085, 6.402685328036853, 6.427843227164701, 6.453001126292548, 6.478159025420393, 6.5033169245482405, 6.528474823676085, 6.553632722803933, 6.578790621931777, 6.603948521059625, 6.629106420187469, 6.654264319315317, 6.679422218443161, 6.704580117571009, 6.729738016698853, 6.754895915826701, 6.780053814954549, 6.805211714082393, 6.830369613210241, 6.855527512338085, 6.880685411465933, 6.905843310593777, 6.931001209721625, 6.956159108849469, 6.981317007977317, 7.0064749071051615, 7.031632806233009, 7.056790705360854, 7.0819486044887014, 7.107106503616549, 7.1322644027443935, 7.157422301872241, 7.182580201000086, 7.2077381001279335, 7.232895999255778, 7.258053898383626, 7.28321179751147, 7.308369696639318, 7.333527595767162, 7.35868549489501, 7.383843394022854, 7.409001293150702, 7.43415919227855, 7.459317091406394, 7.484474990534242, 7.509632889662086, 7.534790788789934, 7.559948687917778, 7.585106587045626, 7.61026448617347, 7.635422385301318, 7.660580284429162, 7.68573818355701, 7.7108960826848545, 7.736053981812702, 7.76121188094055, 7.786369780068394, 7.811527679196242, 7.8366855783240865, 7.861843477451934, 7.887001376579779, 7.9121592757076264, 7.937317174835471, 7.9624750739633186, 7.987632973091163, 8.01279087221901, 8.037948771346855, 8.063106670474703, 8.08826456960255, 8.113422468730395, 8.138580367858243, 8.163738266986087, 8.188896166113935, 8.214054065241779, 8.239211964369627, 8.264369863497471, 8.289527762625319, 8.314685661753163, 8.339843560881011, 8.365001460008855, 8.390159359136703, 8.415317258264551, 8.440475157392395, 8.465633056520243, 8.490790955648087, 8.515948854775935, 8.54110675390378, 8.566264653031627, 8.591422552159472, 8.61658045128732, 8.641738350415164, 8.666896249543012, 8.69205414867086, 8.717212047798704, 8.742369946926551, 8.767527846054396, 8.792685745182244, 8.817843644310088, 8.843001543437936, 8.86815944256578, 8.893317341693628, 8.918475240821472, 8.94363313994932, 8.968791039077164, 8.993948938205012, 9.01910683733286, 9.044264736460704, 9.069422635588552, 9.094580534716396, 9.119738433844244, 9.144896332972088, 9.170054232099936, 9.19521213122778, 9.220370030355628, 9.245527929483472, 9.27068582861132, 9.295843727739165, 9.321001626867012, 9.34615952599486, 9.371317425122704, 9.396475324250552, 9.421633223378397, 9.446791122506244, 9.471949021634089, 9.497106920761937, 9.52226481988978, 9.547422719017629, 9.572580618145473, 9.59773851727332, 9.622896416401165, 9.648054315529013, 9.67321221465686, 9.698370113784705, 9.723528012912553, 9.748685912040397, 9.773843811168245, 9.79900171029609, 9.824159609423937, 9.849317508551781, 9.874475407679629, 9.899633306807473, 9.924791205935321, 9.949949105063165, 9.975107004191013, 10.000264903318861, 10.025422802446705, 10.050580701574553, 10.075738600702397, 10.100896499830245, 10.12605439895809, 10.151212298085937, 10.176370197213782, 10.20152809634163, 10.226685995469474, 10.251843894597322, 10.277001793725166, 10.302159692853014, 10.327317591980862, 10.352475491108706, 10.377633390236554, 10.402791289364398, 10.427949188492246, 10.45310708762009, 10.478264986747938, 10.503422885875782, 10.52858078500363, 10.553738684131474, 10.578896583259322, 10.604054482387166, 10.629212381515014, 10.654370280642862, 10.679528179770706, 10.704686078898554, 10.729843978026398, 10.755001877154246, 10.78015977628209, 10.805317675409938, 10.830475574537783, 10.85563347366563, 10.880791372793475, 10.905949271921322, 10.931107171049167, 10.956265070177015, 10.981422969304862, 11.006580868432707, 11.031738767560554, 11.056896666688399, 11.082054565816247, 11.10721246494409, 11.132370364071939, 11.157528263199783, 11.18268616232763, 11.207844061455475, 11.233001960583323, 11.258159859711167, 11.283317758839015, 11.308475657966863, 11.333633557094707, 11.358791456222555, 11.3839493553504, 11.409107254478247, 11.434265153606091, 11.45942305273394, 11.484580951861783, 11.509738850989631, 11.534896750117476, 11.560054649245323, 11.585212548373171, 11.610370447501015, 11.635528346628863, 11.660686245756708, 11.685844144884555, 11.7110020440124, 11.736159943140247, 11.761317842268092, 11.78647574139594, 11.811633640523784, 11.836791539651632, 11.861949438779476, 11.887107337907324, 11.912265237035172, 11.937423136163016, 11.962581035290864, 11.987738934418708, 12.012896833546556, 12.0380547326744, 12.063212631802248, 12.088370530930092, 12.11352843005794, 12.138686329185784, 12.163844228313632, 12.189002127441476, 12.214160026569324, 12.239317925697172, 12.264475824825016, 12.289633723952864, 12.314791623080708, 12.339949522208556, 12.3651074213364, 12.390265320464248, 12.415423219592093, 12.44058111871994, 12.465739017847785, 12.490896916975633, 12.516054816103477, 12.541212715231325, 12.566370614359172]}}, \"type\": \"ColumnDataSource\", \"id\": \"6bb51df3-2a4e-4e7a-a6a8-ec9bd0e364a3\"}, {\"attributes\": {\"plot\": {\"subtype\": \"Chart\", \"type\": \"Plot\", \"id\": \"33844f0c-9586-49f9-9687-381d6405b05f\"}, \"overlay\": {\"type\": \"BoxAnnotation\", \"id\": \"c9ebf238-8254-49b6-8240-7db0bec02a54\"}}, \"type\": \"BoxZoomTool\", \"id\": \"03261724-39eb-4fbf-8a49-70bacfb82c84\"}]}, \"title\": \"Bokeh Application\"}};\n",
       "            var render_items = [{\"notebook_comms_target\": \"9e311858-db3f-476a-9146-a9ddaa8360b7\", \"docid\": \"2a8ec806-d2bc-4cfa-b87f-a9419413cfa4\", \"elementid\": \"1cfc3df9-0081-4fa4-b99f-b42b0e455c96\", \"modelid\": \"85e71ede-3df9-49d9-9670-b33175314e3d\"}];\n",
       "            \n",
       "            Bokeh.embed.embed_items(docs_json, render_items);\n",
       "        });\n",
       "      },\n",
       "      function(Bokeh) {\n",
       "      }\n",
       "    ];\n",
       "  \n",
       "    function run_inline_js() {\n",
       "      for (var i = 0; i < inline_js.length; i++) {\n",
       "        inline_js[i](window.Bokeh);\n",
       "      }\n",
       "    }\n",
       "  \n",
       "    if (window._bokeh_is_loading === 0) {\n",
       "      console.log(\"Bokeh: BokehJS loaded, going straight to plotting\");\n",
       "      run_inline_js();\n",
       "    } else {\n",
       "      load_libs(js_urls, function() {\n",
       "        console.log(\"Bokeh: BokehJS plotting callback run at\", now());\n",
       "        run_inline_js();\n",
       "      });\n",
       "    }\n",
       "  }(this));\n",
       "</script>"
      ]
     },
     "metadata": {},
     "output_type": "display_data"
    },
    {
     "data": {
      "text/plain": [
       "<bokeh.io._CommsHandle at 0x95a7dd8>"
      ]
     },
     "execution_count": 10,
     "metadata": {},
     "output_type": "execute_result"
    }
   ],
   "source": [
    "show(f)"
   ]
  },
  {
   "cell_type": "markdown",
   "metadata": {},
   "source": [
    "### Conclusion"
   ]
  },
  {
   "cell_type": "markdown",
   "metadata": {
    "collapsed": true
   },
   "source": [
    "In conclusion, we found out skFlow is only good if you want a quick and easy neural net to learn data, but it is unrealistic for actual applications because it is too specialized and not very customizable. The next step in our neural network exploration would be to learn how to use TensorFlow so that we can customize it based on our needs and optimize it better.\n",
    "\n",
    "We were able to train with reasonable accuracy on linear functions, continuous functions, and a sine function which has clear repetition. Some of them were able to extrapolate further past the training data, which tells us it did a great job at generalizing the function overall. Others we are currently unsuccessful with extrapolating much past the training data. We had a difficult time trying to find a function it was not able to approximate in the given training range. The only one unable to learn was an approximation function for the fibonacci sequence. The fibonacci sequence is best learned by a recurrant neural network, which is not in the scope of this class."
   ]
  },
  {
   "cell_type": "markdown",
   "metadata": {},
   "source": [
    "### Links\n",
    "We define several different functions we can use to train a neural network in the [ProjectReportSupplement.ipynb](ProjectReportSupplement.ipynb) notebook.\n",
    "\n",
    "The Universal Law of Approximation is explained here: [http://neuralnetworksanddeeplearning.com/chap4.html]\n",
    "\n",
    "Our code is open sourced on GitHub here:\n",
    "[https://github.com/derrowap/MA490-MachineLearning-FinalProject/]"
   ]
  },
  {
   "cell_type": "code",
   "execution_count": null,
   "metadata": {
    "collapsed": true
   },
   "outputs": [],
   "source": []
  }
 ],
 "metadata": {
  "kernelspec": {
   "display_name": "Python 2",
   "language": "python",
   "name": "python2"
  },
  "language_info": {
   "codemirror_mode": {
    "name": "ipython",
    "version": 2
   },
   "file_extension": ".py",
   "mimetype": "text/x-python",
   "name": "python",
   "nbconvert_exporter": "python",
   "pygments_lexer": "ipython2",
   "version": "2.7.11"
  }
 },
 "nbformat": 4,
 "nbformat_minor": 0
}
