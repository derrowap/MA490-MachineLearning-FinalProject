{
 "cells": [
  {
   "cell_type": "markdown",
   "metadata": {},
   "source": [
    "# Neural Networks Attempt to Mimic Several Functions\n",
    "#### Team Leader: Austin Derrow-Pinion\n",
    "#### Team Members: Kice Sanders, Aaron Bartee"
   ]
  },
  {
   "cell_type": "markdown",
   "metadata": {},
   "source": [
    "### Table of Contents\n",
    " \n",
    " * [Executive Summary](#Executive-Summary)\n",
    " * [Introduction](#Introduction)\n",
    " * [Data Preparation](#Data Preparation)\n",
    " * [Links](#Links)\n",
    " * [Supplement](ProjectReportSupplement.ipynb) "
   ]
  },
  {
   "cell_type": "markdown",
   "metadata": {},
   "source": [
    "### Executive Summary\n",
    "In this study, we attempt to compare the power of neural networks’ ability to mimic functions with the functions themselves. The Universal Approximation Theorem states that for any continuous function, there exists a feed-forward network with only a single hidden layer that can approximate it. This is motivation for us to try out different functions and try to train a neural network to accurately approximate as many as we can. For functions that are not approximated well, we can observe the function and try to learn more about neural networks as to why it did not learn the function."
   ]
  },
  {
   "cell_type": "markdown",
   "metadata": {},
   "source": [
    "### Introduction\n",
    "The overall objective is to explore the complexity of problems which are able to be solved by applying learning with neural networks. We have programmed several different functions in Python, all of which range in complexity. We can have a loop that feeds in a very large number of inputs to these functions and records the output in order to generate a large amount of data. The programs were made by us so we can generate as much data as we need to train the neural network. \n",
    "\n",
    "With this data, we will use supervised learning by feeding the network with the input data and using back-propagation to update the weights in the network. The neural network will be programmed using TensorFlow. We have been going through tutorials on TensorFlow to learn how to use it, but have not been able to learn how to use this kind of neural network just yet."
   ]
  },
  {
   "cell_type": "markdown",
   "metadata": {},
   "source": [
    "### Data Preparation\n",
    "Since all functions are written by us, we are able to randomly generate inputs for each function and record the output. This allows us to have as much data as needed to observe the performance of the neural network.\n",
    "\n",
    "Below are examples of how we will generate the data from the functions. Making the inputs random will allow their to be an even distribution of cases in which the neural network will be exposed to. \n",
    "\n",
    "Each example is a 2-dimensional array, such that the first column is the input data and the second column is the output data. By changing the variable, TRAINING_EXAMPLES, we can increase the data generated for the network to train or test on."
   ]
  },
  {
   "cell_type": "code",
   "execution_count": 1,
   "metadata": {
    "collapsed": false
   },
   "outputs": [
    {
     "ename": "ImportError",
     "evalue": "No module named ProjectReportSupplement",
     "output_type": "error",
     "traceback": [
      "\u001b[1;31m---------------------------------------------------------------------------\u001b[0m",
      "\u001b[1;31mImportError\u001b[0m                               Traceback (most recent call last)",
      "\u001b[1;32m<ipython-input-1-ab45b16b1248>\u001b[0m in \u001b[0;36m<module>\u001b[1;34m()\u001b[0m\n\u001b[0;32m      1\u001b[0m \u001b[1;32mimport\u001b[0m \u001b[0mnumpy\u001b[0m \u001b[1;32mas\u001b[0m \u001b[0mnp\u001b[0m\u001b[1;33m\u001b[0m\u001b[0m\n\u001b[1;32m----> 2\u001b[1;33m \u001b[1;32mfrom\u001b[0m \u001b[0mProjectReportSupplement\u001b[0m \u001b[1;32mimport\u001b[0m \u001b[1;33m*\u001b[0m\u001b[1;33m\u001b[0m\u001b[0m\n\u001b[0m\u001b[0;32m      3\u001b[0m \u001b[1;33m\u001b[0m\u001b[0m\n\u001b[0;32m      4\u001b[0m \u001b[1;31m# Inputs are 2x2 integer matrices, output is the determinant.\u001b[0m\u001b[1;33m\u001b[0m\u001b[1;33m\u001b[0m\u001b[0m\n\u001b[0;32m      5\u001b[0m \u001b[0mTRAINING_EXAMPLES\u001b[0m \u001b[1;33m=\u001b[0m \u001b[1;36m10\u001b[0m\u001b[1;33m\u001b[0m\u001b[0m\n",
      "\u001b[1;31mImportError\u001b[0m: No module named ProjectReportSupplement"
     ]
    }
   ],
   "source": [
    "import numpy as np\n",
    "from trainingFunctions import *\n",
    "\n",
    "# Inputs are 2x2 integer matrices, output is the determinant.\n",
    "TRAINING_EXAMPLES = 10\n",
    "determinant_example = []\n",
    "for x in range(TRAINING_EXAMPLES):\n",
    "    input_ = [[np.random.randint(0,100), np.random.randint(0,100)],\n",
    "             [np.random.randint(0,100), np.random.randint(0,100)]]\n",
    "    output = determinant(input_)\n",
    "    determinant_example.append([input_, output])\n",
    "print(\"Training data for determinant function:\")\n",
    "print(determinant_example)"
   ]
  },
  {
   "cell_type": "code",
   "execution_count": 10,
   "metadata": {
    "collapsed": false
   },
   "outputs": [
    {
     "name": "stdout",
     "output_type": "stream",
     "text": [
      "Training data for fib function:\n",
      "[[           51 20365011074]\n",
      " [           62 4052739537881]\n",
      " [           33       3524578]\n",
      " [           26        121393]\n",
      " [           13           233]\n",
      " [           21         10946]\n",
      " [           47 2971215073]\n",
      " [           45    1134903170]\n",
      " [           57 365435296162]\n",
      " [           28        317811]]\n"
     ]
    }
   ],
   "source": [
    "# fill an 2D array, mapping inputs to the fib function\n",
    "# to the output of the fib function\n",
    "TRAINING_EXAMPLES = 10\n",
    "fib_example = np.ndarray(shape=(TRAINING_EXAMPLES,2), dtype='int64')\n",
    "for x in range(len(fib_example)):\n",
    "    input_ = int(np.random.randint(1,70))\n",
    "    fib_example[x,] = [input_, fib(input_)]\n",
    "print(\"Training data for fib function:\")\n",
    "print(fib_example)"
   ]
  },
  {
   "cell_type": "code",
   "execution_count": 9,
   "metadata": {
    "collapsed": false
   },
   "outputs": [
    {
     "name": "stdout",
     "output_type": "stream",
     "text": [
      "Training data for evenParity function:\n",
      "[[   9    0]\n",
      " [ 264    0]\n",
      " [ 994    0]\n",
      " [1988    0]\n",
      " [ 749    1]\n",
      " [1398    1]\n",
      " [ 521    1]\n",
      " [ 109    1]\n",
      " [1714    0]\n",
      " [1243    1]]\n"
     ]
    }
   ],
   "source": [
    "# fill an 2D array, mapping inputs to the evenParity function\n",
    "# to the output of the evenParity function\n",
    "TRAINING_EXAMPLES = 10\n",
    "evenParity_example = np.ndarray(shape=(TRAINING_EXAMPLES,2), dtype='int64')\n",
    "for x in range(len(evenParity_example)):\n",
    "    input_ = int(np.random.randint(1,2000))\n",
    "    evenParity_example[x,] = [input_, evenParity(input_)]\n",
    "print(\"Training data for evenParity function:\")\n",
    "print(evenParity_example)"
   ]
  },
  {
   "cell_type": "code",
   "execution_count": 8,
   "metadata": {
    "collapsed": false
   },
   "outputs": [
    {
     "name": "stdout",
     "output_type": "stream",
     "text": [
      "Training data for oddParity function:\n",
      "[[ 322    0]\n",
      " [1231    0]\n",
      " [ 914    0]\n",
      " [  67    0]\n",
      " [ 488    0]\n",
      " [ 175    1]\n",
      " [ 488    0]\n",
      " [1368    0]\n",
      " [1198    1]\n",
      " [ 980    1]]\n"
     ]
    }
   ],
   "source": [
    "# fill an 2D array, mapping inputs to the oddParity function\n",
    "# to the output of the oddParity function\n",
    "TRAINING_EXAMPLES = 10\n",
    "oddParity_example = np.ndarray(shape=(TRAINING_EXAMPLES, 2), dtype='int64')\n",
    "for x in range(len(oddParity_example)):\n",
    "    input_ = int(np.random.randint(1,2000))\n",
    "    oddParity_example[x,] = [input_, oddParity(input_)]\n",
    "print(\"Training data for oddParity function:\")\n",
    "print(oddParity_example)"
   ]
  },
  {
   "cell_type": "code",
   "execution_count": 7,
   "metadata": {
    "collapsed": false
   },
   "outputs": [
    {
     "name": "stdout",
     "output_type": "stream",
     "text": [
      "Readable data:\n",
      "[['bjbfbfhtdnuaolkhpvqdnwipkgntjyckykhdgdy', False], ['pvxekfyyfkexvp', True], ['vqheivktqwhdtvsiaobqdfddfdqboaisvtdhwqtkviehqv', True], ['ibrmhkaeykoyjerytuedauwcpeeicrwguvggncmkkbhjkkjhbkkmcnggvugwrcieepcwuadeutyrejyokyeakhmrbi', True], ['lcultlivdnywdxqxbkoisyktuprhriqqirhrputkysiokbxqxdwyndviltlucl', True], ['fcnts', False], ['mwtogkhqkkqhkgotwm', True], ['dmqhqtdbrwlswohvwemrudikafcsbctfxowxbqgwbw', False], ['vendbctoiaxrhrdqelidviyiayyxmdvjanggymodrwpxmbbmxpwrdomyggnajvdmxyyaiyivdileqdrhrxaiotcbdnev', True], ['ufvfyfkcckfyfvfu', True], ['pneumonoultramicroscopicsilicovolcanoconiosissisoinoconaclovociliscipocsorcimartluonomuenp', True]]\n",
      "------------------------------------------------------------------------\n",
      "Data to feed to network:\n",
      "[[[98, 106, 98, 102, 98, 102, 104, 116, 100, 110, 117, 97, 111, 108, 107, 104, 112, 118, 113, 100, 110, 119, 105, 112, 107, 103, 110, 116, 106, 121, 99, 107, 121, 107, 104, 100, 103, 100, 121], False], [[112, 118, 120, 101, 107, 102, 121, 121, 102, 107, 101, 120, 118, 112], True], [[118, 113, 104, 101, 105, 118, 107, 116, 113, 119, 104, 100, 116, 118, 115, 105, 97, 111, 98, 113, 100, 102, 100, 100, 102, 100, 113, 98, 111, 97, 105, 115, 118, 116, 100, 104, 119, 113, 116, 107, 118, 105, 101, 104, 113, 118], True], [[105, 98, 114, 109, 104, 107, 97, 101, 121, 107, 111, 121, 106, 101, 114, 121, 116, 117, 101, 100, 97, 117, 119, 99, 112, 101, 101, 105, 99, 114, 119, 103, 117, 118, 103, 103, 110, 99, 109, 107, 107, 98, 104, 106, 107, 107, 106, 104, 98, 107, 107, 109, 99, 110, 103, 103, 118, 117, 103, 119, 114, 99, 105, 101, 101, 112, 99, 119, 117, 97, 100, 101, 117, 116, 121, 114, 101, 106, 121, 111, 107, 121, 101, 97, 107, 104, 109, 114, 98, 105], True], [[108, 99, 117, 108, 116, 108, 105, 118, 100, 110, 121, 119, 100, 120, 113, 120, 98, 107, 111, 105, 115, 121, 107, 116, 117, 112, 114, 104, 114, 105, 113, 113, 105, 114, 104, 114, 112, 117, 116, 107, 121, 115, 105, 111, 107, 98, 120, 113, 120, 100, 119, 121, 110, 100, 118, 105, 108, 116, 108, 117, 99, 108], True], [[102, 99, 110, 116, 115], False], [[109, 119, 116, 111, 103, 107, 104, 113, 107, 107, 113, 104, 107, 103, 111, 116, 119, 109], True], [[100, 109, 113, 104, 113, 116, 100, 98, 114, 119, 108, 115, 119, 111, 104, 118, 119, 101, 109, 114, 117, 100, 105, 107, 97, 102, 99, 115, 98, 99, 116, 102, 120, 111, 119, 120, 98, 113, 103, 119, 98, 119], False], [[118, 101, 110, 100, 98, 99, 116, 111, 105, 97, 120, 114, 104, 114, 100, 113, 101, 108, 105, 100, 118, 105, 121, 105, 97, 121, 121, 120, 109, 100, 118, 106, 97, 110, 103, 103, 121, 109, 111, 100, 114, 119, 112, 120, 109, 98, 98, 109, 120, 112, 119, 114, 100, 111, 109, 121, 103, 103, 110, 97, 106, 118, 100, 109, 120, 121, 121, 97, 105, 121, 105, 118, 100, 105, 108, 101, 113, 100, 114, 104, 114, 120, 97, 105, 111, 116, 99, 98, 100, 110, 101, 118], True], [[117, 102, 118, 102, 121, 102, 107, 99, 99, 107, 102, 121, 102, 118, 102, 117], True], [[112, 110, 101, 117, 109, 111, 110, 111, 117, 108, 116, 114, 97, 109, 105, 99, 114, 111, 115, 99, 111, 112, 105, 99, 115, 105, 108, 105, 99, 111, 118, 111, 108, 99, 97, 110, 111, 99, 111, 110, 105, 111, 115, 105, 115, 115, 105, 115, 111, 105, 110, 111, 99, 111, 110, 97, 99, 108, 111, 118, 111, 99, 105, 108, 105, 115, 99, 105, 112, 111, 99, 115, 111, 114, 99, 105, 109, 97, 114, 116, 108, 117, 111, 110, 111, 109, 117, 101, 110, 112], True]]\n"
     ]
    }
   ],
   "source": [
    "# Get training data for the isPalindrome function\n",
    "# using a range of letters from 'a' to 'z' (97 - 122)\n",
    "\n",
    "TRAINING_EXAMPLES = 10\n",
    "readable_data = []\n",
    "real_data = []\n",
    "for x in range(TRAINING_EXAMPLES):\n",
    "    # generate 10 training examples\n",
    "    size_of_string = np.random.randint(1,50) # range can increase\n",
    "    input_ = [np.random.randint(97, 122) for x in range(size_of_string)]\n",
    "    if np.random.randint(1,3) == 1:\n",
    "        # half the time, make it a guaranteed palindrome\n",
    "        input_ = makePalindrome(input_)\n",
    "    output = isPalindrome(input_)\n",
    "    real_data.append([input_, output])\n",
    "    input_ = \"\".join([chr(i) for i in input_])\n",
    "    readable_data.append([input_, output])\n",
    "\n",
    "# Manually test this palindrome. A disease that causes inflammation\n",
    "# in the lungs from inhaling very fine silica dust.\n",
    "input_ = makePalindrome('pneumonoultramicroscopicsilicovolcanoconiosis')\n",
    "output = isPalindrome(input_)\n",
    "readable_data.append([input_, output])\n",
    "input_ = [ord(i) for i in input_]\n",
    "real_data.append([input_, output])\n",
    "\n",
    "print(\"Readable data:\")\n",
    "print(readable_data)\n",
    "print('------------------------------------------------------------------------')\n",
    "print(\"Data to feed to network:\")\n",
    "print(real_data)"
   ]
  },
  {
   "cell_type": "markdown",
   "metadata": {},
   "source": [
    "### Links\n",
    "We define several different functions we can use to train a neural network in the [ProjectReportSupplement.ipynb](ProjectReportSupplement.ipynb) notebook.\n",
    "\n",
    "The Universal Law of Approximation is explained here: [http://neuralnetworksanddeeplearning.com/chap4.html]\n",
    "\n",
    "Our code is open sourced on GitHub here:\n",
    "[https://github.com/derrowap/MA490-MachineLearning-FinalProject/blob/master/trainingFunctions.py]"
   ]
  }
 ],
 "metadata": {
  "kernelspec": {
   "display_name": "Python 2",
   "language": "python",
   "name": "python2"
  },
  "language_info": {
   "codemirror_mode": {
    "name": "ipython",
    "version": 2
   },
   "file_extension": ".py",
   "mimetype": "text/x-python",
   "name": "python",
   "nbconvert_exporter": "python",
   "pygments_lexer": "ipython2",
   "version": "2.7.11"
  }
 },
 "nbformat": 4,
 "nbformat_minor": 0
}
